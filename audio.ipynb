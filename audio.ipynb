{
 "cells": [
  {
   "cell_type": "code",
   "execution_count": 1,
   "id": "3c89c264-a042-4567-ba06-88830d46f93f",
   "metadata": {},
   "outputs": [],
   "source": [
    "import os\n",
    "import librosa\n",
    "import tensorflow as tf\n",
    "import tensorflow_hub as hub\n",
    "from pydub import AudioSegment\n",
    "from sklearn.metrics.pairwise import cosine_similarity\n",
    "from scipy.spatial.distance import cosine"
   ]
  },
  {
   "cell_type": "code",
   "execution_count": 2,
   "id": "a7ef989e-75bf-4fc5-9c56-cb932027ba3b",
   "metadata": {},
   "outputs": [],
   "source": [
    "import pkg_resources\n",
    "pkg_resources.require(\"numpy==1.26.4\")\n",
    "import numpy as np"
   ]
  },
  {
   "cell_type": "code",
   "execution_count": 22,
   "id": "6d29db6f-e8fc-4f98-baac-1f208bcca104",
   "metadata": {},
   "outputs": [],
   "source": [
    "# моделька\n",
    "model = hub.load('https://tfhub.dev/google/yamnet/1')\n",
    "\n",
    "def extract_audio_from_video(video_path, output_audio_path):\n",
    "\n",
    "    try:\n",
    "        audio = AudioSegment.from_file(video_path)\n",
    "        audio.export(output_audio_path, format=\"wav\")\n",
    "        return True\n",
    "    except Exception as e:\n",
    "        print(f\"Ошибка при извлечении аудио из {video_path}: {e}\")\n",
    "        return False\n",
    "\n",
    "def augment_audio(y, sr):\n",
    "    \n",
    "    # белый шум\n",
    "    noise = np.random.randn(len(y))\n",
    "    y_noise = y + 0.005 * noise\n",
    "\n",
    "    # сдвиг по времени\n",
    "    shift = np.roll(y, sr // 10)\n",
    "\n",
    "    # растяжение времени\n",
    "    y_stretch = librosa.effects.time_stretch(y, rate=0.8)\n",
    "\n",
    "    # громкость\n",
    "    y_augmented = librosa.effects.preemphasis(y_stretch)\n",
    "    \n",
    "    return [y_noise, shift, y_stretch, y_augmented]\n",
    "\n",
    "def extract_audio_embeddings(audio_path):\n",
    "\n",
    "    try:\n",
    "        # частота дискретизации - 16 кГц\n",
    "        y, sr = librosa.load(audio_path, sr=16000)\n",
    "        y = y.astype(np.float32)\n",
    "\n",
    "        augmented_audios = augment_audio(y, sr)\n",
    "        \n",
    "        embeddings = []\n",
    "        for augmented_audio in [y] + augmented_audios:\n",
    "           \n",
    "            waveform = tf.convert_to_tensor(augmented_audio, dtype=tf.float32)\n",
    "          \n",
    "            waveform = tf.reshape(waveform, [-1])  \n",
    "            scores, embedding, _ = model(waveform) \n",
    "\n",
    "            embeddings.append(tf.reduce_mean(embedding, axis=0).numpy())\n",
    "        \n",
    "        embeddings = np.mean(embeddings, axis=0)\n",
    "        \n",
    "        return embeddings\n",
    "    except Exception as e:\n",
    "        print(f\"Ошибка при извлечении эмбеддингов из {audio_path}: {e}\")\n",
    "        return None\n",
    "\n",
    "def find_duplicate_videos(video_folder, similarity_threshold=0.8):\n",
    "\n",
    "    audio_embeddings = {}\n",
    "    duplicates = []\n",
    "    \n",
    "    # Перебираем все файлы в папке\n",
    "    for file_name in os.listdir(video_folder):\n",
    "        video_path = os.path.join(video_folder, file_name)\n",
    "        \n",
    "        if not video_path.lower().endswith(('.mp4', '.avi', '.mov', '.mkv')):\n",
    "            continue \n",
    "        \n",
    "        # Путь для временного хранения аудио\n",
    "        temp_audio_path = os.path.join(video_folder, f\"{file_name}.wav\")\n",
    "        \n",
    "        if extract_audio_from_video(video_path, temp_audio_path):\n",
    "            audio_embedding = extract_audio_embeddings(temp_audio_path)\n",
    "            \n",
    "            if audio_embedding is not None:\n",
    "                for existing_video, existing_embedding in audio_embeddings.items():\n",
    "                    similarity = 1 - cosine(audio_embedding, existing_embedding)\n",
    "                    if similarity > similarity_threshold:\n",
    "                        duplicates.append((video_path, existing_video, similarity))\n",
    "                        break\n",
    "                \n",
    "                audio_embeddings[video_path] = audio_embedding\n",
    "            \n",
    "            if os.path.exists(temp_audio_path):\n",
    "                os.remove(temp_audio_path)\n",
    "    \n",
    "    return duplicates\n",
    "\n",
    "def find_duplicates_in_folder(video_folder, similarity_threshold=0.8):\n",
    "    \n",
    "    duplicates = find_duplicate_videos(video_folder, similarity_threshold=similarity_threshold)\n",
    "    \n",
    "    if duplicates:\n",
    "        for duplicate, original, similarity in duplicates:\n",
    "            print(f\"{duplicate} {original} | {similarity:.2f}\")"
   ]
  },
  {
   "cell_type": "code",
   "execution_count": 23,
   "id": "3b1d39c1-f74e-489f-b949-f0b1a0093d0f",
   "metadata": {},
   "outputs": [
    {
     "name": "stdout",
     "output_type": "stream",
     "text": [
      "video/1.avi => video/1.mp4 | 0.92\n",
      "video/2.avi => video/2.mp4 | 0.99\n",
      "video/3.avi => video/3.mp4 | 0.99\n"
     ]
    }
   ],
   "source": [
    "video_folder = 'video'\n",
    "similarity_threshold = 0.9\n",
    "find_duplicates_in_folder(video_folder, similarity_threshold)"
   ]
  },
  {
   "cell_type": "code",
   "execution_count": null,
   "id": "25c754f0",
   "metadata": {},
   "outputs": [],
   "source": []
  }
 ],
 "metadata": {
  "kernelspec": {
   "display_name": "Python 3 (ipykernel)",
   "language": "python",
   "name": "python3"
  },
  "language_info": {
   "codemirror_mode": {
    "name": "ipython",
    "version": 3
   },
   "file_extension": ".py",
   "mimetype": "text/x-python",
   "name": "python",
   "nbconvert_exporter": "python",
   "pygments_lexer": "ipython3",
   "version": "3.10.12"
  }
 },
 "nbformat": 4,
 "nbformat_minor": 5
}
