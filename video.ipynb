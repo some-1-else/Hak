{
 "cells": [
  {
   "cell_type": "code",
   "execution_count": 1,
   "id": "f33650c1-3098-4576-bba2-262008631a02",
   "metadata": {},
   "outputs": [],
   "source": [
    "import os\n",
    "import cv2\n",
    "import torch\n",
    "import torchvision.models as models\n",
    "import torchvision.transforms as transforms\n",
    "from torch.nn.functional import cosine_similarity\n",
    "from tqdm import tqdm"
   ]
  },
  {
   "cell_type": "code",
   "execution_count": 2,
   "id": "b39c5799-49f9-4ff3-b2e1-a75210e55a5a",
   "metadata": {},
   "outputs": [],
   "source": [
    "def extract_video_features(video_path, model, transform, sample_frames=10, frame_size=(224, 224)):\n",
    "    cap = cv2.VideoCapture(video_path)\n",
    "    frame_count = int(cap.get(cv2.CAP_PROP_FRAME_COUNT))\n",
    "    interval = max(frame_count // sample_frames, 1)\n",
    "    \n",
    "    features = []\n",
    "    for i in range(0, frame_count, interval):\n",
    "        cap.set(cv2.CAP_PROP_POS_FRAMES, i)\n",
    "        ret, frame = cap.read()\n",
    "        if not ret:\n",
    "            break\n",
    "        \n",
    "        frame = cv2.resize(frame, frame_size)\n",
    "        frame_rgb = cv2.cvtColor(frame, cv2.COLOR_BGR2RGB)\n",
    "        frame_tensor = transform(frame_rgb).unsqueeze(0)\n",
    "        \n",
    "        with torch.no_grad():\n",
    "            feature = model(frame_tensor).squeeze()\n",
    "        \n",
    "        features.append(feature)\n",
    "    \n",
    "    cap.release()\n",
    "    \n",
    "    return torch.stack(features).mean(dim=0) if features else None\n",
    "\n",
    "def find_duplicate_videos(directory, model_name = 'resnet50', sample_frames=10, frame_size=(224, 224), threshold=0.9):\n",
    "\n",
    "    model = getattr(models, model_name)(pretrained=True)\n",
    "    model = torch.nn.Sequential(*(list(model.children())[:-1])) \n",
    "    model.eval()\n",
    "    \n",
    "    # Define transform\n",
    "    transform = transforms.Compose([\n",
    "        transforms.ToPILImage(),\n",
    "        transforms.Resize(frame_size),\n",
    "        transforms.ToTensor(),\n",
    "        transforms.Normalize(mean=[0.485, 0.456, 0.406], std=[0.229, 0.224, 0.225])\n",
    "    ])\n",
    "    \n",
    "    video_files = [os.path.join(directory, f) for f in os.listdir(directory) if f.endswith(('.mp4', '.avi', '.mkv', '.mov'))]\n",
    "    video_features = {}\n",
    "    \n",
    "    for video_file in tqdm(video_files, desc=\"Extracting video features\"):\n",
    "        video_features[video_file] = extract_video_features(video_file, model, transform, sample_frames, frame_size)\n",
    "    \n",
    "    duplicates = []\n",
    "    compared_videos = set()\n",
    "    video_files_sorted = sorted(video_features.keys())\n",
    "    \n",
    "    for i, video1 in enumerate(video_files_sorted):\n",
    "        for j, video2 in enumerate(video_files_sorted[i + 1:], i + 1):\n",
    "            if (video1, video2) in compared_videos or (video2, video1) in compared_videos:\n",
    "                continue\n",
    "            if video_features[video1] is None or video_features[video2] is None:\n",
    "                continue\n",
    "            similarity = cosine_similarity(video_features[video1].unsqueeze(0), video_features[video2].unsqueeze(0)).item()\n",
    "            if similarity > threshold:\n",
    "                duplicates.append((video1, video2, similarity))\n",
    "            compared_videos.add((video1, video2))\n",
    "    \n",
    "    return duplicates"
   ]
  },
  {
   "cell_type": "code",
   "execution_count": 15,
   "id": "4f5623fc-5078-4600-a950-d618accaf2ef",
   "metadata": {},
   "outputs": [
    {
     "name": "stderr",
     "output_type": "stream",
     "text": [
      "Extracting video features: 100%|██████████████████| 6/6 [00:02<00:00,  2.97it/s]"
     ]
    },
    {
     "name": "stdout",
     "output_type": "stream",
     "text": [
      "Found duplicate videos:\n",
      "video/1.avi video/1.mp4 | 0.9716\n",
      "video/2.avi video/2.mp4 | 0.9523\n"
     ]
    },
    {
     "name": "stderr",
     "output_type": "stream",
     "text": [
      "\n"
     ]
    }
   ],
   "source": [
    "video_directory = \"video\"\n",
    "\n",
    "duplicates = find_duplicate_videos(\n",
    "    directory = video_directory,\n",
    "    model_name ='resnet50',  # 'resnet152' 'resnet101'\n",
    "    sample_frames = 5,\n",
    "    frame_size =(224, 224),\n",
    "    threshold = 0.9\n",
    ")\n",
    "\n",
    "# Output the duplicates\n",
    "if duplicates:\n",
    "    print(\"Found duplicate videos:\")\n",
    "    for dup in duplicates:\n",
    "        print(f\"{dup[0]} {dup[1]} | {dup[2]:.4f}\")\n"
   ]
  }
 ],
 "metadata": {
  "kernelspec": {
   "display_name": "Python 3 (ipykernel)",
   "language": "python",
   "name": "python3"
  },
  "language_info": {
   "codemirror_mode": {
    "name": "ipython",
    "version": 3
   },
   "file_extension": ".py",
   "mimetype": "text/x-python",
   "name": "python",
   "nbconvert_exporter": "python",
   "pygments_lexer": "ipython3",
   "version": "3.10.12"
  }
 },
 "nbformat": 4,
 "nbformat_minor": 5
}
