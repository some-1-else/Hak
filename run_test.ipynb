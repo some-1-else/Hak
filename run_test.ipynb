{
 "cells": [
  {
   "cell_type": "code",
   "execution_count": 16,
   "id": "8e728ea0-8695-4f9e-b958-fd93863689f8",
   "metadata": {},
   "outputs": [],
   "source": [
    "json.dump({}, open('Hakaton/models/database_test.json', 'w'))"
   ]
  },
  {
   "cell_type": "code",
   "execution_count": null,
   "id": "d7085a59",
   "metadata": {},
   "outputs": [
    {
     "name": "stderr",
     "output_type": "stream",
     "text": [
      "/usr/local/lib/python3.10/dist-packages/torchvision/models/_utils.py:208: UserWarning: The parameter 'pretrained' is deprecated since 0.13 and may be removed in the future, please use 'weights' instead.\n",
      "  warnings.warn(\n",
      "/usr/local/lib/python3.10/dist-packages/torchvision/models/_utils.py:223: UserWarning: Arguments other than a weight enum or `None` for 'weights' are deprecated since 0.13 and may be removed in the future. The current behavior is equivalent to passing `weights=ResNet50_Weights.IMAGENET1K_V1`. You can also use `weights=ResNet50_Weights.DEFAULT` to get the most up-to-date weights.\n",
      "  warnings.warn(msg)\n",
      "1it [00:03,  3.50s/it]"
     ]
    },
    {
     "name": "stdout",
     "output_type": "stream",
     "text": [
      "Добавили в БД: 49577a11-51b9-490a-b1f0-df17335219de\n"
     ]
    },
    {
     "name": "stderr",
     "output_type": "stream",
     "text": [
      "2it [00:11,  6.40s/it]"
     ]
    },
    {
     "name": "stdout",
     "output_type": "stream",
     "text": [
      "Добавили в БД: 4e1f7fad-5008-4216-9849-550a00f1e35f\n"
     ]
    },
    {
     "name": "stderr",
     "output_type": "stream",
     "text": [
      "3it [00:16,  5.42s/it]"
     ]
    },
    {
     "name": "stdout",
     "output_type": "stream",
     "text": [
      "Добавили в БД: 337fdbe6-2bc7-4bc7-931e-d94ada927ede\n"
     ]
    },
    {
     "name": "stderr",
     "output_type": "stream",
     "text": [
      "4it [00:18,  4.24s/it]"
     ]
    },
    {
     "name": "stdout",
     "output_type": "stream",
     "text": [
      "Добавили в БД: 35138a88-0249-405e-91b4-8a36b1e2e730\n"
     ]
    },
    {
     "name": "stderr",
     "output_type": "stream",
     "text": [
      "5it [00:22,  4.22s/it]"
     ]
    },
    {
     "name": "stdout",
     "output_type": "stream",
     "text": [
      "Добавили в БД: 322f4312-3d46-401b-8cd9-80a0d06347ed\n"
     ]
    },
    {
     "name": "stderr",
     "output_type": "stream",
     "text": [
      "6it [00:31,  5.64s/it]"
     ]
    },
    {
     "name": "stdout",
     "output_type": "stream",
     "text": [
      "Добавили в БД: 154ef8f1-b0ce-49cb-b5b1-34d8f975875d\n"
     ]
    },
    {
     "name": "stderr",
     "output_type": "stream",
     "text": [
      "7it [00:40,  6.96s/it]"
     ]
    },
    {
     "name": "stdout",
     "output_type": "stream",
     "text": [
      "Добавили в БД: 1c529118-dd4f-4c2d-a01a-1c5bf363ee4b\n"
     ]
    },
    {
     "name": "stderr",
     "output_type": "stream",
     "text": [
      "8it [00:45,  6.09s/it]"
     ]
    },
    {
     "name": "stdout",
     "output_type": "stream",
     "text": [
      "Добавили в БД: 22d891cc-563a-48c9-9b6e-368829598e91\n"
     ]
    },
    {
     "name": "stderr",
     "output_type": "stream",
     "text": [
      "9it [00:48,  5.34s/it]"
     ]
    },
    {
     "name": "stdout",
     "output_type": "stream",
     "text": [
      "Добавили в БД: 22ee80a3-d9ef-48d4-83d7-9c97cc7030c2\n"
     ]
    },
    {
     "name": "stderr",
     "output_type": "stream",
     "text": [
      "10it [00:55,  5.72s/it]"
     ]
    },
    {
     "name": "stdout",
     "output_type": "stream",
     "text": [
      "Добавили в БД: 036cb3a9-4505-43e1-a781-b58534bfecce\n"
     ]
    },
    {
     "name": "stderr",
     "output_type": "stream",
     "text": [
      "11it [00:59,  5.31s/it]"
     ]
    },
    {
     "name": "stdout",
     "output_type": "stream",
     "text": [
      "Добавили в БД: 045265e5-0d4c-4372-b960-3087f685eb97\n"
     ]
    },
    {
     "name": "stderr",
     "output_type": "stream",
     "text": [
      "12it [01:02,  4.55s/it]"
     ]
    },
    {
     "name": "stdout",
     "output_type": "stream",
     "text": [
      "Добавили в БД: 1d1ad7f0-7e04-4f6c-bea5-58ef8c5d2b4e\n"
     ]
    },
    {
     "name": "stderr",
     "output_type": "stream",
     "text": [
      "13it [01:06,  4.47s/it]"
     ]
    },
    {
     "name": "stdout",
     "output_type": "stream",
     "text": [
      "Добавили в БД: 3efc354f-6f56-4427-983b-63030403bb6d\n"
     ]
    },
    {
     "name": "stderr",
     "output_type": "stream",
     "text": [
      "14it [01:13,  5.25s/it]"
     ]
    },
    {
     "name": "stdout",
     "output_type": "stream",
     "text": [
      "Добавили в БД: 1c2de832-9df0-46fe-88bb-d125596fdae1\n"
     ]
    },
    {
     "name": "stderr",
     "output_type": "stream",
     "text": [
      "15it [01:21,  5.92s/it]"
     ]
    },
    {
     "name": "stdout",
     "output_type": "stream",
     "text": [
      "Добавили в БД: 07b64719-3708-425b-addd-509879681642\n"
     ]
    },
    {
     "name": "stderr",
     "output_type": "stream",
     "text": [
      "16it [01:25,  5.26s/it]"
     ]
    },
    {
     "name": "stdout",
     "output_type": "stream",
     "text": [
      "Добавили в БД: 14543718-8b24-4c8a-b21a-9a8420fa9557\n"
     ]
    },
    {
     "name": "stderr",
     "output_type": "stream",
     "text": [
      "17it [01:33,  6.11s/it]"
     ]
    },
    {
     "name": "stdout",
     "output_type": "stream",
     "text": [
      "Добавили в БД: 1c13b1e2-ad67-496f-8571-63d8bcc75a01\n"
     ]
    },
    {
     "name": "stderr",
     "output_type": "stream",
     "text": [
      "18it [01:39,  6.14s/it]"
     ]
    },
    {
     "name": "stdout",
     "output_type": "stream",
     "text": [
      "Добавили в БД: 4620cee4-3432-4653-91ba-71c78e86b196\n"
     ]
    },
    {
     "name": "stderr",
     "output_type": "stream",
     "text": [
      "19it [01:43,  5.57s/it]"
     ]
    },
    {
     "name": "stdout",
     "output_type": "stream",
     "text": [
      "Добавили в БД: 360826c7-690e-40ac-b6be-19ac438924a0\n"
     ]
    },
    {
     "name": "stderr",
     "output_type": "stream",
     "text": [
      "20it [01:47,  4.94s/it]"
     ]
    },
    {
     "name": "stdout",
     "output_type": "stream",
     "text": [
      "Добавили в БД: 517d39e2-66c6-48f3-a8e4-f22b4de95f21\n"
     ]
    },
    {
     "name": "stderr",
     "output_type": "stream",
     "text": [
      "21it [01:50,  4.49s/it]"
     ]
    },
    {
     "name": "stdout",
     "output_type": "stream",
     "text": [
      "Добавили в БД: 5150146c-2ebe-48f4-84ef-363d6fb73b5b\n"
     ]
    },
    {
     "name": "stderr",
     "output_type": "stream",
     "text": [
      "22it [01:59,  5.84s/it]"
     ]
    },
    {
     "name": "stdout",
     "output_type": "stream",
     "text": [
      "Добавили в БД: 2c29d956-9c02-483f-ae8a-d934b9dd1f41\n"
     ]
    },
    {
     "name": "stderr",
     "output_type": "stream",
     "text": [
      "23it [02:02,  5.12s/it]"
     ]
    },
    {
     "name": "stdout",
     "output_type": "stream",
     "text": [
      "Добавили в БД: 3e31b2fa-5eda-451d-95a6-06a65c2fdcaf\n"
     ]
    },
    {
     "name": "stderr",
     "output_type": "stream",
     "text": [
      "24it [02:08,  5.13s/it]"
     ]
    },
    {
     "name": "stdout",
     "output_type": "stream",
     "text": [
      "Добавили в БД: 42fbf1a0-2f00-4194-9733-675e19947a9e\n"
     ]
    },
    {
     "name": "stderr",
     "output_type": "stream",
     "text": [
      "25it [02:14,  5.41s/it]"
     ]
    },
    {
     "name": "stdout",
     "output_type": "stream",
     "text": [
      "Добавили в БД: 0ba5a040-d115-4228-852b-8ce42c96657c\n"
     ]
    },
    {
     "name": "stderr",
     "output_type": "stream",
     "text": [
      "26it [02:19,  5.24s/it]"
     ]
    },
    {
     "name": "stdout",
     "output_type": "stream",
     "text": [
      "Добавили в БД: 099711b2-1f39-4b56-92c3-25194239b866\n"
     ]
    },
    {
     "name": "stderr",
     "output_type": "stream",
     "text": [
      "27it [02:27,  6.31s/it]"
     ]
    },
    {
     "name": "stdout",
     "output_type": "stream",
     "text": [
      "Добавили в БД: 31f0b3e9-2720-4cc8-b57b-bd7020af238e\n"
     ]
    },
    {
     "name": "stderr",
     "output_type": "stream",
     "text": [
      "28it [02:34,  6.33s/it]"
     ]
    },
    {
     "name": "stdout",
     "output_type": "stream",
     "text": [
      "Добавили в БД: 39d6dcff-212d-421c-bc0e-e05bdd8060d4\n"
     ]
    },
    {
     "name": "stderr",
     "output_type": "stream",
     "text": [
      "29it [02:38,  5.86s/it]"
     ]
    },
    {
     "name": "stdout",
     "output_type": "stream",
     "text": [
      "Добавили в БД: 049949e0-ad9d-49e0-9cc8-b311e4071f52\n"
     ]
    },
    {
     "name": "stderr",
     "output_type": "stream",
     "text": [
      "30it [02:44,  5.69s/it]"
     ]
    },
    {
     "name": "stdout",
     "output_type": "stream",
     "text": [
      "Добавили в БД: 123df5b5-b60a-4ad8-b7eb-bdc5c5a5216d\n"
     ]
    },
    {
     "name": "stderr",
     "output_type": "stream",
     "text": [
      "31it [02:48,  5.28s/it]"
     ]
    },
    {
     "name": "stdout",
     "output_type": "stream",
     "text": [
      "Добавили в БД: 244edefe-81f2-4f17-9806-add1f934b776\n"
     ]
    },
    {
     "name": "stderr",
     "output_type": "stream",
     "text": [
      "32it [02:55,  5.76s/it]"
     ]
    },
    {
     "name": "stdout",
     "output_type": "stream",
     "text": [
      "Добавили в БД: 197b9b9a-172e-4ad0-b44e-fb78dde3c4b5\n"
     ]
    },
    {
     "name": "stderr",
     "output_type": "stream",
     "text": [
      "33it [03:00,  5.57s/it]"
     ]
    },
    {
     "name": "stdout",
     "output_type": "stream",
     "text": [
      "Добавили в БД: 1c2a2bd7-a6b3-4767-a0d7-76dad47636e6\n"
     ]
    },
    {
     "name": "stderr",
     "output_type": "stream",
     "text": [
      "34it [03:06,  5.60s/it]"
     ]
    },
    {
     "name": "stdout",
     "output_type": "stream",
     "text": [
      "Добавили в БД: 0d21cfda-39e3-42b8-be97-aff5835036cc\n"
     ]
    },
    {
     "name": "stderr",
     "output_type": "stream",
     "text": [
      "35it [03:11,  5.62s/it]"
     ]
    },
    {
     "name": "stdout",
     "output_type": "stream",
     "text": [
      "Добавили в БД: 2cfd6af3-7df6-4afa-8c3b-c17236c83c03\n"
     ]
    },
    {
     "name": "stderr",
     "output_type": "stream",
     "text": [
      "36it [03:17,  5.48s/it]"
     ]
    },
    {
     "name": "stdout",
     "output_type": "stream",
     "text": [
      "Добавили в БД: 05c7017a-ba2f-4757-b3ee-e9ddf4e84918\n"
     ]
    },
    {
     "name": "stderr",
     "output_type": "stream",
     "text": [
      "37it [03:23,  5.80s/it]"
     ]
    },
    {
     "name": "stdout",
     "output_type": "stream",
     "text": [
      "Добавили в БД: 51584483-a52d-41cc-9a3b-d837f73b3b66\n"
     ]
    },
    {
     "name": "stderr",
     "output_type": "stream",
     "text": [
      "38it [03:32,  6.66s/it]"
     ]
    },
    {
     "name": "stdout",
     "output_type": "stream",
     "text": [
      "Добавили в БД: 122afbc7-875b-4faf-afef-54fcc8b5c22a\n"
     ]
    },
    {
     "name": "stderr",
     "output_type": "stream",
     "text": [
      "39it [03:43,  8.09s/it]"
     ]
    },
    {
     "name": "stdout",
     "output_type": "stream",
     "text": [
      "Добавили в БД: 1ecbf364-aa36-4d0e-9e1c-6bf4f6eccaf6\n"
     ]
    },
    {
     "name": "stderr",
     "output_type": "stream",
     "text": [
      "40it [03:55,  9.24s/it]"
     ]
    },
    {
     "name": "stdout",
     "output_type": "stream",
     "text": [
      "Добавили в БД: 3c39a845-8ca6-4134-93d2-b13a5b9f9a48\n"
     ]
    },
    {
     "name": "stderr",
     "output_type": "stream",
     "text": [
      "41it [04:01,  8.35s/it]"
     ]
    },
    {
     "name": "stdout",
     "output_type": "stream",
     "text": [
      "Добавили в БД: 4b005e08-6890-4c4b-b0cf-95dc3e1aabeb\n"
     ]
    },
    {
     "name": "stderr",
     "output_type": "stream",
     "text": [
      "42it [04:10,  8.35s/it]"
     ]
    },
    {
     "name": "stdout",
     "output_type": "stream",
     "text": [
      "Добавили в БД: 55fc948d-fa0e-4fa8-b073-aa69426d031c\n"
     ]
    },
    {
     "name": "stderr",
     "output_type": "stream",
     "text": [
      "43it [04:15,  7.29s/it]"
     ]
    },
    {
     "name": "stdout",
     "output_type": "stream",
     "text": [
      "Дубликат: dataset/test_data_yappy/test_dataset/fd52cbe5-012f-4451-abad-1c86c8279e8c.mp4, оригинал: [('4b005e08-6890-4c4b-b0cf-95dc3e1aabeb', 0.8962665346367056, 0.9994776966605252)]\n"
     ]
    },
    {
     "name": "stderr",
     "output_type": "stream",
     "text": [
      "44it [04:26,  8.45s/it]"
     ]
    },
    {
     "name": "stdout",
     "output_type": "stream",
     "text": [
      "Добавили в БД: 371fa0d8-a871-4d35-871d-0f2816dd54da\n"
     ]
    },
    {
     "name": "stderr",
     "output_type": "stream",
     "text": [
      "45it [04:33,  7.96s/it]"
     ]
    },
    {
     "name": "stdout",
     "output_type": "stream",
     "text": [
      "Добавили в БД: 5317f402-8ef3-42c5-8133-cf559e32feab\n"
     ]
    },
    {
     "name": "stderr",
     "output_type": "stream",
     "text": [
      "46it [04:39,  7.51s/it]"
     ]
    },
    {
     "name": "stdout",
     "output_type": "stream",
     "text": [
      "Добавили в БД: 3919b7cf-f9e3-40c0-bde3-ab096ea022e0\n"
     ]
    },
    {
     "name": "stderr",
     "output_type": "stream",
     "text": [
      "47it [04:45,  6.96s/it]"
     ]
    },
    {
     "name": "stdout",
     "output_type": "stream",
     "text": [
      "Добавили в БД: 2d9d01ee-e4cd-4ca0-9e45-eb194b45e9a6\n"
     ]
    },
    {
     "name": "stderr",
     "output_type": "stream",
     "text": [
      "48it [04:53,  7.32s/it]"
     ]
    },
    {
     "name": "stdout",
     "output_type": "stream",
     "text": [
      "Добавили в БД: 094d3a68-858d-4214-8550-59c489525e68\n"
     ]
    },
    {
     "name": "stderr",
     "output_type": "stream",
     "text": [
      "49it [05:02,  7.90s/it]"
     ]
    },
    {
     "name": "stdout",
     "output_type": "stream",
     "text": [
      "Добавили в БД: 21bcfdea-16bc-4fdd-9b82-28577425a7bf\n"
     ]
    },
    {
     "name": "stderr",
     "output_type": "stream",
     "text": [
      "50it [05:17, 10.07s/it]"
     ]
    },
    {
     "name": "stdout",
     "output_type": "stream",
     "text": [
      "Добавили в БД: 7f90be99-fc5a-4503-9bef-4f6fbf70f47c\n"
     ]
    },
    {
     "name": "stderr",
     "output_type": "stream",
     "text": [
      "51it [05:23,  8.65s/it]"
     ]
    },
    {
     "name": "stdout",
     "output_type": "stream",
     "text": [
      "Дубликат: dataset/test_data_yappy/test_dataset/6f6f5da8-f997-491d-8fe0-64d262b2ee4c.mp4, оригинал: [('22ee80a3-d9ef-48d4-83d7-9c97cc7030c2', 0.8082148860908009, 0.9851377668860832)]\n"
     ]
    },
    {
     "name": "stderr",
     "output_type": "stream",
     "text": [
      "52it [05:37, 10.49s/it]"
     ]
    },
    {
     "name": "stdout",
     "output_type": "stream",
     "text": [
      "Добавили в БД: 0d62849b-d3b9-47af-a285-2f638bc9ac13\n"
     ]
    },
    {
     "name": "stderr",
     "output_type": "stream",
     "text": [
      "53it [05:47, 10.29s/it]"
     ]
    },
    {
     "name": "stdout",
     "output_type": "stream",
     "text": [
      "Добавили в БД: 077b6f9a-325a-4d27-a6ff-9b8098613924\n"
     ]
    },
    {
     "name": "stderr",
     "output_type": "stream",
     "text": [
      "54it [06:00, 11.17s/it]"
     ]
    },
    {
     "name": "stdout",
     "output_type": "stream",
     "text": [
      "Добавили в БД: 14c4bd1b-b361-4b5e-8d56-21d0ac9023ac\n"
     ]
    },
    {
     "name": "stderr",
     "output_type": "stream",
     "text": [
      "55it [06:11, 10.84s/it]"
     ]
    },
    {
     "name": "stdout",
     "output_type": "stream",
     "text": [
      "Добавили в БД: 185269b4-432d-4df0-a1c9-63953192572e\n"
     ]
    },
    {
     "name": "stderr",
     "output_type": "stream",
     "text": [
      "56it [06:20, 10.46s/it]"
     ]
    },
    {
     "name": "stdout",
     "output_type": "stream",
     "text": [
      "Добавили в БД: 055ebd8a-e012-4fce-af47-ee2b11d4a927\n"
     ]
    },
    {
     "name": "stderr",
     "output_type": "stream",
     "text": [
      "57it [06:28,  9.67s/it]"
     ]
    },
    {
     "name": "stdout",
     "output_type": "stream",
     "text": [
      "Добавили в БД: 1a7d3c01-769a-4a33-bfb8-00d56289ba7c\n"
     ]
    },
    {
     "name": "stderr",
     "output_type": "stream",
     "text": [
      "58it [06:42, 11.05s/it]"
     ]
    },
    {
     "name": "stdout",
     "output_type": "stream",
     "text": [
      "Добавили в БД: 52494408-bcf4-4f09-92bb-b18a1ca71761\n"
     ]
    },
    {
     "name": "stderr",
     "output_type": "stream",
     "text": [
      "59it [06:48,  9.60s/it]"
     ]
    },
    {
     "name": "stdout",
     "output_type": "stream",
     "text": [
      "Добавили в БД: 4977bb03-0243-45c8-a934-4e07b6aa4098\n"
     ]
    },
    {
     "name": "stderr",
     "output_type": "stream",
     "text": [
      "60it [06:55,  8.71s/it]"
     ]
    },
    {
     "name": "stdout",
     "output_type": "stream",
     "text": [
      "Добавили в БД: 451fce51-b1ea-48d5-88af-acd47e01bde2\n"
     ]
    },
    {
     "name": "stderr",
     "output_type": "stream",
     "text": [
      "61it [07:01,  8.01s/it]"
     ]
    },
    {
     "name": "stdout",
     "output_type": "stream",
     "text": [
      "Дубликат: dataset/test_data_yappy/test_dataset/cbf3948e-e8a0-4e61-858d-72b7ff2d2d43.mp4, оригинал: [('045265e5-0d4c-4372-b960-3087f685eb97', 0.8974882586163456, 0.9993383916365767)]\n"
     ]
    },
    {
     "name": "stderr",
     "output_type": "stream",
     "text": [
      "62it [07:08,  7.53s/it]"
     ]
    },
    {
     "name": "stdout",
     "output_type": "stream",
     "text": [
      "Добавили в БД: 30b6975a-23d2-42a0-857d-5c5d06146048\n"
     ]
    },
    {
     "name": "stderr",
     "output_type": "stream",
     "text": [
      "63it [07:14,  7.12s/it]"
     ]
    },
    {
     "name": "stdout",
     "output_type": "stream",
     "text": [
      "Добавили в БД: 502a9fbe-62a1-4635-be0a-ee836692bb0d\n"
     ]
    },
    {
     "name": "stderr",
     "output_type": "stream",
     "text": [
      "64it [07:19,  6.52s/it]"
     ]
    },
    {
     "name": "stdout",
     "output_type": "stream",
     "text": [
      "Дубликат: dataset/test_data_yappy/test_dataset/89fca4ee-4678-482b-8d6d-907dbc057151.mp4, оригинал: [('2cfd6af3-7df6-4afa-8c3b-c17236c83c03', 0.8868565871286462, 0.9632454016182257)]\n"
     ]
    },
    {
     "name": "stderr",
     "output_type": "stream",
     "text": [
      "65it [07:29,  7.59s/it]"
     ]
    },
    {
     "name": "stdout",
     "output_type": "stream",
     "text": [
      "Добавили в БД: 43ff8c0f-26df-4f92-9ded-280638e0432e\n"
     ]
    },
    {
     "name": "stderr",
     "output_type": "stream",
     "text": [
      "66it [07:43,  9.33s/it]"
     ]
    },
    {
     "name": "stdout",
     "output_type": "stream",
     "text": [
      "Добавили в БД: 823fd9e8-e72c-412b-b6f8-555c405c0820\n"
     ]
    },
    {
     "name": "stderr",
     "output_type": "stream",
     "text": [
      "67it [07:50,  8.70s/it]"
     ]
    },
    {
     "name": "stdout",
     "output_type": "stream",
     "text": [
      "Добавили в БД: 559a1c3f-7469-4dc4-85e4-9757f20309c3\n"
     ]
    },
    {
     "name": "stderr",
     "output_type": "stream",
     "text": [
      "68it [08:00,  9.11s/it]"
     ]
    },
    {
     "name": "stdout",
     "output_type": "stream",
     "text": [
      "Добавили в БД: 2259daaa-c985-4fd5-80b0-562b59178d14\n"
     ]
    },
    {
     "name": "stderr",
     "output_type": "stream",
     "text": [
      "69it [08:12, 10.10s/it]"
     ]
    },
    {
     "name": "stdout",
     "output_type": "stream",
     "text": [
      "Добавили в БД: 204c815c-7a0b-409b-81ff-11c7b041c3bc\n"
     ]
    },
    {
     "name": "stderr",
     "output_type": "stream",
     "text": [
      "70it [08:18,  8.90s/it]"
     ]
    },
    {
     "name": "stdout",
     "output_type": "stream",
     "text": [
      "Добавили в БД: 3687b604-9481-4def-8b3e-7162c5546363\n"
     ]
    },
    {
     "name": "stderr",
     "output_type": "stream",
     "text": [
      "71it [08:26,  8.47s/it]"
     ]
    },
    {
     "name": "stdout",
     "output_type": "stream",
     "text": [
      "Добавили в БД: 0628f10a-ca4a-4a24-90d0-b39dbd9cba47\n"
     ]
    },
    {
     "name": "stderr",
     "output_type": "stream",
     "text": [
      "72it [08:35,  8.56s/it]"
     ]
    },
    {
     "name": "stdout",
     "output_type": "stream",
     "text": [
      "Добавили в БД: 45a27498-bad4-45bd-b11f-52d5aaf062c5\n"
     ]
    },
    {
     "name": "stderr",
     "output_type": "stream",
     "text": [
      "73it [08:44,  8.89s/it]"
     ]
    },
    {
     "name": "stdout",
     "output_type": "stream",
     "text": [
      "Добавили в БД: 242beefa-052f-42a0-bffe-53637bf62656\n"
     ]
    },
    {
     "name": "stderr",
     "output_type": "stream",
     "text": [
      "74it [08:54,  9.05s/it]"
     ]
    },
    {
     "name": "stdout",
     "output_type": "stream",
     "text": [
      "Добавили в БД: 35b038fd-0748-4f08-a001-434d18388f0d\n"
     ]
    },
    {
     "name": "stderr",
     "output_type": "stream",
     "text": [
      "75it [09:00,  8.37s/it]"
     ]
    },
    {
     "name": "stdout",
     "output_type": "stream",
     "text": [
      "Добавили в БД: 01026d79-885d-49c5-b8a1-2bb9a603de4d\n"
     ]
    },
    {
     "name": "stderr",
     "output_type": "stream",
     "text": [
      "76it [09:09,  8.32s/it]"
     ]
    },
    {
     "name": "stdout",
     "output_type": "stream",
     "text": [
      "Добавили в БД: 53c68d19-90f6-4f86-9aa8-93fdb237b6b6\n"
     ]
    },
    {
     "name": "stderr",
     "output_type": "stream",
     "text": [
      "77it [09:19,  9.01s/it]"
     ]
    },
    {
     "name": "stdout",
     "output_type": "stream",
     "text": [
      "Добавили в БД: 47cf16c1-1f46-462f-90fd-e547579d4c0c\n"
     ]
    },
    {
     "name": "stderr",
     "output_type": "stream",
     "text": [
      "78it [09:27,  8.56s/it]"
     ]
    },
    {
     "name": "stdout",
     "output_type": "stream",
     "text": [
      "Добавили в БД: 49fa74ca-221f-4113-9f34-bf68a4f987b2\n"
     ]
    },
    {
     "name": "stderr",
     "output_type": "stream",
     "text": [
      "79it [09:35,  8.50s/it]"
     ]
    },
    {
     "name": "stdout",
     "output_type": "stream",
     "text": [
      "Добавили в БД: 21422c01-5dd6-4299-b892-e4267454667a\n"
     ]
    },
    {
     "name": "stderr",
     "output_type": "stream",
     "text": [
      "80it [09:46,  9.19s/it]"
     ]
    },
    {
     "name": "stdout",
     "output_type": "stream",
     "text": [
      "Дубликат: dataset/test_data_yappy/test_dataset/51b077bc-fac3-4cdb-bda4-06cd60d53af7.mp4, оригинал: [('0d62849b-d3b9-47af-a285-2f638bc9ac13', 0.8263373093922952, 0.9996951895085296)]\n"
     ]
    },
    {
     "name": "stderr",
     "output_type": "stream",
     "text": [
      "81it [09:52,  8.11s/it]"
     ]
    },
    {
     "name": "stdout",
     "output_type": "stream",
     "text": [
      "Дубликат: dataset/test_data_yappy/test_dataset/7f3217c6-5a31-4b1c-a9f2-a8cb82e46ae3.mp4, оригинал: [('0d21cfda-39e3-42b8-be97-aff5835036cc', 0.8986186309157227, 0.9995451010478654)]\n"
     ]
    },
    {
     "name": "stderr",
     "output_type": "stream",
     "text": [
      "82it [10:00,  8.13s/it]"
     ]
    },
    {
     "name": "stdout",
     "output_type": "stream",
     "text": [
      "Добавили в БД: 0bda6968-eec4-4757-9ebc-52ba3d3aefd4\n"
     ]
    },
    {
     "name": "stderr",
     "output_type": "stream",
     "text": [
      "83it [10:13,  9.60s/it]"
     ]
    },
    {
     "name": "stdout",
     "output_type": "stream",
     "text": [
      "Добавили в БД: 24683acd-2f32-46d1-8536-ddaa79ddbfd5\n"
     ]
    },
    {
     "name": "stderr",
     "output_type": "stream",
     "text": [
      "84it [10:22,  9.37s/it]"
     ]
    },
    {
     "name": "stdout",
     "output_type": "stream",
     "text": [
      "Добавили в БД: 1e829cb9-d9a0-4982-9ab4-5eea1c165351\n"
     ]
    },
    {
     "name": "stderr",
     "output_type": "stream",
     "text": [
      "85it [10:32,  9.53s/it]"
     ]
    },
    {
     "name": "stdout",
     "output_type": "stream",
     "text": [
      "Добавили в БД: 1d18d597-8226-4f52-9273-be54aa577253\n"
     ]
    },
    {
     "name": "stderr",
     "output_type": "stream",
     "text": [
      "86it [10:49, 11.83s/it]"
     ]
    },
    {
     "name": "stdout",
     "output_type": "stream",
     "text": [
      "Добавили в БД: 2ca38fd5-669a-43e9-a6f4-940c2dd46186\n"
     ]
    },
    {
     "name": "stderr",
     "output_type": "stream",
     "text": [
      "87it [11:05, 13.12s/it]"
     ]
    },
    {
     "name": "stdout",
     "output_type": "stream",
     "text": [
      "Добавили в БД: 1eac74d7-40ff-4fad-9af1-4900da3e7c78\n"
     ]
    },
    {
     "name": "stderr",
     "output_type": "stream",
     "text": [
      "88it [11:23, 14.58s/it]"
     ]
    },
    {
     "name": "stdout",
     "output_type": "stream",
     "text": [
      "Добавили в БД: 2ca7bcc4-eb59-4507-853a-5ff76179ecad\n"
     ]
    },
    {
     "name": "stderr",
     "output_type": "stream",
     "text": [
      "89it [11:35, 14.00s/it]"
     ]
    },
    {
     "name": "stdout",
     "output_type": "stream",
     "text": [
      "Добавили в БД: 457dc40f-0bad-4fd3-8a64-3e984776d69f\n"
     ]
    },
    {
     "name": "stderr",
     "output_type": "stream",
     "text": [
      "90it [11:48, 13.63s/it]"
     ]
    },
    {
     "name": "stdout",
     "output_type": "stream",
     "text": [
      "Добавили в БД: 069d0eca-21e9-44ee-b44d-bc10099a2e21\n"
     ]
    },
    {
     "name": "stderr",
     "output_type": "stream",
     "text": [
      "91it [11:54, 11.18s/it]"
     ]
    },
    {
     "name": "stdout",
     "output_type": "stream",
     "text": [
      "Дубликат: dataset/test_data_yappy/test_dataset/da9783ba-ceac-47ed-9d8f-30b614e938dd.mp4, оригинал: [('49577a11-51b9-490a-b1f0-df17335219de', 0.927067213972683, 0.8559845420889235)]\n"
     ]
    },
    {
     "name": "stderr",
     "output_type": "stream",
     "text": [
      "92it [12:08, 12.20s/it]"
     ]
    },
    {
     "name": "stdout",
     "output_type": "stream",
     "text": [
      "Добавили в БД: 83f6b958-34b5-4d15-973a-6e9dce4f3b59\n"
     ]
    },
    {
     "name": "stderr",
     "output_type": "stream",
     "text": [
      "93it [12:18, 11.54s/it]"
     ]
    },
    {
     "name": "stdout",
     "output_type": "stream",
     "text": [
      "Дубликат: dataset/test_data_yappy/test_dataset/e846d78e-63e7-4136-b681-6452013e50dc.mp4, оригинал: [('1c2de832-9df0-46fe-88bb-d125596fdae1', 0.8683099499363784, 0.9945118114826965)]\n"
     ]
    },
    {
     "name": "stderr",
     "output_type": "stream",
     "text": [
      "94it [12:31, 12.02s/it]"
     ]
    },
    {
     "name": "stdout",
     "output_type": "stream",
     "text": [
      "Добавили в БД: 3c1fdd65-46cb-4d6a-982a-8aa9ed7bbaf2\n"
     ]
    },
    {
     "name": "stderr",
     "output_type": "stream",
     "text": [
      "95it [12:40, 11.01s/it]"
     ]
    },
    {
     "name": "stdout",
     "output_type": "stream",
     "text": [
      "Добавили в БД: 3a1d73a5-27a8-4f8d-8ec9-a129bb16cf32\n"
     ]
    },
    {
     "name": "stderr",
     "output_type": "stream",
     "text": [
      "96it [12:49, 10.24s/it]"
     ]
    },
    {
     "name": "stdout",
     "output_type": "stream",
     "text": [
      "Добавили в БД: 0b01849a-cb73-47e1-ab3f-7d82cdfa34b5\n"
     ]
    },
    {
     "name": "stderr",
     "output_type": "stream",
     "text": [
      "97it [12:59, 10.26s/it]"
     ]
    },
    {
     "name": "stdout",
     "output_type": "stream",
     "text": [
      "Добавили в БД: 0e9cb9c3-a1f6-465a-83c0-9fe970147312\n"
     ]
    },
    {
     "name": "stderr",
     "output_type": "stream",
     "text": [
      "98it [13:11, 10.85s/it]"
     ]
    },
    {
     "name": "stdout",
     "output_type": "stream",
     "text": [
      "Добавили в БД: 1fbf64fa-d539-49f4-bcd6-1d2996453d2e\n"
     ]
    },
    {
     "name": "stderr",
     "output_type": "stream",
     "text": [
      "99it [13:25, 11.65s/it]"
     ]
    },
    {
     "name": "stdout",
     "output_type": "stream",
     "text": [
      "Добавили в БД: 3e500c15-ffd4-4c74-92b0-dcad4bab92a9\n"
     ]
    },
    {
     "name": "stderr",
     "output_type": "stream",
     "text": [
      "100it [13:35, 11.42s/it]"
     ]
    },
    {
     "name": "stdout",
     "output_type": "stream",
     "text": [
      "Добавили в БД: 411f611a-0a94-429d-9bd6-3efcd66c0bb0\n"
     ]
    },
    {
     "name": "stderr",
     "output_type": "stream",
     "text": [
      "101it [13:41,  9.58s/it]"
     ]
    },
    {
     "name": "stdout",
     "output_type": "stream",
     "text": [
      "Дубликат: dataset/test_data_yappy/test_dataset/edbacae6-1694-47f1-9abf-e6352acba998.mp4, оригинал: [('42fbf1a0-2f00-4194-9733-675e19947a9e', 0.8322071755105571, 0.9936888660840579)]\n"
     ]
    },
    {
     "name": "stderr",
     "output_type": "stream",
     "text": [
      "102it [13:56, 11.17s/it]"
     ]
    },
    {
     "name": "stdout",
     "output_type": "stream",
     "text": [
      "Добавили в БД: 29839028-3c0c-4410-ad87-c12ba73e970a\n"
     ]
    },
    {
     "name": "stderr",
     "output_type": "stream",
     "text": [
      "103it [14:00,  9.02s/it]"
     ]
    },
    {
     "name": "stdout",
     "output_type": "stream",
     "text": [
      "Дубликат: dataset/test_data_yappy/test_dataset/eb129696-beb7-482e-926a-6152ac28d4bd.mp4, оригинал: [('3a1d73a5-27a8-4f8d-8ec9-a129bb16cf32', 0.9343830994848379, 0.9724468636291868)]\n"
     ]
    },
    {
     "name": "stderr",
     "output_type": "stream",
     "text": [
      "104it [14:09,  9.09s/it]"
     ]
    },
    {
     "name": "stdout",
     "output_type": "stream",
     "text": [
      "Добавили в БД: 148d5546-d548-4356-9758-fea8f78a6b53\n"
     ]
    },
    {
     "name": "stderr",
     "output_type": "stream",
     "text": [
      "105it [14:20,  9.58s/it]"
     ]
    },
    {
     "name": "stdout",
     "output_type": "stream",
     "text": [
      "Добавили в БД: 37bd2eb3-be49-441f-8a27-14339a572d8d\n"
     ]
    },
    {
     "name": "stderr",
     "output_type": "stream",
     "text": [
      "106it [14:28,  9.09s/it]"
     ]
    },
    {
     "name": "stdout",
     "output_type": "stream",
     "text": [
      "Добавили в БД: 435a628b-dd06-4b47-ba4a-ebd3e50301c3\n"
     ]
    },
    {
     "name": "stderr",
     "output_type": "stream",
     "text": [
      "107it [14:31,  7.29s/it]"
     ]
    },
    {
     "name": "stdout",
     "output_type": "stream",
     "text": [
      "Дубликат: dataset/test_data_yappy/test_dataset/9791705f-d885-4c13-bb45-38f3d7620b05.mp4, оригинал: [('3687b604-9481-4def-8b3e-7162c5546363', 0.8326845060984549, 0.908424035147241)]\n"
     ]
    },
    {
     "name": "stderr",
     "output_type": "stream",
     "text": [
      "108it [14:35,  6.37s/it]"
     ]
    },
    {
     "name": "stdout",
     "output_type": "stream",
     "text": [
      "Дубликат: dataset/test_data_yappy/test_dataset/2cfe40dc-1cb3-4388-832d-4afcd3310f0b.mp4, оригинал: [('337fdbe6-2bc7-4bc7-931e-d94ada927ede', 0.807873437450157, 0.9986006748214183)]\n"
     ]
    },
    {
     "name": "stderr",
     "output_type": "stream",
     "text": [
      "109it [14:42,  6.66s/it]"
     ]
    },
    {
     "name": "stdout",
     "output_type": "stream",
     "text": [
      "Добавили в БД: 00c74cb8-5863-4790-9640-eb3e3c23dc9a\n"
     ]
    },
    {
     "name": "stderr",
     "output_type": "stream",
     "text": [
      "110it [14:52,  7.70s/it]"
     ]
    },
    {
     "name": "stdout",
     "output_type": "stream",
     "text": [
      "Добавили в БД: 0f78805c-fead-4da1-8b15-236f5dc5e3d7\n"
     ]
    },
    {
     "name": "stderr",
     "output_type": "stream",
     "text": [
      "111it [15:02,  8.31s/it]"
     ]
    },
    {
     "name": "stdout",
     "output_type": "stream",
     "text": [
      "Добавили в БД: 03ed14a1-8a28-438a-8d4c-4e0ad01ba6bb\n"
     ]
    },
    {
     "name": "stderr",
     "output_type": "stream",
     "text": [
      "112it [15:17, 10.20s/it]"
     ]
    },
    {
     "name": "stdout",
     "output_type": "stream",
     "text": [
      "Добавили в БД: 36a9c90d-f7bf-4b7d-a62f-720ee39a0a3b\n"
     ]
    },
    {
     "name": "stderr",
     "output_type": "stream",
     "text": [
      "113it [15:26, 10.04s/it]"
     ]
    },
    {
     "name": "stdout",
     "output_type": "stream",
     "text": [
      "Добавили в БД: 4951a5f0-809c-4bc3-a917-d51e5e4d0ede\n"
     ]
    },
    {
     "name": "stderr",
     "output_type": "stream",
     "text": [
      "114it [15:30,  8.15s/it]"
     ]
    },
    {
     "name": "stdout",
     "output_type": "stream",
     "text": [
      "Дубликат: dataset/test_data_yappy/test_dataset/56fb847b-d57b-4043-926f-64769385f4a6.mp4, оригинал: [('1d1ad7f0-7e04-4f6c-bea5-58ef8c5d2b4e', 0.8781215785068592, 0.981905271601176)]\n"
     ]
    },
    {
     "name": "stderr",
     "output_type": "stream",
     "text": [
      "115it [15:42,  9.17s/it]"
     ]
    },
    {
     "name": "stdout",
     "output_type": "stream",
     "text": [
      "Добавили в БД: 1dfd5ee7-2488-4c21-a181-b719238197ce\n"
     ]
    },
    {
     "name": "stderr",
     "output_type": "stream",
     "text": [
      "116it [15:51,  9.36s/it]"
     ]
    },
    {
     "name": "stdout",
     "output_type": "stream",
     "text": [
      "Добавили в БД: 14657a8c-e3d4-4e55-8845-db1840616a7e\n"
     ]
    },
    {
     "name": "stderr",
     "output_type": "stream",
     "text": [
      "117it [16:02,  9.87s/it]"
     ]
    },
    {
     "name": "stdout",
     "output_type": "stream",
     "text": [
      "Добавили в БД: f2204386-021d-4c3b-9467-c18464bcfd98\n"
     ]
    },
    {
     "name": "stderr",
     "output_type": "stream",
     "text": [
      "118it [16:13, 10.21s/it]"
     ]
    },
    {
     "name": "stdout",
     "output_type": "stream",
     "text": [
      "Добавили в БД: 44c893e6-c7bf-47ad-9c95-0174ee1c55dc\n"
     ]
    },
    {
     "name": "stderr",
     "output_type": "stream",
     "text": [
      "119it [16:30, 12.06s/it]"
     ]
    },
    {
     "name": "stdout",
     "output_type": "stream",
     "text": [
      "Добавили в БД: 5ae075f8-399b-4cf0-820b-f8650b2e0858\n"
     ]
    },
    {
     "name": "stderr",
     "output_type": "stream",
     "text": [
      "120it [16:39, 11.13s/it]"
     ]
    },
    {
     "name": "stdout",
     "output_type": "stream",
     "text": [
      "Добавили в БД: 4a4d307c-e727-45e6-8d6e-ac14462d042c\n"
     ]
    },
    {
     "name": "stderr",
     "output_type": "stream",
     "text": [
      "121it [16:46,  9.83s/it]"
     ]
    },
    {
     "name": "stdout",
     "output_type": "stream",
     "text": [
      "Дубликат: dataset/test_data_yappy/test_dataset/81f87ed8-fc69-4742-aac2-ec34b1f706f2.mp4, оригинал: [('197b9b9a-172e-4ad0-b44e-fb78dde3c4b5', 0.8780844930790231, 0.9863474067874088)]\n"
     ]
    },
    {
     "name": "stderr",
     "output_type": "stream",
     "text": [
      "122it [16:49,  7.96s/it]"
     ]
    },
    {
     "name": "stdout",
     "output_type": "stream",
     "text": [
      "Дубликат: dataset/test_data_yappy/test_dataset/8526825a-e752-4910-8121-780e5fd3f9cd.mp4, оригинал: [('049949e0-ad9d-49e0-9cc8-b311e4071f52', 0.8812446656774948, 0.9870584585036075)]\n"
     ]
    },
    {
     "name": "stderr",
     "output_type": "stream",
     "text": [
      "123it [16:57,  7.95s/it]"
     ]
    },
    {
     "name": "stdout",
     "output_type": "stream",
     "text": [
      "Добавили в БД: 236bc19d-f86d-4011-9908-04d30262a82a\n"
     ]
    },
    {
     "name": "stderr",
     "output_type": "stream",
     "text": [
      "124it [17:07,  8.44s/it]"
     ]
    },
    {
     "name": "stdout",
     "output_type": "stream",
     "text": [
      "Добавили в БД: eabff50a-4bd5-47c6-853b-ae8ff476584a\n"
     ]
    },
    {
     "name": "stderr",
     "output_type": "stream",
     "text": [
      "125it [17:21, 10.23s/it]"
     ]
    },
    {
     "name": "stdout",
     "output_type": "stream",
     "text": [
      "Добавили в БД: 3aad2ce3-bff3-416e-afe9-2db848c959bd\n"
     ]
    },
    {
     "name": "stderr",
     "output_type": "stream",
     "text": [
      "126it [17:31, 10.17s/it]"
     ]
    },
    {
     "name": "stdout",
     "output_type": "stream",
     "text": [
      "Добавили в БД: 02e00046-ca4c-43a9-a262-dd7c5cdf299c\n"
     ]
    },
    {
     "name": "stderr",
     "output_type": "stream",
     "text": [
      "127it [17:43, 10.56s/it]"
     ]
    },
    {
     "name": "stdout",
     "output_type": "stream",
     "text": [
      "Добавили в БД: 15f456ef-b474-4738-a4d7-fae4983685ec\n"
     ]
    },
    {
     "name": "stderr",
     "output_type": "stream",
     "text": [
      "128it [17:51,  9.85s/it]"
     ]
    },
    {
     "name": "stdout",
     "output_type": "stream",
     "text": [
      "Добавили в БД: 52eaef45-4071-4e4e-8ad9-c2acbaf5a147\n"
     ]
    },
    {
     "name": "stderr",
     "output_type": "stream",
     "text": [
      "129it [17:55,  8.25s/it]"
     ]
    },
    {
     "name": "stdout",
     "output_type": "stream",
     "text": [
      "Дубликат: dataset/test_data_yappy/test_dataset/ee4fc39e-3585-4f70-b5e7-4b64ef640ae1.mp4, оригинал: [('0628f10a-ca4a-4a24-90d0-b39dbd9cba47', 0.956187841122558, 0.9240458431493885)]\n"
     ]
    },
    {
     "name": "stderr",
     "output_type": "stream",
     "text": [
      "130it [17:58,  6.55s/it]"
     ]
    },
    {
     "name": "stdout",
     "output_type": "stream",
     "text": [
      "Дубликат: dataset/test_data_yappy/test_dataset/2bd7bc16-cf48-4700-8743-070e7c4636a4.mp4, оригинал: [('5150146c-2ebe-48f4-84ef-363d6fb73b5b', 0.9783366323907932, 0.9796175099194313)]\n"
     ]
    },
    {
     "name": "stderr",
     "output_type": "stream",
     "text": [
      "131it [18:01,  5.45s/it]"
     ]
    },
    {
     "name": "stdout",
     "output_type": "stream",
     "text": [
      "Дубликат: dataset/test_data_yappy/test_dataset/80b8d5b4-3756-48d2-854c-c4df06aa768f.mp4, оригинал: [('244edefe-81f2-4f17-9806-add1f934b776', 0.9226623342954436, 0.9929015547707462)]\n"
     ]
    },
    {
     "name": "stderr",
     "output_type": "stream",
     "text": [
      "132it [18:08,  5.94s/it]"
     ]
    },
    {
     "name": "stdout",
     "output_type": "stream",
     "text": [
      "Добавили в БД: 1e04d8a4-4bb2-4e2f-bc11-f6d10e136f71\n"
     ]
    },
    {
     "name": "stderr",
     "output_type": "stream",
     "text": [
      "133it [18:16,  6.73s/it]"
     ]
    },
    {
     "name": "stdout",
     "output_type": "stream",
     "text": [
      "Добавили в БД: 20fd148f-21f3-44a5-a0de-d210422820fe\n"
     ]
    },
    {
     "name": "stderr",
     "output_type": "stream",
     "text": [
      "134it [18:29,  8.46s/it]"
     ]
    },
    {
     "name": "stdout",
     "output_type": "stream",
     "text": [
      "Добавили в БД: 161877d9-5769-4ee5-8be4-c4506862b2bc\n"
     ]
    },
    {
     "name": "stderr",
     "output_type": "stream",
     "text": [
      "135it [18:39,  9.01s/it]"
     ]
    },
    {
     "name": "stdout",
     "output_type": "stream",
     "text": [
      "Добавили в БД: 4bae7455-e623-49a5-a199-a34e84f52838\n"
     ]
    },
    {
     "name": "stderr",
     "output_type": "stream",
     "text": [
      "136it [18:52,  9.99s/it]"
     ]
    },
    {
     "name": "stdout",
     "output_type": "stream",
     "text": [
      "Добавили в БД: 2f160bfb-f3a4-4ce5-8525-e1537b666686\n"
     ]
    },
    {
     "name": "stderr",
     "output_type": "stream",
     "text": [
      "137it [19:02, 10.22s/it]"
     ]
    },
    {
     "name": "stdout",
     "output_type": "stream",
     "text": [
      "Добавили в БД: 4bca443c-c599-4af1-a054-52d33042c298\n"
     ]
    },
    {
     "name": "stderr",
     "output_type": "stream",
     "text": [
      "138it [19:15, 10.83s/it]"
     ]
    },
    {
     "name": "stdout",
     "output_type": "stream",
     "text": [
      "Добавили в БД: 1f4662df-1c5b-49fc-b186-3eb8281b4d73\n"
     ]
    },
    {
     "name": "stderr",
     "output_type": "stream",
     "text": [
      "139it [19:25, 10.86s/it]"
     ]
    },
    {
     "name": "stdout",
     "output_type": "stream",
     "text": [
      "Добавили в БД: 528ba0ca-de28-46ed-8bc4-c2256f820b55\n"
     ]
    },
    {
     "name": "stderr",
     "output_type": "stream",
     "text": [
      "140it [19:37, 11.13s/it]"
     ]
    },
    {
     "name": "stdout",
     "output_type": "stream",
     "text": [
      "Добавили в БД: 6dea4742-addb-49d0-8d94-46c9731d50ed\n"
     ]
    },
    {
     "name": "stderr",
     "output_type": "stream",
     "text": [
      "141it [19:51, 11.89s/it]"
     ]
    },
    {
     "name": "stdout",
     "output_type": "stream",
     "text": [
      "Добавили в БД: 110de471-9404-4ba7-8bae-eaceb1a2dc9e\n"
     ]
    },
    {
     "name": "stderr",
     "output_type": "stream",
     "text": [
      "142it [20:02, 11.63s/it]"
     ]
    },
    {
     "name": "stdout",
     "output_type": "stream",
     "text": [
      "Дубликат: dataset/test_data_yappy/test_dataset/0082f28a-16bb-4df7-9d74-7dd720d9547e.mp4, оригинал: [('83f6b958-34b5-4d15-973a-6e9dce4f3b59', 0.8533929549207513, 0.9227982964726811)]\n"
     ]
    },
    {
     "name": "stderr",
     "output_type": "stream",
     "text": [
      "143it [20:13, 11.51s/it]"
     ]
    },
    {
     "name": "stdout",
     "output_type": "stream",
     "text": [
      "Добавили в БД: 3c827d68-24ce-4e1d-87be-13b6472f3fa0\n"
     ]
    },
    {
     "name": "stderr",
     "output_type": "stream",
     "text": [
      "144it [20:23, 11.09s/it]"
     ]
    },
    {
     "name": "stdout",
     "output_type": "stream",
     "text": [
      "Добавили в БД: 56ad43ff-5f8b-4f69-a710-544f0689c316\n"
     ]
    },
    {
     "name": "stderr",
     "output_type": "stream",
     "text": [
      "145it [20:31, 10.03s/it]"
     ]
    },
    {
     "name": "stdout",
     "output_type": "stream",
     "text": [
      "Дубликат: dataset/test_data_yappy/test_dataset/8cf4856d-b085-4671-8065-e4c53cea21a7.mp4, оригинал: [('35b038fd-0748-4f08-a001-434d18388f0d', 0.8804493732184995, 0.995257468559347)]\n"
     ]
    },
    {
     "name": "stderr",
     "output_type": "stream",
     "text": [
      "146it [20:39,  9.53s/it]"
     ]
    },
    {
     "name": "stdout",
     "output_type": "stream",
     "text": [
      "Добавили в БД: 607f4762-bf1b-4a06-89f9-7151e2356451\n"
     ]
    },
    {
     "name": "stderr",
     "output_type": "stream",
     "text": [
      "147it [20:52, 10.62s/it]"
     ]
    },
    {
     "name": "stdout",
     "output_type": "stream",
     "text": [
      "Добавили в БД: 74d5c166-de57-48ef-9e58-05d6edaac9c5\n"
     ]
    },
    {
     "name": "stderr",
     "output_type": "stream",
     "text": [
      "148it [21:07, 11.72s/it]"
     ]
    },
    {
     "name": "stdout",
     "output_type": "stream",
     "text": [
      "Добавили в БД: 0f8c73c3-e4b2-4c09-8215-3ab32e3cbbbf\n"
     ]
    },
    {
     "name": "stderr",
     "output_type": "stream",
     "text": [
      "149it [21:18, 11.72s/it]"
     ]
    },
    {
     "name": "stdout",
     "output_type": "stream",
     "text": [
      "Добавили в БД: 832cba7f-ac59-4cc5-ad4b-91f99775ca96\n"
     ]
    },
    {
     "name": "stderr",
     "output_type": "stream",
     "text": [
      "150it [21:30, 11.57s/it]"
     ]
    },
    {
     "name": "stdout",
     "output_type": "stream",
     "text": [
      "Добавили в БД: 9ba1f8c9-8560-4ccc-a544-d9e7c5f34169\n"
     ]
    },
    {
     "name": "stderr",
     "output_type": "stream",
     "text": [
      "151it [21:41, 11.41s/it]"
     ]
    },
    {
     "name": "stdout",
     "output_type": "stream",
     "text": [
      "Добавили в БД: 53d3cac2-2a34-4793-bef8-7d1bae69998c\n"
     ]
    },
    {
     "name": "stderr",
     "output_type": "stream",
     "text": [
      "152it [21:56, 12.72s/it]"
     ]
    },
    {
     "name": "stdout",
     "output_type": "stream",
     "text": [
      "Добавили в БД: 18420466-1b4e-48b7-acb5-bde78533e411\n"
     ]
    },
    {
     "name": "stderr",
     "output_type": "stream",
     "text": [
      "153it [22:01, 10.29s/it]"
     ]
    },
    {
     "name": "stdout",
     "output_type": "stream",
     "text": [
      "Дубликат: dataset/test_data_yappy/test_dataset/b3038c26-a6bc-4ef7-be6d-860758a00879.mp4, оригинал: [('56ad43ff-5f8b-4f69-a710-544f0689c316', 0.918455483700906, 0.9553019607374887)]\n"
     ]
    },
    {
     "name": "stderr",
     "output_type": "stream",
     "text": [
      "154it [22:17, 12.05s/it]"
     ]
    },
    {
     "name": "stdout",
     "output_type": "stream",
     "text": [
      "Добавили в БД: 4bda5d12-79aa-4960-b25c-6ecb5e8d6ee4\n"
     ]
    },
    {
     "name": "stderr",
     "output_type": "stream",
     "text": [
      "155it [22:28, 11.55s/it]"
     ]
    },
    {
     "name": "stdout",
     "output_type": "stream",
     "text": [
      "Добавили в БД: 51cb354d-4dd3-4633-a9a8-6ac290c63b94\n"
     ]
    },
    {
     "name": "stderr",
     "output_type": "stream",
     "text": [
      "156it [22:39, 11.50s/it]"
     ]
    },
    {
     "name": "stdout",
     "output_type": "stream",
     "text": [
      "Добавили в БД: 55a0b6f3-8704-4f82-9864-3043188c6622\n"
     ]
    },
    {
     "name": "stderr",
     "output_type": "stream",
     "text": [
      "157it [22:50, 11.31s/it]"
     ]
    },
    {
     "name": "stdout",
     "output_type": "stream",
     "text": [
      "Дубликат: dataset/test_data_yappy/test_dataset/d6e2ecf2-e25f-4404-aeff-f4322aa78dc3.mp4, оригинал: [('31f0b3e9-2720-4cc8-b57b-bd7020af238e', 0.8923212036858191, 0.9904863474983802)]\n"
     ]
    },
    {
     "name": "stderr",
     "output_type": "stream",
     "text": [
      "158it [23:04, 12.20s/it]"
     ]
    },
    {
     "name": "stdout",
     "output_type": "stream",
     "text": [
      "Добавили в БД: 17b3b6d8-020f-4388-b40e-fdcac7640381\n"
     ]
    },
    {
     "name": "stderr",
     "output_type": "stream",
     "text": [
      "159it [23:12, 10.96s/it]"
     ]
    },
    {
     "name": "stdout",
     "output_type": "stream",
     "text": [
      "Дубликат: dataset/test_data_yappy/test_dataset/d20b9af1-de0d-4461-9e62-f87264d7c74d.mp4, оригинал: [('3e500c15-ffd4-4c74-92b0-dcad4bab92a9', 0.8794083094445986, 0.9998138654611275)]\n"
     ]
    },
    {
     "name": "stderr",
     "output_type": "stream",
     "text": [
      "160it [23:15,  8.42s/it]"
     ]
    },
    {
     "name": "stdout",
     "output_type": "stream",
     "text": [
      "Дубликат: dataset/test_data_yappy/test_dataset/85f14448-4f82-4d84-b91a-e3b2dee13254.mp4, оригинал: [('14543718-8b24-4c8a-b21a-9a8420fa9557', 0.8735181366493134, 0.8010325106251737)]\n"
     ]
    },
    {
     "name": "stderr",
     "output_type": "stream",
     "text": [
      "161it [23:29, 10.33s/it]"
     ]
    },
    {
     "name": "stdout",
     "output_type": "stream",
     "text": [
      "Добавили в БД: 47d762d4-e65b-4981-8fe3-77af5f50d3ef\n"
     ]
    },
    {
     "name": "stderr",
     "output_type": "stream",
     "text": [
      "162it [23:44, 11.70s/it]"
     ]
    },
    {
     "name": "stdout",
     "output_type": "stream",
     "text": [
      "Добавили в БД: 58620ec7-8708-4788-9fe2-800e2846d905\n"
     ]
    },
    {
     "name": "stderr",
     "output_type": "stream",
     "text": [
      "163it [23:55, 11.36s/it]"
     ]
    },
    {
     "name": "stdout",
     "output_type": "stream",
     "text": [
      "Добавили в БД: 0e1850d4-7eb0-4d0f-9d5b-a50628f4d0fb\n"
     ]
    },
    {
     "name": "stderr",
     "output_type": "stream",
     "text": [
      "164it [24:08, 11.95s/it]"
     ]
    },
    {
     "name": "stdout",
     "output_type": "stream",
     "text": [
      "Добавили в БД: 502732c3-4692-4d1f-80c9-37177bb23ea9\n"
     ]
    },
    {
     "name": "stderr",
     "output_type": "stream",
     "text": [
      "165it [24:23, 12.79s/it]"
     ]
    },
    {
     "name": "stdout",
     "output_type": "stream",
     "text": [
      "Добавили в БД: 4bd8c353-c9f9-44e4-b385-6845823f78ac\n"
     ]
    },
    {
     "name": "stderr",
     "output_type": "stream",
     "text": [
      "166it [24:36, 12.98s/it]"
     ]
    },
    {
     "name": "stdout",
     "output_type": "stream",
     "text": [
      "Добавили в БД: 52524d0e-e350-49d6-894b-83f047946f87\n"
     ]
    },
    {
     "name": "stderr",
     "output_type": "stream",
     "text": [
      "167it [24:54, 14.25s/it]"
     ]
    },
    {
     "name": "stdout",
     "output_type": "stream",
     "text": [
      "Добавили в БД: 1795ec11-e5aa-41e5-942e-9fb3aa1072fe\n"
     ]
    },
    {
     "name": "stderr",
     "output_type": "stream",
     "text": [
      "168it [25:05, 13.32s/it]"
     ]
    },
    {
     "name": "stdout",
     "output_type": "stream",
     "text": [
      "Добавили в БД: 056aef79-6ab5-47a4-b94a-b12360e199e0\n"
     ]
    },
    {
     "name": "stderr",
     "output_type": "stream",
     "text": [
      "169it [25:21, 14.17s/it]"
     ]
    },
    {
     "name": "stdout",
     "output_type": "stream",
     "text": [
      "Добавили в БД: 2457d5e8-52e9-40a7-a5c8-85794a8d832c\n"
     ]
    },
    {
     "name": "stderr",
     "output_type": "stream",
     "text": [
      "170it [25:35, 14.09s/it]"
     ]
    },
    {
     "name": "stdout",
     "output_type": "stream",
     "text": [
      "Добавили в БД: 6af154b5-0e8c-40ae-b382-0f5ae0362e26\n"
     ]
    },
    {
     "name": "stderr",
     "output_type": "stream",
     "text": [
      "171it [25:50, 14.40s/it]"
     ]
    },
    {
     "name": "stdout",
     "output_type": "stream",
     "text": [
      "Добавили в БД: 40d7d4a1-4ceb-47e7-8d7f-2cbee83fc0ac\n"
     ]
    },
    {
     "name": "stderr",
     "output_type": "stream",
     "text": [
      "172it [26:00, 12.98s/it]"
     ]
    },
    {
     "name": "stdout",
     "output_type": "stream",
     "text": [
      "Дубликат: dataset/test_data_yappy/test_dataset/e6ec3fc7-24ad-423e-8ce9-745bbdc86985.mp4, оригинал: [('204c815c-7a0b-409b-81ff-11c7b041c3bc', 0.8563300116154364, 0.9964477553924349)]\n"
     ]
    },
    {
     "name": "stderr",
     "output_type": "stream",
     "text": [
      "173it [26:17, 14.21s/it]"
     ]
    },
    {
     "name": "stdout",
     "output_type": "stream",
     "text": [
      "Добавили в БД: 1500bb45-8c9a-433a-97ce-069152590d81\n"
     ]
    },
    {
     "name": "stderr",
     "output_type": "stream",
     "text": [
      "174it [26:28, 13.31s/it]"
     ]
    },
    {
     "name": "stdout",
     "output_type": "stream",
     "text": [
      "Добавили в БД: 35e3810c-eb1d-485f-a51a-3d4a39aa771b\n"
     ]
    },
    {
     "name": "stderr",
     "output_type": "stream",
     "text": [
      "175it [26:41, 13.23s/it]"
     ]
    },
    {
     "name": "stdout",
     "output_type": "stream",
     "text": [
      "Добавили в БД: 318bf238-5201-4980-82bc-b83f25353301\n"
     ]
    },
    {
     "name": "stderr",
     "output_type": "stream",
     "text": [
      "176it [26:55, 13.35s/it]"
     ]
    },
    {
     "name": "stdout",
     "output_type": "stream",
     "text": [
      "Добавили в БД: da0b8156-1fd2-4816-8d91-7470b74bf230\n"
     ]
    },
    {
     "name": "stderr",
     "output_type": "stream",
     "text": [
      "177it [27:02, 11.56s/it]"
     ]
    },
    {
     "name": "stdout",
     "output_type": "stream",
     "text": [
      "Дубликат: dataset/test_data_yappy/test_dataset/b1e1199d-58bd-4236-8541-454bb4920b76.mp4, оригинал: [('1ecbf364-aa36-4d0e-9e1c-6bf4f6eccaf6', 0.9148067246900172, 0.9738199027808698)]\n"
     ]
    },
    {
     "name": "stderr",
     "output_type": "stream",
     "text": [
      "178it [27:13, 11.45s/it]"
     ]
    },
    {
     "name": "stdout",
     "output_type": "stream",
     "text": [
      "Добавили в БД: 3cc3b15e-c258-4f23-a169-2954622eacc3\n"
     ]
    },
    {
     "name": "stderr",
     "output_type": "stream",
     "text": [
      "179it [27:27, 12.31s/it]"
     ]
    },
    {
     "name": "stdout",
     "output_type": "stream",
     "text": [
      "Добавили в БД: 2a28cfbd-98da-4cb6-bb8c-a6a2963d66e2\n"
     ]
    },
    {
     "name": "stderr",
     "output_type": "stream",
     "text": [
      "180it [27:38, 11.90s/it]"
     ]
    },
    {
     "name": "stdout",
     "output_type": "stream",
     "text": [
      "Добавили в БД: 43e35cab-ec01-4560-9530-4503e55b0e52\n"
     ]
    },
    {
     "name": "stderr",
     "output_type": "stream",
     "text": [
      "181it [27:50, 11.82s/it]"
     ]
    },
    {
     "name": "stdout",
     "output_type": "stream",
     "text": [
      "Добавили в БД: 522c296e-acd9-4efb-bf7d-b89fb65f10af\n"
     ]
    },
    {
     "name": "stderr",
     "output_type": "stream",
     "text": [
      "182it [28:03, 12.11s/it]"
     ]
    },
    {
     "name": "stdout",
     "output_type": "stream",
     "text": [
      "Добавили в БД: 01c23a9b-1431-4110-a073-82f78761cdf4\n"
     ]
    },
    {
     "name": "stderr",
     "output_type": "stream",
     "text": [
      "183it [28:18, 13.11s/it]"
     ]
    },
    {
     "name": "stdout",
     "output_type": "stream",
     "text": [
      "Добавили в БД: 022c98a5-ecbe-4504-b984-0539300c5779\n"
     ]
    },
    {
     "name": "stderr",
     "output_type": "stream",
     "text": [
      "184it [28:33, 13.76s/it]"
     ]
    },
    {
     "name": "stdout",
     "output_type": "stream",
     "text": [
      "Добавили в БД: 34669109-9403-4204-9da8-61ac078b34b5\n"
     ]
    },
    {
     "name": "stderr",
     "output_type": "stream",
     "text": [
      "185it [28:46, 13.45s/it]"
     ]
    },
    {
     "name": "stdout",
     "output_type": "stream",
     "text": [
      "Добавили в БД: 0aede0b8-f305-4523-b8d5-0daae970bffb\n"
     ]
    },
    {
     "name": "stderr",
     "output_type": "stream",
     "text": [
      "186it [29:05, 14.99s/it]"
     ]
    },
    {
     "name": "stdout",
     "output_type": "stream",
     "text": [
      "Добавили в БД: 1f7a9c15-df11-4d92-a45e-4d66182a864e\n"
     ]
    },
    {
     "name": "stderr",
     "output_type": "stream",
     "text": [
      "187it [29:19, 14.65s/it]"
     ]
    },
    {
     "name": "stdout",
     "output_type": "stream",
     "text": [
      "Добавили в БД: 1ea6938b-8fca-4e73-9168-2c9d3aa42e36\n"
     ]
    },
    {
     "name": "stderr",
     "output_type": "stream",
     "text": [
      "188it [29:31, 13.97s/it]"
     ]
    },
    {
     "name": "stdout",
     "output_type": "stream",
     "text": [
      "Добавили в БД: 8a7beeff-5fe6-4164-ab11-a1dc1fd55a1b\n"
     ]
    },
    {
     "name": "stderr",
     "output_type": "stream",
     "text": [
      "189it [29:47, 14.59s/it]"
     ]
    },
    {
     "name": "stdout",
     "output_type": "stream",
     "text": [
      "Добавили в БД: 5058ea4a-8131-4f69-bc9e-1f83e4dfa378\n"
     ]
    },
    {
     "name": "stderr",
     "output_type": "stream",
     "text": [
      "190it [30:00, 14.18s/it]"
     ]
    },
    {
     "name": "stdout",
     "output_type": "stream",
     "text": [
      "Добавили в БД: 43e5eb3e-5045-4a17-84b1-7a2925b2bc14\n"
     ]
    },
    {
     "name": "stderr",
     "output_type": "stream",
     "text": [
      "191it [30:13, 13.86s/it]"
     ]
    },
    {
     "name": "stdout",
     "output_type": "stream",
     "text": [
      "Добавили в БД: 1e6e0666-4916-407c-a177-b514942f08ef\n"
     ]
    },
    {
     "name": "stderr",
     "output_type": "stream",
     "text": [
      "192it [30:30, 14.64s/it]"
     ]
    },
    {
     "name": "stdout",
     "output_type": "stream",
     "text": [
      "Добавили в БД: 56f03cbc-a810-4e8b-8fbd-e69e2d7e3760\n"
     ]
    },
    {
     "name": "stderr",
     "output_type": "stream",
     "text": [
      "193it [30:49, 16.03s/it]"
     ]
    },
    {
     "name": "stdout",
     "output_type": "stream",
     "text": [
      "Добавили в БД: 2c68b7a9-8ab1-422f-886e-08e15fca56be\n"
     ]
    },
    {
     "name": "stderr",
     "output_type": "stream",
     "text": [
      "194it [30:57, 13.51s/it]"
     ]
    },
    {
     "name": "stdout",
     "output_type": "stream",
     "text": [
      "Дубликат: dataset/test_data_yappy/test_dataset/ca330bcf-7297-432a-ad85-4c7eb4ab98fc.mp4, оригинал: [('161877d9-5769-4ee5-8be4-c4506862b2bc', 0.8070135330515892, 0.9693289232126443)]\n"
     ]
    },
    {
     "name": "stderr",
     "output_type": "stream",
     "text": [
      "195it [31:07, 12.47s/it]"
     ]
    },
    {
     "name": "stdout",
     "output_type": "stream",
     "text": [
      "Добавили в БД: 29357f2d-f255-4ac0-b611-d3fc27168969\n"
     ]
    },
    {
     "name": "stderr",
     "output_type": "stream",
     "text": [
      "196it [31:19, 12.38s/it]"
     ]
    },
    {
     "name": "stdout",
     "output_type": "stream",
     "text": [
      "Добавили в БД: 1196aba5-c4d0-4c07-b576-df6ef7e2ca3d\n"
     ]
    },
    {
     "name": "stderr",
     "output_type": "stream",
     "text": [
      "197it [31:32, 12.42s/it]"
     ]
    },
    {
     "name": "stdout",
     "output_type": "stream",
     "text": [
      "Добавили в БД: 1af7989d-7328-4c9e-9abb-fc0e9efbf372\n"
     ]
    },
    {
     "name": "stderr",
     "output_type": "stream",
     "text": [
      "198it [31:44, 12.40s/it]"
     ]
    },
    {
     "name": "stdout",
     "output_type": "stream",
     "text": [
      "Добавили в БД: 1437ee17-531f-4f2a-8e47-5a8c8a1c90c8\n"
     ]
    },
    {
     "name": "stderr",
     "output_type": "stream",
     "text": [
      "199it [31:54, 11.81s/it]"
     ]
    },
    {
     "name": "stdout",
     "output_type": "stream",
     "text": [
      "Дубликат: dataset/test_data_yappy/test_dataset/15e726c7-03cb-48c4-938c-7cd3e61bb987.mp4, оригинал: [('154ef8f1-b0ce-49cb-b5b1-34d8f975875d', 0.9292359531083719, 0.9949360758028836)]\n"
     ]
    },
    {
     "name": "stderr",
     "output_type": "stream",
     "text": [
      "200it [31:57,  8.97s/it]"
     ]
    },
    {
     "name": "stdout",
     "output_type": "stream",
     "text": [
      "Дубликат: dataset/test_data_yappy/test_dataset/a4acfb9f-7f2c-474e-81fa-f295814bcd7c.mp4, оригинал: [('1e04d8a4-4bb2-4e2f-bc11-f6d10e136f71', 0.8398895434179776, 0.9980903758753297)]\n"
     ]
    },
    {
     "name": "stderr",
     "output_type": "stream",
     "text": [
      "201it [32:11, 10.56s/it]"
     ]
    },
    {
     "name": "stdout",
     "output_type": "stream",
     "text": [
      "Добавили в БД: 2849de4d-adde-4444-9630-e3364386f39c\n"
     ]
    },
    {
     "name": "stderr",
     "output_type": "stream",
     "text": [
      "202it [32:24, 11.29s/it]"
     ]
    },
    {
     "name": "stdout",
     "output_type": "stream",
     "text": [
      "Дубликат: dataset/test_data_yappy/test_dataset/e497cf28-d582-4e83-b7b3-2737efb39af3.mp4, оригинал: [('110de471-9404-4ba7-8bae-eaceb1a2dc9e', 0.8557822997411477, 0.9972850146817913)]\n"
     ]
    },
    {
     "name": "stderr",
     "output_type": "stream",
     "text": [
      "203it [32:38, 12.20s/it]"
     ]
    },
    {
     "name": "stdout",
     "output_type": "stream",
     "text": [
      "Добавили в БД: 09d5d9a7-0199-49c4-abff-283a6898468f\n"
     ]
    },
    {
     "name": "stderr",
     "output_type": "stream",
     "text": [
      "204it [32:51, 12.35s/it]"
     ]
    },
    {
     "name": "stdout",
     "output_type": "stream",
     "text": [
      "Добавили в БД: 31edad77-95fa-4d70-94e2-25808157556d\n"
     ]
    },
    {
     "name": "stderr",
     "output_type": "stream",
     "text": [
      "205it [33:13, 15.38s/it]"
     ]
    },
    {
     "name": "stdout",
     "output_type": "stream",
     "text": [
      "Добавили в БД: 0feef7ae-1b28-40b2-ab4d-3730f2dcb213\n"
     ]
    },
    {
     "name": "stderr",
     "output_type": "stream",
     "text": [
      "206it [33:31, 16.10s/it]"
     ]
    },
    {
     "name": "stdout",
     "output_type": "stream",
     "text": [
      "Добавили в БД: 49262d22-8259-447f-9fe3-ed955267e3e1\n"
     ]
    },
    {
     "name": "stderr",
     "output_type": "stream",
     "text": [
      "207it [33:51, 17.11s/it]"
     ]
    },
    {
     "name": "stdout",
     "output_type": "stream",
     "text": [
      "Добавили в БД: 1235d8a1-efee-427f-97ba-84bdd99ef5c9\n"
     ]
    },
    {
     "name": "stderr",
     "output_type": "stream",
     "text": [
      "208it [34:08, 17.32s/it]"
     ]
    },
    {
     "name": "stdout",
     "output_type": "stream",
     "text": [
      "Добавили в БД: 0f8fd4bc-af83-46fc-92e6-29c59341d73d\n"
     ]
    },
    {
     "name": "stderr",
     "output_type": "stream",
     "text": [
      "209it [34:25, 17.13s/it]"
     ]
    },
    {
     "name": "stdout",
     "output_type": "stream",
     "text": [
      "Добавили в БД: 56d5079e-2312-45f8-8de0-f51bd92a214b\n"
     ]
    },
    {
     "name": "stderr",
     "output_type": "stream",
     "text": [
      "210it [34:52, 20.04s/it]"
     ]
    },
    {
     "name": "stdout",
     "output_type": "stream",
     "text": [
      "Добавили в БД: 37547006-56f0-4da2-8902-a8b0b3a7dcc4\n"
     ]
    },
    {
     "name": "stderr",
     "output_type": "stream",
     "text": [
      "211it [35:13, 20.22s/it]"
     ]
    },
    {
     "name": "stdout",
     "output_type": "stream",
     "text": [
      "Добавили в БД: 56f1b6a1-d525-4ec6-9b44-120e74753e89\n"
     ]
    },
    {
     "name": "stderr",
     "output_type": "stream",
     "text": [
      "212it [35:38, 21.66s/it]"
     ]
    },
    {
     "name": "stdout",
     "output_type": "stream",
     "text": [
      "Добавили в БД: f41d2baf-756c-4ebf-9a7b-84d9a59ccca1\n"
     ]
    },
    {
     "name": "stderr",
     "output_type": "stream",
     "text": [
      "213it [35:45, 17.38s/it]"
     ]
    },
    {
     "name": "stdout",
     "output_type": "stream",
     "text": [
      "Дубликат: dataset/test_data_yappy/test_dataset/0c3e7eb6-0ae5-4e0e-8c6a-355817e8706d.mp4, оригинал: [('2d9d01ee-e4cd-4ca0-9e45-eb194b45e9a6', 0.8603438381885504, 0.9059256249240817)]\n"
     ]
    },
    {
     "name": "stderr",
     "output_type": "stream",
     "text": [
      "214it [36:00, 16.64s/it]"
     ]
    },
    {
     "name": "stdout",
     "output_type": "stream",
     "text": [
      "Добавили в БД: 0db5c843-a052-423f-a95a-b2d4c6b1d8e2\n"
     ]
    },
    {
     "name": "stderr",
     "output_type": "stream",
     "text": [
      "215it [36:09, 14.35s/it]"
     ]
    },
    {
     "name": "stdout",
     "output_type": "stream",
     "text": [
      "Дубликат: dataset/test_data_yappy/test_dataset/ee3129a2-52b5-43f0-997d-ed78b9f75e2b.mp4, оригинал: [('123df5b5-b60a-4ad8-b7eb-bdc5c5a5216d', 0.929181821274555, 0.9900352496326456)]\n"
     ]
    },
    {
     "name": "stderr",
     "output_type": "stream",
     "text": [
      "216it [36:23, 14.19s/it]"
     ]
    },
    {
     "name": "stdout",
     "output_type": "stream",
     "text": [
      "Добавили в БД: bece32e5-3abb-4bd3-883f-d82871baf8ad\n"
     ]
    },
    {
     "name": "stderr",
     "output_type": "stream",
     "text": [
      "217it [36:49, 17.76s/it]"
     ]
    },
    {
     "name": "stdout",
     "output_type": "stream",
     "text": [
      "Добавили в БД: 507c2679-fd14-4a4b-9bb8-d5ad6cbb1837\n"
     ]
    },
    {
     "name": "stderr",
     "output_type": "stream",
     "text": [
      "218it [37:03, 16.79s/it]"
     ]
    },
    {
     "name": "stdout",
     "output_type": "stream",
     "text": [
      "Добавили в БД: 07956dd8-a305-486d-bc22-8fad2e7840bf\n"
     ]
    },
    {
     "name": "stderr",
     "output_type": "stream",
     "text": [
      "219it [37:21, 17.17s/it]"
     ]
    },
    {
     "name": "stdout",
     "output_type": "stream",
     "text": [
      "Добавили в БД: 408c83a2-1ed9-4dbe-9300-fc32cf4dccc5\n"
     ]
    },
    {
     "name": "stderr",
     "output_type": "stream",
     "text": [
      "220it [37:45, 19.11s/it]"
     ]
    },
    {
     "name": "stdout",
     "output_type": "stream",
     "text": [
      "Добавили в БД: 6d8bc388-7f40-488f-a34b-69a9953c3bdc\n"
     ]
    },
    {
     "name": "stderr",
     "output_type": "stream",
     "text": [
      "221it [38:08, 20.21s/it]"
     ]
    },
    {
     "name": "stdout",
     "output_type": "stream",
     "text": [
      "Добавили в БД: 07d1b5e9-3a32-4650-b042-eeea140fc730\n"
     ]
    },
    {
     "name": "stderr",
     "output_type": "stream",
     "text": [
      "222it [38:22, 18.28s/it]"
     ]
    },
    {
     "name": "stdout",
     "output_type": "stream",
     "text": [
      "Дубликат: dataset/test_data_yappy/test_dataset/6117e44d-9b5b-48c1-9868-2fadddc9d882.mp4, оригинал: [('069d0eca-21e9-44ee-b44d-bc10099a2e21', 0.8179666582397733, 0.9984370888629179)]\n"
     ]
    },
    {
     "name": "stderr",
     "output_type": "stream",
     "text": [
      "223it [38:43, 19.33s/it]"
     ]
    },
    {
     "name": "stdout",
     "output_type": "stream",
     "text": [
      "Добавили в БД: ea77c832-a4aa-4bf5-8c23-c38fd31baf0d\n"
     ]
    },
    {
     "name": "stderr",
     "output_type": "stream",
     "text": [
      "224it [38:54, 16.81s/it]"
     ]
    },
    {
     "name": "stdout",
     "output_type": "stream",
     "text": [
      "Дубликат: dataset/test_data_yappy/test_dataset/daaf47b2-5df3-4aed-a3b3-2143c3fe09f0.mp4, оригинал: [('03ed14a1-8a28-438a-8d4c-4e0ad01ba6bb', 0.8417268693797302, 0.99555874948526)]\n"
     ]
    },
    {
     "name": "stderr",
     "output_type": "stream",
     "text": [
      "225it [39:14, 17.72s/it]"
     ]
    },
    {
     "name": "stdout",
     "output_type": "stream",
     "text": [
      "Добавили в БД: 44dac7ab-eabe-4d21-b541-9090c791485f\n"
     ]
    },
    {
     "name": "stderr",
     "output_type": "stream",
     "text": [
      "226it [39:32, 17.77s/it]"
     ]
    },
    {
     "name": "stdout",
     "output_type": "stream",
     "text": [
      "Добавили в БД: 3d51898f-1321-4a03-95a2-2f8cfb6e03bd\n"
     ]
    },
    {
     "name": "stderr",
     "output_type": "stream",
     "text": [
      "228it [40:11, 18.36s/it]"
     ]
    },
    {
     "name": "stdout",
     "output_type": "stream",
     "text": [
      "Добавили в БД: 114ccaf0-35f3-4980-8e92-63f0f2942c7b\n"
     ]
    },
    {
     "name": "stderr",
     "output_type": "stream",
     "text": [
      "229it [40:39, 21.51s/it]"
     ]
    },
    {
     "name": "stdout",
     "output_type": "stream",
     "text": [
      "Добавили в БД: 1035524b-f76c-4feb-94b6-2e78656bff6c\n"
     ]
    },
    {
     "name": "stderr",
     "output_type": "stream",
     "text": [
      "230it [41:05, 22.62s/it]"
     ]
    },
    {
     "name": "stdout",
     "output_type": "stream",
     "text": [
      "Добавили в БД: 42672f48-f492-40ca-b44a-6afd6060fb99\n"
     ]
    },
    {
     "name": "stderr",
     "output_type": "stream",
     "text": [
      "231it [41:17, 19.43s/it]"
     ]
    },
    {
     "name": "stdout",
     "output_type": "stream",
     "text": [
      "Дубликат: dataset/test_data_yappy/test_dataset/e89668d5-f210-47ec-b900-323726e7ce49.mp4, оригинал: [('502732c3-4692-4d1f-80c9-37177bb23ea9', 0.9552964308103493, 0.9951624493016282)]\n"
     ]
    },
    {
     "name": "stderr",
     "output_type": "stream",
     "text": [
      "232it [41:28, 16.90s/it]"
     ]
    },
    {
     "name": "stdout",
     "output_type": "stream",
     "text": [
      "Дубликат: dataset/test_data_yappy/test_dataset/366875f3-ec6b-4061-ad9c-f16a8d107aa7.mp4, оригинал: [('4bd8c353-c9f9-44e4-b385-6845823f78ac', 0.8964335638017739, 0.9917297615290227)]\n"
     ]
    },
    {
     "name": "stderr",
     "output_type": "stream",
     "text": [
      "233it [41:46, 17.37s/it]"
     ]
    },
    {
     "name": "stdout",
     "output_type": "stream",
     "text": [
      "Добавили в БД: 03ee43f5-5940-41f9-8575-2561e45fdcb5\n"
     ]
    },
    {
     "name": "stderr",
     "output_type": "stream",
     "text": [
      "234it [42:03, 17.23s/it]"
     ]
    },
    {
     "name": "stdout",
     "output_type": "stream",
     "text": [
      "Добавили в БД: 0a63edfd-92bc-4a39-94c0-c46f1fb9dad8\n"
     ]
    },
    {
     "name": "stderr",
     "output_type": "stream",
     "text": [
      "235it [42:20, 17.10s/it]"
     ]
    },
    {
     "name": "stdout",
     "output_type": "stream",
     "text": [
      "Добавили в БД: 319536be-bd65-4dbb-860a-59ac7cf13182\n"
     ]
    },
    {
     "name": "stderr",
     "output_type": "stream",
     "text": [
      "236it [42:28, 14.38s/it]"
     ]
    },
    {
     "name": "stdout",
     "output_type": "stream",
     "text": [
      "Дубликат: dataset/test_data_yappy/test_dataset/27e9df78-4ec9-401f-8dec-cb6d3b409717.mp4, оригинал: [('4a4d307c-e727-45e6-8d6e-ac14462d042c', 0.9469987907466919, 0.9954155039974766)]\n"
     ]
    },
    {
     "name": "stderr",
     "output_type": "stream",
     "text": [
      "237it [42:45, 15.17s/it]"
     ]
    },
    {
     "name": "stdout",
     "output_type": "stream",
     "text": [
      "Добавили в БД: 56055f85-6cb6-4685-b637-f726adf89094\n"
     ]
    },
    {
     "name": "stderr",
     "output_type": "stream",
     "text": [
      "238it [43:04, 16.32s/it]"
     ]
    },
    {
     "name": "stdout",
     "output_type": "stream",
     "text": [
      "Добавили в БД: 31c8226d-c478-4ee1-ad2c-3c608291a1cd\n"
     ]
    },
    {
     "name": "stderr",
     "output_type": "stream",
     "text": [
      "239it [43:31, 19.71s/it]"
     ]
    },
    {
     "name": "stdout",
     "output_type": "stream",
     "text": [
      "Добавили в БД: 3d80a2f4-fcf1-4782-a5d4-d84fcc3361c9\n"
     ]
    },
    {
     "name": "stderr",
     "output_type": "stream",
     "text": [
      "240it [43:45, 17.90s/it]"
     ]
    },
    {
     "name": "stdout",
     "output_type": "stream",
     "text": [
      "Дубликат: dataset/test_data_yappy/test_dataset/09408e1e-b008-40b6-8571-2d9c0bf34f9f.mp4, оригинал: [('1dfd5ee7-2488-4c21-a181-b719238197ce', 0.9299897592240497, 0.9872603572341582)]\n",
      "Ошибка при извлечении эмбеддингов из dataset/test_data_yappy/test_dataset/139029f2-ad13-41b0-8628-4faa87051f89.mp4: list index out of range\n"
     ]
    },
    {
     "name": "stderr",
     "output_type": "stream",
     "text": [
      "241it [43:58, 16.44s/it]"
     ]
    },
    {
     "name": "stdout",
     "output_type": "stream",
     "text": [
      "Добавили в БД: 139029f2-ad13-41b0-8628-4faa87051f89\n"
     ]
    },
    {
     "name": "stderr",
     "output_type": "stream",
     "text": [
      "242it [44:22, 18.75s/it]"
     ]
    },
    {
     "name": "stdout",
     "output_type": "stream",
     "text": [
      "Добавили в БД: 291e40c2-572d-40b1-9ef8-53a32b00c682\n"
     ]
    },
    {
     "name": "stderr",
     "output_type": "stream",
     "text": [
      "243it [44:42, 19.08s/it]"
     ]
    },
    {
     "name": "stdout",
     "output_type": "stream",
     "text": [
      "Добавили в БД: 171735f5-dbec-40e2-b6ed-25a8c782ad70\n"
     ]
    },
    {
     "name": "stderr",
     "output_type": "stream",
     "text": [
      "244it [45:01, 19.04s/it]"
     ]
    },
    {
     "name": "stdout",
     "output_type": "stream",
     "text": [
      "Добавили в БД: 4125f588-58e0-451e-8939-95a412a01b50\n"
     ]
    },
    {
     "name": "stderr",
     "output_type": "stream",
     "text": [
      "245it [45:21, 19.23s/it]"
     ]
    },
    {
     "name": "stdout",
     "output_type": "stream",
     "text": [
      "Добавили в БД: 3050c0fb-0105-4a6c-b4ba-4d11b3187553\n"
     ]
    },
    {
     "name": "stderr",
     "output_type": "stream",
     "text": [
      "246it [45:38, 18.71s/it]"
     ]
    },
    {
     "name": "stdout",
     "output_type": "stream",
     "text": [
      "Дубликат: dataset/test_data_yappy/test_dataset/493273cc-08fb-412d-ae01-08423fe22c4d.mp4, оригинал: [('47d762d4-e65b-4981-8fe3-77af5f50d3ef', 0.8215303878399551, 0.9997562552208508)]\n"
     ]
    },
    {
     "name": "stderr",
     "output_type": "stream",
     "text": [
      "247it [45:54, 17.77s/it]"
     ]
    },
    {
     "name": "stdout",
     "output_type": "stream",
     "text": [
      "Добавили в БД: 125a7e92-09d4-4f4f-83c5-b3a526ab02fd\n"
     ]
    },
    {
     "name": "stderr",
     "output_type": "stream",
     "text": [
      "248it [46:14, 18.41s/it]"
     ]
    },
    {
     "name": "stdout",
     "output_type": "stream",
     "text": [
      "Добавили в БД: 37de884d-ad88-47c6-aa27-e2b657d07f01\n"
     ]
    },
    {
     "name": "stderr",
     "output_type": "stream",
     "text": [
      "249it [46:41, 21.15s/it]"
     ]
    },
    {
     "name": "stdout",
     "output_type": "stream",
     "text": [
      "Добавили в БД: 12866d01-fa3b-433d-acf8-f071323f5478\n"
     ]
    },
    {
     "name": "stderr",
     "output_type": "stream",
     "text": [
      "250it [46:59, 20.16s/it]"
     ]
    },
    {
     "name": "stdout",
     "output_type": "stream",
     "text": [
      "Добавили в БД: 49ae1c7b-87a4-4b92-ba00-a364d0eaa986\n"
     ]
    },
    {
     "name": "stderr",
     "output_type": "stream",
     "text": [
      "251it [47:16, 19.23s/it]"
     ]
    },
    {
     "name": "stdout",
     "output_type": "stream",
     "text": [
      "Добавили в БД: 3f0eefe0-2b85-4405-9029-241de06e139f\n"
     ]
    },
    {
     "name": "stderr",
     "output_type": "stream",
     "text": [
      "252it [47:33, 18.65s/it]"
     ]
    },
    {
     "name": "stdout",
     "output_type": "stream",
     "text": [
      "Добавили в БД: 47136e35-004c-4c6f-a57b-c60ec76aa9a7\n"
     ]
    },
    {
     "name": "stderr",
     "output_type": "stream",
     "text": [
      "253it [47:46, 16.78s/it]"
     ]
    },
    {
     "name": "stdout",
     "output_type": "stream",
     "text": [
      "Дубликат: dataset/test_data_yappy/test_dataset/beffe154-0f5b-43c6-ba8e-14221233555c.mp4, оригинал: [('37de884d-ad88-47c6-aa27-e2b657d07f01', 0.9139521433332489, 0.977750690146364)]\n"
     ]
    },
    {
     "name": "stderr",
     "output_type": "stream",
     "text": [
      "254it [47:57, 15.15s/it]"
     ]
    },
    {
     "name": "stdout",
     "output_type": "stream",
     "text": [
      "Дубликат: dataset/test_data_yappy/test_dataset/55b0627e-69e3-42e7-8847-5967e19ae9d9.mp4, оригинал: [('15f456ef-b474-4738-a4d7-fae4983685ec', 0.9212731837275316, 0.9704239495616201)]\n"
     ]
    },
    {
     "name": "stderr",
     "output_type": "stream",
     "text": [
      "255it [48:23, 18.21s/it]"
     ]
    },
    {
     "name": "stdout",
     "output_type": "stream",
     "text": [
      "Добавили в БД: 3df403d8-0341-4241-a2fd-25ea139aed7c\n"
     ]
    },
    {
     "name": "stderr",
     "output_type": "stream",
     "text": [
      "256it [48:41, 18.33s/it]"
     ]
    },
    {
     "name": "stdout",
     "output_type": "stream",
     "text": [
      "Добавили в БД: 4fbeff54-c185-4260-b46f-2bec691c722c\n"
     ]
    },
    {
     "name": "stderr",
     "output_type": "stream",
     "text": [
      "257it [49:05, 19.88s/it]"
     ]
    },
    {
     "name": "stdout",
     "output_type": "stream",
     "text": [
      "Добавили в БД: 12328066-5fdb-4610-89f3-84779dbd1bf3\n"
     ]
    },
    {
     "name": "stderr",
     "output_type": "stream",
     "text": [
      "258it [49:28, 20.91s/it]"
     ]
    },
    {
     "name": "stdout",
     "output_type": "stream",
     "text": [
      "Добавили в БД: 07c18a0a-7c32-4f2e-acf4-27f4130213aa\n"
     ]
    },
    {
     "name": "stderr",
     "output_type": "stream",
     "text": [
      "259it [49:48, 20.69s/it]"
     ]
    },
    {
     "name": "stdout",
     "output_type": "stream",
     "text": [
      "Добавили в БД: 55579213-9c71-4c28-8fc0-cd3895c00002\n"
     ]
    },
    {
     "name": "stderr",
     "output_type": "stream",
     "text": [
      "260it [49:59, 17.65s/it]"
     ]
    },
    {
     "name": "stdout",
     "output_type": "stream",
     "text": [
      "Дубликат: dataset/test_data_yappy/test_dataset/2dff09bf-6afc-48e4-9110-34c6bf90e926.mp4, оригинал: [('55a0b6f3-8704-4f82-9864-3043188c6622', 0.8430628703956372, 0.9947462776181246)]\n"
     ]
    },
    {
     "name": "stderr",
     "output_type": "stream",
     "text": [
      "261it [50:16, 17.41s/it]"
     ]
    },
    {
     "name": "stdout",
     "output_type": "stream",
     "text": [
      "Добавили в БД: 516fd2ad-bd03-4d43-8847-66e0550dbce2\n"
     ]
    },
    {
     "name": "stderr",
     "output_type": "stream",
     "text": [
      "262it [50:38, 18.90s/it]"
     ]
    },
    {
     "name": "stdout",
     "output_type": "stream",
     "text": [
      "Добавили в БД: 20a109be-7431-48fb-8264-8b05d975fbc9\n"
     ]
    },
    {
     "name": "stderr",
     "output_type": "stream",
     "text": [
      "263it [50:56, 18.63s/it]"
     ]
    },
    {
     "name": "stdout",
     "output_type": "stream",
     "text": [
      "Добавили в БД: 2e1dd4e1-f7c6-4d1e-9bf1-464731ced6d2\n"
     ]
    },
    {
     "name": "stderr",
     "output_type": "stream",
     "text": [
      "264it [51:18, 19.75s/it]"
     ]
    },
    {
     "name": "stdout",
     "output_type": "stream",
     "text": [
      "Добавили в БД: 31fc90bf-2255-4e7f-856d-2589b8ebbe2b\n"
     ]
    },
    {
     "name": "stderr",
     "output_type": "stream",
     "text": [
      "265it [51:40, 20.29s/it]"
     ]
    },
    {
     "name": "stdout",
     "output_type": "stream",
     "text": [
      "Добавили в БД: 03f7df91-e272-4163-a118-73a32e958c68\n"
     ]
    },
    {
     "name": "stderr",
     "output_type": "stream",
     "text": [
      "266it [52:01, 20.59s/it]"
     ]
    },
    {
     "name": "stdout",
     "output_type": "stream",
     "text": [
      "Добавили в БД: 82e37a3a-1644-48ff-8da1-0aa06493ae07\n"
     ]
    },
    {
     "name": "stderr",
     "output_type": "stream",
     "text": [
      "267it [52:23, 20.88s/it]"
     ]
    },
    {
     "name": "stdout",
     "output_type": "stream",
     "text": [
      "Добавили в БД: 5732d2e1-efc8-4b66-bd3b-25fc0fc78c47\n"
     ]
    },
    {
     "name": "stderr",
     "output_type": "stream",
     "text": [
      "268it [52:40, 19.92s/it]"
     ]
    },
    {
     "name": "stdout",
     "output_type": "stream",
     "text": [
      "Добавили в БД: e40bd8e1-6c2b-4f6e-8282-3ef8ae482c82\n"
     ]
    },
    {
     "name": "stderr",
     "output_type": "stream",
     "text": [
      "269it [52:58, 19.17s/it]"
     ]
    },
    {
     "name": "stdout",
     "output_type": "stream",
     "text": [
      "Добавили в БД: 34840f48-e1e1-48da-9555-6bbafc9651e2\n"
     ]
    },
    {
     "name": "stderr",
     "output_type": "stream",
     "text": [
      "270it [53:19, 19.78s/it]"
     ]
    },
    {
     "name": "stdout",
     "output_type": "stream",
     "text": [
      "Добавили в БД: 2585ccfe-ff93-4a66-b576-0a36625a1864\n"
     ]
    },
    {
     "name": "stderr",
     "output_type": "stream",
     "text": [
      "271it [53:40, 20.04s/it]"
     ]
    },
    {
     "name": "stdout",
     "output_type": "stream",
     "text": [
      "Добавили в БД: d4341c53-cb65-4fcc-8882-fe32ff34aa34\n"
     ]
    },
    {
     "name": "stderr",
     "output_type": "stream",
     "text": [
      "272it [54:00, 20.02s/it]"
     ]
    },
    {
     "name": "stdout",
     "output_type": "stream",
     "text": [
      "Добавили в БД: 34f786cd-67ce-4cef-a65f-1a21ebcf4021\n"
     ]
    },
    {
     "name": "stderr",
     "output_type": "stream",
     "text": [
      "273it [54:22, 20.84s/it]"
     ]
    },
    {
     "name": "stdout",
     "output_type": "stream",
     "text": [
      "Добавили в БД: 493ade73-4c95-4d57-ba16-972337726825\n"
     ]
    },
    {
     "name": "stderr",
     "output_type": "stream",
     "text": [
      "274it [54:46, 21.73s/it]"
     ]
    },
    {
     "name": "stdout",
     "output_type": "stream",
     "text": [
      "Добавили в БД: 4e82d954-ac77-4c71-ba54-7cce3f8fed16\n"
     ]
    },
    {
     "name": "stderr",
     "output_type": "stream",
     "text": [
      "275it [55:07, 21.48s/it]"
     ]
    },
    {
     "name": "stdout",
     "output_type": "stream",
     "text": [
      "Добавили в БД: 3e9e9251-b0d4-4ea8-9423-cee3f4280df2\n"
     ]
    },
    {
     "name": "stderr",
     "output_type": "stream",
     "text": [
      "276it [55:28, 21.35s/it]"
     ]
    },
    {
     "name": "stdout",
     "output_type": "stream",
     "text": [
      "Добавили в БД: 33a3e00c-fab9-4c25-bc02-a79150b8a7d7\n"
     ]
    },
    {
     "name": "stderr",
     "output_type": "stream",
     "text": [
      "277it [55:48, 20.99s/it]"
     ]
    },
    {
     "name": "stdout",
     "output_type": "stream",
     "text": [
      "Добавили в БД: 190740b7-1fc0-40a7-bdec-c00b3c4552c1\n"
     ]
    },
    {
     "name": "stderr",
     "output_type": "stream",
     "text": [
      "278it [56:17, 23.16s/it]"
     ]
    },
    {
     "name": "stdout",
     "output_type": "stream",
     "text": [
      "Добавили в БД: 3aa7157d-683a-444a-aaad-8403bca6f6a9\n"
     ]
    },
    {
     "name": "stderr",
     "output_type": "stream",
     "text": [
      "279it [56:38, 22.55s/it]"
     ]
    },
    {
     "name": "stdout",
     "output_type": "stream",
     "text": [
      "Добавили в БД: 53aec1a3-f36d-4aee-b1fa-b8986507411b\n"
     ]
    },
    {
     "name": "stderr",
     "output_type": "stream",
     "text": [
      "280it [57:00, 22.56s/it]"
     ]
    },
    {
     "name": "stdout",
     "output_type": "stream",
     "text": [
      "Добавили в БД: c01492b4-b641-44be-b883-100510f335c6\n"
     ]
    },
    {
     "name": "stderr",
     "output_type": "stream",
     "text": [
      "281it [57:18, 21.22s/it]"
     ]
    },
    {
     "name": "stdout",
     "output_type": "stream",
     "text": [
      "Добавили в БД: 1deedd92-884e-4d0a-9742-d1e5118ec3c0\n"
     ]
    },
    {
     "name": "stderr",
     "output_type": "stream",
     "text": [
      "282it [57:37, 20.37s/it]"
     ]
    },
    {
     "name": "stdout",
     "output_type": "stream",
     "text": [
      "Добавили в БД: 1e76b0e1-c747-4a2d-b02e-c083f78f01a4\n"
     ]
    },
    {
     "name": "stderr",
     "output_type": "stream",
     "text": [
      "283it [57:55, 19.89s/it]"
     ]
    },
    {
     "name": "stdout",
     "output_type": "stream",
     "text": [
      "Добавили в БД: 52401023-d7fa-48b5-9d9b-28d4b2c7d58a\n"
     ]
    },
    {
     "name": "stderr",
     "output_type": "stream",
     "text": [
      "284it [58:20, 21.17s/it]"
     ]
    },
    {
     "name": "stdout",
     "output_type": "stream",
     "text": [
      "Добавили в БД: 51222238-837f-4197-bd8d-1c74ee2994cb\n"
     ]
    },
    {
     "name": "stderr",
     "output_type": "stream",
     "text": [
      "285it [58:38, 20.29s/it]"
     ]
    },
    {
     "name": "stdout",
     "output_type": "stream",
     "text": [
      "Добавили в БД: d9060c03-304c-45c8-b3e6-417caf07f7a7\n"
     ]
    },
    {
     "name": "stderr",
     "output_type": "stream",
     "text": [
      "286it [58:54, 19.13s/it]"
     ]
    },
    {
     "name": "stdout",
     "output_type": "stream",
     "text": [
      "Добавили в БД: 3a2ea8fe-ffcc-4531-95f3-1a90acd73de6\n"
     ]
    },
    {
     "name": "stderr",
     "output_type": "stream",
     "text": [
      "287it [59:02, 15.56s/it]"
     ]
    },
    {
     "name": "stdout",
     "output_type": "stream",
     "text": [
      "Дубликат: dataset/test_data_yappy/test_dataset/7bdd1da5-7a07-4a7d-9ebe-c99a57a132fa.mp4, оригинал: [('0f8fd4bc-af83-46fc-92e6-29c59341d73d', 0.9409029265095896, 0.9171016929371787)]\n"
     ]
    },
    {
     "name": "stderr",
     "output_type": "stream",
     "text": [
      "288it [59:12, 13.91s/it]"
     ]
    },
    {
     "name": "stdout",
     "output_type": "stream",
     "text": [
      "Дубликат: dataset/test_data_yappy/test_dataset/d59de777-7830-4232-95d0-cfac0e76a910.mp4, оригинал: [('1795ec11-e5aa-41e5-942e-9fb3aa1072fe', 0.839713796058744, 0.977302931537839)]\n"
     ]
    },
    {
     "name": "stderr",
     "output_type": "stream",
     "text": [
      "289it [59:26, 14.13s/it]"
     ]
    },
    {
     "name": "stdout",
     "output_type": "stream",
     "text": [
      "Добавили в БД: 0234d033-afb1-4ec4-add3-2fab9bf7914c\n"
     ]
    },
    {
     "name": "stderr",
     "output_type": "stream",
     "text": [
      "290it [59:50, 16.89s/it]"
     ]
    },
    {
     "name": "stdout",
     "output_type": "stream",
     "text": [
      "Добавили в БД: 2b508083-780d-4c81-9338-c067f1c6c413\n"
     ]
    },
    {
     "name": "stderr",
     "output_type": "stream",
     "text": [
      "291it [1:00:09, 17.79s/it]"
     ]
    },
    {
     "name": "stdout",
     "output_type": "stream",
     "text": [
      "Добавили в БД: 0c2888de-3c0f-4cfb-ad14-a3eb6763d11e\n"
     ]
    },
    {
     "name": "stderr",
     "output_type": "stream",
     "text": [
      "292it [1:00:21, 15.77s/it]"
     ]
    },
    {
     "name": "stdout",
     "output_type": "stream",
     "text": [
      "Дубликат: dataset/test_data_yappy/test_dataset/fbf2a578-c80e-4085-9c6d-9d171566b907.mp4, оригинал: [('44dac7ab-eabe-4d21-b541-9090c791485f', 0.8421605010731594, 0.9980502034336407)]\n"
     ]
    },
    {
     "name": "stderr",
     "output_type": "stream",
     "text": [
      "293it [1:00:40, 17.02s/it]"
     ]
    },
    {
     "name": "stdout",
     "output_type": "stream",
     "text": [
      "Добавили в БД: 20022ae6-4d6a-4811-9c69-65dfcd66ca69\n"
     ]
    },
    {
     "name": "stderr",
     "output_type": "stream",
     "text": [
      "294it [1:00:50, 14.91s/it]"
     ]
    },
    {
     "name": "stdout",
     "output_type": "stream",
     "text": [
      "Дубликат: dataset/test_data_yappy/test_dataset/34c583e4-125b-447b-8dde-7a91c3de34bc.mp4, оригинал: [('da0b8156-1fd2-4816-8d91-7470b74bf230', 0.9555206142917926, 0.9999999764121945)]\n"
     ]
    },
    {
     "name": "stderr",
     "output_type": "stream",
     "text": [
      "295it [1:01:07, 15.33s/it]"
     ]
    },
    {
     "name": "stdout",
     "output_type": "stream",
     "text": [
      "Добавили в БД: 49a8059f-46eb-4a14-80c0-50eae6524e18\n"
     ]
    },
    {
     "name": "stderr",
     "output_type": "stream",
     "text": [
      "296it [1:01:29, 17.36s/it]"
     ]
    },
    {
     "name": "stdout",
     "output_type": "stream",
     "text": [
      "Добавили в БД: 065db773-887e-4216-a0f6-b19aa455db06\n"
     ]
    },
    {
     "name": "stderr",
     "output_type": "stream",
     "text": [
      "297it [1:01:39, 15.12s/it]"
     ]
    },
    {
     "name": "stdout",
     "output_type": "stream",
     "text": [
      "Дубликат: dataset/test_data_yappy/test_dataset/5fe7168c-acb9-423c-8c7d-b043a1f99916.mp4, оригинал: [('35e3810c-eb1d-485f-a51a-3d4a39aa771b', 0.9430684126299368, 0.9982695110537453)]\n"
     ]
    },
    {
     "name": "stderr",
     "output_type": "stream",
     "text": [
      "298it [1:01:58, 16.42s/it]"
     ]
    },
    {
     "name": "stdout",
     "output_type": "stream",
     "text": [
      "Добавили в БД: 32a55a63-9033-4efd-a153-546e9c722ae0\n"
     ]
    },
    {
     "name": "stderr",
     "output_type": "stream",
     "text": [
      "299it [1:02:29, 20.85s/it]"
     ]
    },
    {
     "name": "stdout",
     "output_type": "stream",
     "text": [
      "Добавили в БД: 27aab75c-7f03-4739-9731-cd1bb82a2ec2\n"
     ]
    },
    {
     "name": "stderr",
     "output_type": "stream",
     "text": [
      "300it [1:02:43, 18.77s/it]"
     ]
    },
    {
     "name": "stdout",
     "output_type": "stream",
     "text": [
      "Дубликат: dataset/test_data_yappy/test_dataset/c3f0536b-f31b-46da-a17e-ee5ee677e2ff.mp4, оригинал: [('c01492b4-b641-44be-b883-100510f335c6', 0.8591009430958887, 0.998625359282308)]\n"
     ]
    },
    {
     "name": "stderr",
     "output_type": "stream",
     "text": [
      "301it [1:03:06, 19.99s/it]"
     ]
    },
    {
     "name": "stdout",
     "output_type": "stream",
     "text": [
      "Добавили в БД: 525b343d-a1b7-4e24-8fb6-36f145f5dd9f\n"
     ]
    },
    {
     "name": "stderr",
     "output_type": "stream",
     "text": [
      "302it [1:03:35, 22.78s/it]"
     ]
    },
    {
     "name": "stdout",
     "output_type": "stream",
     "text": [
      "Добавили в БД: 3782fc98-0a94-438c-ae67-62d72dc6e3c0\n"
     ]
    },
    {
     "name": "stderr",
     "output_type": "stream",
     "text": [
      "303it [1:03:56, 22.05s/it]"
     ]
    },
    {
     "name": "stdout",
     "output_type": "stream",
     "text": [
      "Добавили в БД: 33dbd76d-6320-4a0e-a690-3b4e41f22af6\n"
     ]
    },
    {
     "name": "stderr",
     "output_type": "stream",
     "text": [
      "304it [1:04:08, 19.21s/it]"
     ]
    },
    {
     "name": "stdout",
     "output_type": "stream",
     "text": [
      "Дубликат: dataset/test_data_yappy/test_dataset/1d74a675-18a5-48f6-9652-4dfcb1c049bc.mp4, оригинал: [('2c68b7a9-8ab1-422f-886e-08e15fca56be', 0.8439268570202392, 0.9882919008680263)]\n"
     ]
    },
    {
     "name": "stderr",
     "output_type": "stream",
     "text": [
      "305it [1:04:25, 18.32s/it]"
     ]
    },
    {
     "name": "stdout",
     "output_type": "stream",
     "text": [
      "Добавили в БД: 11e1ef30-e172-487c-aee7-61530078da9b\n"
     ]
    },
    {
     "name": "stderr",
     "output_type": "stream",
     "text": [
      "306it [1:04:50, 20.31s/it]"
     ]
    },
    {
     "name": "stdout",
     "output_type": "stream",
     "text": [
      "Добавили в БД: e1a6aaf0-fa52-46cc-b4b1-a8aabef1c8ea\n"
     ]
    },
    {
     "name": "stderr",
     "output_type": "stream",
     "text": [
      "307it [1:05:09, 19.99s/it]"
     ]
    },
    {
     "name": "stdout",
     "output_type": "stream",
     "text": [
      "Добавили в БД: 21cde408-dfc7-4042-a7cc-e0dee513333f\n"
     ]
    },
    {
     "name": "stderr",
     "output_type": "stream",
     "text": [
      "308it [1:05:15, 15.76s/it]"
     ]
    },
    {
     "name": "stdout",
     "output_type": "stream",
     "text": [
      "Дубликат: dataset/test_data_yappy/test_dataset/9b3be281-f669-4e6e-adfa-f8eebc2ef3b3.mp4, оригинал: [('502a9fbe-62a1-4635-be0a-ee836692bb0d', 0.9058858131687106, 0.8408370316668936)]\n"
     ]
    },
    {
     "name": "stderr",
     "output_type": "stream",
     "text": [
      "309it [1:05:29, 15.45s/it]"
     ]
    },
    {
     "name": "stdout",
     "output_type": "stream",
     "text": [
      "Добавили в БД: 21becaf5-b4fc-4427-b952-edc43b8a385b\n"
     ]
    },
    {
     "name": "stderr",
     "output_type": "stream",
     "text": [
      "310it [1:05:47, 16.16s/it]"
     ]
    },
    {
     "name": "stdout",
     "output_type": "stream",
     "text": [
      "Добавили в БД: 4aeaba33-dbfb-41b3-ade0-b06a87824f1c\n"
     ]
    },
    {
     "name": "stderr",
     "output_type": "stream",
     "text": [
      "311it [1:05:53, 13.19s/it]"
     ]
    },
    {
     "name": "stdout",
     "output_type": "stream",
     "text": [
      "Дубликат: dataset/test_data_yappy/test_dataset/064c6912-7ff1-4808-b730-b90dbc618572.mp4, оригинал: [('517d39e2-66c6-48f3-a8e4-f22b4de95f21', 0.8712008990602762, 0.9962795874232238)]\n"
     ]
    },
    {
     "name": "stderr",
     "output_type": "stream",
     "text": [
      "312it [1:06:10, 14.16s/it]"
     ]
    },
    {
     "name": "stdout",
     "output_type": "stream",
     "text": [
      "Добавили в БД: 26044d49-8764-4394-915a-04866d7678b1\n"
     ]
    },
    {
     "name": "stderr",
     "output_type": "stream",
     "text": [
      "313it [1:06:28, 15.27s/it]"
     ]
    },
    {
     "name": "stdout",
     "output_type": "stream",
     "text": [
      "Добавили в БД: 4c42a54f-e505-419c-9f12-5cdc7d80284c\n"
     ]
    },
    {
     "name": "stderr",
     "output_type": "stream",
     "text": [
      "314it [1:06:50, 17.28s/it]"
     ]
    },
    {
     "name": "stdout",
     "output_type": "stream",
     "text": [
      "Добавили в БД: 5540392b-705d-43a6-a277-c8fdd38ff418\n"
     ]
    },
    {
     "name": "stderr",
     "output_type": "stream",
     "text": [
      "315it [1:07:09, 17.73s/it]"
     ]
    },
    {
     "name": "stdout",
     "output_type": "stream",
     "text": [
      "Добавили в БД: 4e9afd04-4c99-4e6b-8255-33ade5785093\n"
     ]
    },
    {
     "name": "stderr",
     "output_type": "stream",
     "text": [
      "316it [1:07:33, 19.61s/it]"
     ]
    },
    {
     "name": "stdout",
     "output_type": "stream",
     "text": [
      "Добавили в БД: 2f46a510-8255-4687-9e1b-164430cbdbcf\n"
     ]
    },
    {
     "name": "stderr",
     "output_type": "stream",
     "text": [
      "317it [1:07:52, 19.54s/it]"
     ]
    },
    {
     "name": "stdout",
     "output_type": "stream",
     "text": [
      "Добавили в БД: 12fcace9-3504-4c9e-952e-57484709913b\n"
     ]
    },
    {
     "name": "stderr",
     "output_type": "stream",
     "text": [
      "318it [1:08:13, 19.89s/it]"
     ]
    },
    {
     "name": "stdout",
     "output_type": "stream",
     "text": [
      "Добавили в БД: 2c1e9a87-2e2e-46bc-b78e-f022003c6337\n"
     ]
    },
    {
     "name": "stderr",
     "output_type": "stream",
     "text": [
      "319it [1:08:30, 19.01s/it]"
     ]
    },
    {
     "name": "stdout",
     "output_type": "stream",
     "text": [
      "Добавили в БД: 32da7a2a-dd20-4672-8ce8-b51ab21ebc5d\n"
     ]
    },
    {
     "name": "stderr",
     "output_type": "stream",
     "text": [
      "320it [1:08:49, 19.27s/it]"
     ]
    },
    {
     "name": "stdout",
     "output_type": "stream",
     "text": [
      "Добавили в БД: 1e55bf62-a383-41f0-9460-7e9bd693ac74\n"
     ]
    },
    {
     "name": "stderr",
     "output_type": "stream",
     "text": [
      "321it [1:09:07, 18.86s/it]"
     ]
    },
    {
     "name": "stdout",
     "output_type": "stream",
     "text": [
      "Добавили в БД: 8564f64b-39a0-42fe-b72f-3f2ef1bf8745\n"
     ]
    },
    {
     "name": "stderr",
     "output_type": "stream",
     "text": [
      "322it [1:09:20, 17.13s/it]"
     ]
    },
    {
     "name": "stdout",
     "output_type": "stream",
     "text": [
      "Дубликат: dataset/test_data_yappy/test_dataset/c8ef4da4-814b-4ede-bf03-2d9512564216.mp4, оригинал: [('3c39a845-8ca6-4134-93d2-b13a5b9f9a48', 0.9046169561721049, 0.9940904140001718)]\n"
     ]
    },
    {
     "name": "stderr",
     "output_type": "stream",
     "text": [
      "323it [1:09:25, 13.27s/it]"
     ]
    },
    {
     "name": "stdout",
     "output_type": "stream",
     "text": [
      "Дубликат: dataset/test_data_yappy/test_dataset/9d9b25ce-db76-48e2-9c3b-9a325695c4ce.mp4, оригинал: [('0234d033-afb1-4ec4-add3-2fab9bf7914c', 0.8511492645431085, 0.999999926954034)]\n"
     ]
    },
    {
     "name": "stderr",
     "output_type": "stream",
     "text": [
      "324it [1:09:35, 12.37s/it]"
     ]
    },
    {
     "name": "stdout",
     "output_type": "stream",
     "text": [
      "Дубликат: dataset/test_data_yappy/test_dataset/e80c87ba-d0b9-4588-880c-9c322cd0dca1.mp4, оригинал: [('12866d01-fa3b-433d-acf8-f071323f5478', 0.9601559474802154, 0.9872284078745559)]\n"
     ]
    },
    {
     "name": "stderr",
     "output_type": "stream",
     "text": [
      "325it [1:09:50, 13.10s/it]"
     ]
    },
    {
     "name": "stdout",
     "output_type": "stream",
     "text": [
      "Добавили в БД: 4cdb5497-8348-49b6-ba48-deb5d5315704\n"
     ]
    },
    {
     "name": "stderr",
     "output_type": "stream",
     "text": [
      "326it [1:10:11, 15.43s/it]"
     ]
    },
    {
     "name": "stdout",
     "output_type": "stream",
     "text": [
      "Добавили в БД: 0deff45e-6f81-4b12-b5e2-dc19c3dc0eeb\n"
     ]
    },
    {
     "name": "stderr",
     "output_type": "stream",
     "text": [
      "327it [1:10:35, 18.05s/it]"
     ]
    },
    {
     "name": "stdout",
     "output_type": "stream",
     "text": [
      "Добавили в БД: 07ca69ad-88fc-4ace-af79-5dcab60a4731\n"
     ]
    },
    {
     "name": "stderr",
     "output_type": "stream",
     "text": [
      "328it [1:10:58, 19.65s/it]"
     ]
    },
    {
     "name": "stdout",
     "output_type": "stream",
     "text": [
      "Добавили в БД: 17d1133b-1553-4d6d-9c9a-e2d7faa7f17b\n"
     ]
    },
    {
     "name": "stderr",
     "output_type": "stream",
     "text": [
      "329it [1:11:17, 19.34s/it]"
     ]
    },
    {
     "name": "stdout",
     "output_type": "stream",
     "text": [
      "Добавили в БД: 451b2e83-d4b7-4ac4-bc97-a4ebf0f5d38b\n"
     ]
    },
    {
     "name": "stderr",
     "output_type": "stream",
     "text": [
      "330it [1:11:36, 19.23s/it]"
     ]
    },
    {
     "name": "stdout",
     "output_type": "stream",
     "text": [
      "Добавили в БД: 241d7aea-8d30-4995-bbba-03fb42746f1b\n"
     ]
    },
    {
     "name": "stderr",
     "output_type": "stream",
     "text": [
      "331it [1:11:58, 20.21s/it]"
     ]
    },
    {
     "name": "stdout",
     "output_type": "stream",
     "text": [
      "Добавили в БД: 3a943802-6a6b-4538-9832-27118ca781b6\n"
     ]
    },
    {
     "name": "stderr",
     "output_type": "stream",
     "text": [
      "332it [1:12:18, 19.98s/it]"
     ]
    },
    {
     "name": "stdout",
     "output_type": "stream",
     "text": [
      "Добавили в БД: 2e25928b-d0cf-4fc1-ac05-903171cc8720\n"
     ]
    },
    {
     "name": "stderr",
     "output_type": "stream",
     "text": [
      "333it [1:12:37, 19.88s/it]"
     ]
    },
    {
     "name": "stdout",
     "output_type": "stream",
     "text": [
      "Добавили в БД: 07f66195-9b27-4752-8468-2dca6dd6bc86\n"
     ]
    },
    {
     "name": "stderr",
     "output_type": "stream",
     "text": [
      "334it [1:12:58, 20.11s/it]"
     ]
    },
    {
     "name": "stdout",
     "output_type": "stream",
     "text": [
      "Добавили в БД: 4db3d1da-4e2c-4f48-99b6-a9ab0d1f2365\n"
     ]
    },
    {
     "name": "stderr",
     "output_type": "stream",
     "text": [
      "335it [1:13:22, 21.17s/it]"
     ]
    },
    {
     "name": "stdout",
     "output_type": "stream",
     "text": [
      "Добавили в БД: 29090aa8-cd7f-4a07-bb60-99d0b92f3222\n"
     ]
    },
    {
     "name": "stderr",
     "output_type": "stream",
     "text": [
      "336it [1:13:31, 17.72s/it]"
     ]
    },
    {
     "name": "stdout",
     "output_type": "stream",
     "text": [
      "Дубликат: dataset/test_data_yappy/test_dataset/9c1d522e-8ee5-485f-8457-42223920cf26.mp4, оригинал: [('122afbc7-875b-4faf-afef-54fcc8b5c22a', 0.9109386546120732, 0.9862579287792848)]\n"
     ]
    },
    {
     "name": "stderr",
     "output_type": "stream",
     "text": [
      "337it [1:13:34, 13.25s/it]"
     ]
    },
    {
     "name": "stdout",
     "output_type": "stream",
     "text": [
      "Дубликат: dataset/test_data_yappy/test_dataset/b2342a15-1cdd-4dd8-bb18-050b8b29edcd.mp4, оригинал: [('20fd148f-21f3-44a5-a0de-d210422820fe', 0.9506629080508342, 0.9774190670219094)]\n"
     ]
    },
    {
     "name": "stderr",
     "output_type": "stream",
     "text": [
      "338it [1:13:44, 12.14s/it]"
     ]
    },
    {
     "name": "stdout",
     "output_type": "stream",
     "text": [
      "Дубликат: dataset/test_data_yappy/test_dataset/c1b2e2bf-d18a-4185-97dd-83c1c792b75e.mp4, оригинал: [('2457d5e8-52e9-40a7-a5c8-85794a8d832c', 0.9272429309800363, 0.9814863892466827)]\n"
     ]
    },
    {
     "name": "stderr",
     "output_type": "stream",
     "text": [
      "339it [1:14:05, 14.92s/it]"
     ]
    },
    {
     "name": "stdout",
     "output_type": "stream",
     "text": [
      "Добавили в БД: 4bbd1f37-6983-4e3d-9c31-831f8b56ef9e\n"
     ]
    },
    {
     "name": "stderr",
     "output_type": "stream",
     "text": [
      "340it [1:14:14, 12.96s/it]"
     ]
    },
    {
     "name": "stdout",
     "output_type": "stream",
     "text": [
      "Дубликат: dataset/test_data_yappy/test_dataset/024cba15-750c-4d19-9b71-797ad095f647.mp4, оригинал: [('34f786cd-67ce-4cef-a65f-1a21ebcf4021', 0.8673701584127853, 0.9775292952947757)]\n"
     ]
    },
    {
     "name": "stderr",
     "output_type": "stream",
     "text": [
      "341it [1:14:35, 15.38s/it]"
     ]
    },
    {
     "name": "stdout",
     "output_type": "stream",
     "text": [
      "Добавили в БД: 202a73e8-e671-4b07-b81b-4ffff3bfe63c\n"
     ]
    },
    {
     "name": "stderr",
     "output_type": "stream",
     "text": [
      "342it [1:14:44, 13.68s/it]"
     ]
    },
    {
     "name": "stdout",
     "output_type": "stream",
     "text": [
      "Дубликат: dataset/test_data_yappy/test_dataset/c3cafd6c-e949-4c8a-9467-b5fd9bf30fcc.mp4, оригинал: [('493ade73-4c95-4d57-ba16-972337726825', 0.9658848338630224, 0.939871686484805)]\n"
     ]
    },
    {
     "name": "stderr",
     "output_type": "stream",
     "text": [
      "343it [1:15:03, 15.07s/it]"
     ]
    },
    {
     "name": "stdout",
     "output_type": "stream",
     "text": [
      "Добавили в БД: 4c9a277e-7e5e-4342-8898-d1b26df0e36c\n"
     ]
    },
    {
     "name": "stderr",
     "output_type": "stream",
     "text": [
      "344it [1:15:23, 16.73s/it]"
     ]
    },
    {
     "name": "stdout",
     "output_type": "stream",
     "text": [
      "Добавили в БД: 831a1359-1063-475b-88dd-36228b17fb69\n"
     ]
    },
    {
     "name": "stderr",
     "output_type": "stream",
     "text": [
      "345it [1:15:47, 18.89s/it]"
     ]
    },
    {
     "name": "stdout",
     "output_type": "stream",
     "text": [
      "Добавили в БД: 0d02bec0-60c8-48d5-a538-397f7d66cad1\n"
     ]
    },
    {
     "name": "stderr",
     "output_type": "stream",
     "text": [
      "346it [1:16:08, 19.50s/it]"
     ]
    },
    {
     "name": "stdout",
     "output_type": "stream",
     "text": [
      "Добавили в БД: 56f6f9ed-6104-455e-8869-e75cfe4fb1af\n"
     ]
    },
    {
     "name": "stderr",
     "output_type": "stream",
     "text": [
      "347it [1:16:32, 20.79s/it]"
     ]
    },
    {
     "name": "stdout",
     "output_type": "stream",
     "text": [
      "Добавили в БД: 25309ab3-6186-480a-ad13-62487f2a72a4\n"
     ]
    },
    {
     "name": "stderr",
     "output_type": "stream",
     "text": [
      "348it [1:16:52, 20.74s/it]"
     ]
    },
    {
     "name": "stdout",
     "output_type": "stream",
     "text": [
      "Добавили в БД: 1d791442-5cf7-4a47-b9d8-415072af5774\n"
     ]
    },
    {
     "name": "stderr",
     "output_type": "stream",
     "text": [
      "349it [1:17:11, 20.21s/it]"
     ]
    },
    {
     "name": "stdout",
     "output_type": "stream",
     "text": [
      "Добавили в БД: 4cdac6a2-a8ad-4d3f-b197-7fa197e97849\n"
     ]
    },
    {
     "name": "stderr",
     "output_type": "stream",
     "text": [
      "350it [1:17:31, 20.11s/it]"
     ]
    },
    {
     "name": "stdout",
     "output_type": "stream",
     "text": [
      "Добавили в БД: 25d1a235-045b-4580-b447-601f328deae3\n"
     ]
    },
    {
     "name": "stderr",
     "output_type": "stream",
     "text": [
      "351it [1:17:53, 20.65s/it]"
     ]
    },
    {
     "name": "stdout",
     "output_type": "stream",
     "text": [
      "Добавили в БД: 4d655e25-f08c-4503-ab86-5929606b7671\n"
     ]
    },
    {
     "name": "stderr",
     "output_type": "stream",
     "text": [
      "352it [1:18:17, 21.64s/it]"
     ]
    },
    {
     "name": "stdout",
     "output_type": "stream",
     "text": [
      "Добавили в БД: 067b64d8-0f83-45ff-b395-a83dffbd660f\n"
     ]
    },
    {
     "name": "stderr",
     "output_type": "stream",
     "text": [
      "353it [1:18:44, 23.11s/it]"
     ]
    },
    {
     "name": "stdout",
     "output_type": "stream",
     "text": [
      "Добавили в БД: 0d9e3e77-c340-4bb0-84ff-520ab8f16703\n"
     ]
    },
    {
     "name": "stderr",
     "output_type": "stream",
     "text": [
      "354it [1:18:55, 19.55s/it]"
     ]
    },
    {
     "name": "stdout",
     "output_type": "stream",
     "text": [
      "Дубликат: dataset/test_data_yappy/test_dataset/0a8c8314-1e33-4ad2-9865-330df0ae79b6.mp4, оригинал: [('4e82d954-ac77-4c71-ba54-7cce3f8fed16', 0.9435355162874204, 0.9870751227377191)]\n"
     ]
    },
    {
     "name": "stderr",
     "output_type": "stream",
     "text": [
      "355it [1:19:03, 15.96s/it]"
     ]
    },
    {
     "name": "stdout",
     "output_type": "stream",
     "text": [
      "Дубликат: dataset/test_data_yappy/test_dataset/84f7f9a5-df67-4e85-808b-93562e729e43.mp4, оригинал: [('5540392b-705d-43a6-a277-c8fdd38ff418', 0.8542438678684876, 0.9936391040632003)]\n"
     ]
    },
    {
     "name": "stderr",
     "output_type": "stream",
     "text": [
      "356it [1:19:18, 15.89s/it]"
     ]
    },
    {
     "name": "stdout",
     "output_type": "stream",
     "text": [
      "Добавили в БД: 0a8669d9-1491-4506-a8b6-6e48a31d3a78\n"
     ]
    },
    {
     "name": "stderr",
     "output_type": "stream",
     "text": [
      "357it [1:19:39, 17.36s/it]"
     ]
    },
    {
     "name": "stdout",
     "output_type": "stream",
     "text": [
      "Добавили в БД: 39e23599-d4e9-4569-8999-ce8de1056509\n"
     ]
    },
    {
     "name": "stderr",
     "output_type": "stream",
     "text": [
      "358it [1:19:47, 14.53s/it]"
     ]
    },
    {
     "name": "stdout",
     "output_type": "stream",
     "text": [
      "Дубликат: dataset/test_data_yappy/test_dataset/cfd0539c-fe11-4992-9e54-c5ae7b484be3.mp4, оригинал: [('07f66195-9b27-4752-8468-2dca6dd6bc86', 0.9757320778932208, 0.9996281936725926)]\n",
      "Ошибка при извлечении эмбеддингов из dataset/test_data_yappy/test_dataset/4cd31b4e-4846-410d-a9ec-ffe41f90fd44.mp4: list index out of range\n"
     ]
    },
    {
     "name": "stderr",
     "output_type": "stream",
     "text": [
      "359it [1:20:03, 14.97s/it]"
     ]
    },
    {
     "name": "stdout",
     "output_type": "stream",
     "text": [
      "Добавили в БД: 4cd31b4e-4846-410d-a9ec-ffe41f90fd44\n"
     ]
    },
    {
     "name": "stderr",
     "output_type": "stream",
     "text": [
      "360it [1:20:28, 18.08s/it]"
     ]
    },
    {
     "name": "stdout",
     "output_type": "stream",
     "text": [
      "Добавили в БД: 51092a17-e84c-41c2-9cae-c6743ecb1789\n"
     ]
    },
    {
     "name": "stderr",
     "output_type": "stream",
     "text": [
      "361it [1:20:52, 19.74s/it]"
     ]
    },
    {
     "name": "stdout",
     "output_type": "stream",
     "text": [
      "Добавили в БД: 27a4fb94-49ad-49b8-bc0d-e3851f6a3546\n"
     ]
    },
    {
     "name": "stderr",
     "output_type": "stream",
     "text": [
      "362it [1:21:03, 17.11s/it]"
     ]
    },
    {
     "name": "stdout",
     "output_type": "stream",
     "text": [
      "Дубликат: dataset/test_data_yappy/test_dataset/f10d61cc-6f73-405c-9912-a162a69c50ed.mp4, оригинал: [('51092a17-e84c-41c2-9cae-c6743ecb1789', 0.8561938883420481, 0.998367084235892)]\n"
     ]
    },
    {
     "name": "stderr",
     "output_type": "stream",
     "text": [
      "363it [1:21:21, 17.29s/it]"
     ]
    },
    {
     "name": "stdout",
     "output_type": "stream",
     "text": [
      "Добавили в БД: 4c4e8c7b-8c1b-45ef-9133-4f35920072d1\n"
     ]
    },
    {
     "name": "stderr",
     "output_type": "stream",
     "text": [
      "364it [1:21:47, 19.95s/it]"
     ]
    },
    {
     "name": "stdout",
     "output_type": "stream",
     "text": [
      "Добавили в БД: 18309d75-02d6-4c8b-bf6a-3e80c19d66df\n"
     ]
    },
    {
     "name": "stderr",
     "output_type": "stream",
     "text": [
      "365it [1:22:13, 21.90s/it]"
     ]
    },
    {
     "name": "stdout",
     "output_type": "stream",
     "text": [
      "Добавили в БД: bcc15b9e-6311-4d39-808b-da97bd803fb3\n"
     ]
    },
    {
     "name": "stderr",
     "output_type": "stream",
     "text": [
      "366it [1:22:35, 21.99s/it]"
     ]
    },
    {
     "name": "stdout",
     "output_type": "stream",
     "text": [
      "Добавили в БД: a04bf67c-2b70-4a8e-8337-e2cf8dfd4932\n"
     ]
    },
    {
     "name": "stderr",
     "output_type": "stream",
     "text": [
      "367it [1:22:44, 17.94s/it]"
     ]
    },
    {
     "name": "stdout",
     "output_type": "stream",
     "text": [
      "Дубликат: dataset/test_data_yappy/test_dataset/2b2c4e7d-3354-4967-b4bb-ad7b9932e75b.mp4, оригинал: [('1e76b0e1-c747-4a2d-b02e-c083f78f01a4', 0.8574347447883702, 0.9918596510869848)]\n"
     ]
    },
    {
     "name": "stderr",
     "output_type": "stream",
     "text": [
      "368it [1:23:02, 18.11s/it]"
     ]
    },
    {
     "name": "stdout",
     "output_type": "stream",
     "text": [
      "Добавили в БД: d31bba24-693a-4fe3-a854-84ae187299c4\n"
     ]
    },
    {
     "name": "stderr",
     "output_type": "stream",
     "text": [
      "369it [1:23:26, 19.88s/it]"
     ]
    },
    {
     "name": "stdout",
     "output_type": "stream",
     "text": [
      "Добавили в БД: 56c7d42e-8d80-4dd4-84a8-d497ab32dfd9\n"
     ]
    },
    {
     "name": "stderr",
     "output_type": "stream",
     "text": [
      "370it [1:23:48, 20.34s/it]"
     ]
    },
    {
     "name": "stdout",
     "output_type": "stream",
     "text": [
      "Добавили в БД: 4f6f92af-a9a9-4974-a985-7b3cd3e736e5\n"
     ]
    },
    {
     "name": "stderr",
     "output_type": "stream",
     "text": [
      "371it [1:24:13, 21.86s/it]"
     ]
    },
    {
     "name": "stdout",
     "output_type": "stream",
     "text": [
      "Добавили в БД: 1c572c7e-b08a-4086-b6fc-67b9b43de0ad\n"
     ]
    },
    {
     "name": "stderr",
     "output_type": "stream",
     "text": [
      "372it [1:24:34, 21.66s/it]"
     ]
    },
    {
     "name": "stdout",
     "output_type": "stream",
     "text": [
      "Добавили в БД: 28235d0d-5a41-4ead-a083-7b50d66c57b8\n"
     ]
    },
    {
     "name": "stderr",
     "output_type": "stream",
     "text": [
      "373it [1:24:56, 21.66s/it]"
     ]
    },
    {
     "name": "stdout",
     "output_type": "stream",
     "text": [
      "Добавили в БД: 273aa05c-c878-42ce-a260-d843fe330eea\n"
     ]
    },
    {
     "name": "stderr",
     "output_type": "stream",
     "text": [
      "374it [1:25:19, 22.08s/it]"
     ]
    },
    {
     "name": "stdout",
     "output_type": "stream",
     "text": [
      "Добавили в БД: 4831d29a-7c13-4d0e-843f-ed63f0a57589\n"
     ]
    },
    {
     "name": "stderr",
     "output_type": "stream",
     "text": [
      "375it [1:25:46, 23.53s/it]"
     ]
    },
    {
     "name": "stdout",
     "output_type": "stream",
     "text": [
      "Добавили в БД: 3bfb5169-22bb-49de-9cb6-72463df37c06\n"
     ]
    },
    {
     "name": "stderr",
     "output_type": "stream",
     "text": [
      "376it [1:26:14, 24.98s/it]"
     ]
    },
    {
     "name": "stdout",
     "output_type": "stream",
     "text": [
      "Добавили в БД: 440c69ad-8a95-4b16-8a77-d2696f1be778\n"
     ]
    },
    {
     "name": "stderr",
     "output_type": "stream",
     "text": [
      "377it [1:26:25, 20.63s/it]"
     ]
    },
    {
     "name": "stdout",
     "output_type": "stream",
     "text": [
      "Дубликат: dataset/test_data_yappy/test_dataset/8d2bfeae-87ae-4cd6-b581-d43b0068b44e.mp4, оригинал: [('0c2888de-3c0f-4cfb-ad14-a3eb6763d11e', 0.9038961932910069, 0.9978362274366932)]\n"
     ]
    },
    {
     "name": "stderr",
     "output_type": "stream",
     "text": [
      "378it [1:26:29, 15.71s/it]"
     ]
    },
    {
     "name": "stdout",
     "output_type": "stream",
     "text": [
      "Дубликат: dataset/test_data_yappy/test_dataset/e486df30-61d5-4923-91f8-fe03f55d6d65.mp4, оригинал: [('02e00046-ca4c-43a9-a262-dd7c5cdf299c', 0.9468848083656987, 0.8109846115894701)]\n"
     ]
    },
    {
     "name": "stderr",
     "output_type": "stream",
     "text": [
      "379it [1:26:51, 17.43s/it]"
     ]
    },
    {
     "name": "stdout",
     "output_type": "stream",
     "text": [
      "Добавили в БД: 24e4e4d2-0682-4975-8276-dde118ad9102\n"
     ]
    },
    {
     "name": "stderr",
     "output_type": "stream",
     "text": [
      "380it [1:27:00, 15.08s/it]"
     ]
    },
    {
     "name": "stdout",
     "output_type": "stream",
     "text": [
      "Дубликат: dataset/test_data_yappy/test_dataset/1dd88001-7112-4e34-9a02-571afedd34de.mp4, оригинал: [('47cf16c1-1f46-462f-90fd-e547579d4c0c', 0.9125092588159295, 0.9956217320938315)]\n"
     ]
    },
    {
     "name": "stderr",
     "output_type": "stream",
     "text": [
      "381it [1:27:09, 13.34s/it]"
     ]
    },
    {
     "name": "stdout",
     "output_type": "stream",
     "text": [
      "Дубликат: dataset/test_data_yappy/test_dataset/07fa7255-9793-4e07-b9da-78a9abfd71a6.mp4, оригинал: [('0feef7ae-1b28-40b2-ab4d-3730f2dcb213', 0.8091141187683948, 0.999540262345125)]\n"
     ]
    },
    {
     "name": "stderr",
     "output_type": "stream",
     "text": [
      "382it [1:27:14, 10.74s/it]"
     ]
    },
    {
     "name": "stdout",
     "output_type": "stream",
     "text": [
      "Дубликат: dataset/test_data_yappy/test_dataset/2e13c8e1-065f-4aa6-889a-643030e88336.mp4, оригинал: [('242beefa-052f-42a0-bffe-53637bf62656', 0.9234826508912657, 0.9985400107214059)]\n"
     ]
    },
    {
     "name": "stderr",
     "output_type": "stream",
     "text": [
      "383it [1:27:31, 12.68s/it]"
     ]
    },
    {
     "name": "stdout",
     "output_type": "stream",
     "text": [
      "Добавили в БД: 2a2dd295-9954-4ef4-af79-3fb9637e8bf4\n"
     ]
    },
    {
     "name": "stderr",
     "output_type": "stream",
     "text": [
      "384it [1:27:40, 11.50s/it]"
     ]
    },
    {
     "name": "stdout",
     "output_type": "stream",
     "text": [
      "Дубликат: dataset/test_data_yappy/test_dataset/831515a3-d267-4fbb-a696-6de492d906f9.mp4, оригинал: [('53d3cac2-2a34-4793-bef8-7d1bae69998c', 0.9110766027648327, 0.9564951589083768)]\n"
     ]
    },
    {
     "name": "stderr",
     "output_type": "stream",
     "text": [
      "385it [1:27:56, 12.84s/it]"
     ]
    },
    {
     "name": "stdout",
     "output_type": "stream",
     "text": [
      "Добавили в БД: 980b8db7-3290-4e39-a841-23d0fc0b2ae1\n"
     ]
    },
    {
     "name": "stderr",
     "output_type": "stream",
     "text": [
      "386it [1:28:23, 17.13s/it]"
     ]
    },
    {
     "name": "stdout",
     "output_type": "stream",
     "text": [
      "Добавили в БД: 3a9900fd-6fb5-4623-a06a-51adb9b9c097\n"
     ]
    },
    {
     "name": "stderr",
     "output_type": "stream",
     "text": [
      "387it [1:28:45, 18.59s/it]"
     ]
    },
    {
     "name": "stdout",
     "output_type": "stream",
     "text": [
      "Добавили в БД: 3723398a-4df2-4a7d-a466-9f41b7dcbced\n"
     ]
    },
    {
     "name": "stderr",
     "output_type": "stream",
     "text": [
      "388it [1:29:09, 20.23s/it]"
     ]
    },
    {
     "name": "stdout",
     "output_type": "stream",
     "text": [
      "Добавили в БД: 22fd9d61-86ff-4233-a4e6-2a19ef8cd156\n"
     ]
    },
    {
     "name": "stderr",
     "output_type": "stream",
     "text": [
      "389it [1:29:32, 20.85s/it]"
     ]
    },
    {
     "name": "stdout",
     "output_type": "stream",
     "text": [
      "Добавили в БД: 16505c0c-92d0-4386-901c-bf9693541ecc\n"
     ]
    },
    {
     "name": "stderr",
     "output_type": "stream",
     "text": [
      "390it [1:29:53, 21.00s/it]"
     ]
    },
    {
     "name": "stdout",
     "output_type": "stream",
     "text": [
      "Добавили в БД: 52b43ae1-e607-4210-828e-977f71e3d6b8\n"
     ]
    },
    {
     "name": "stderr",
     "output_type": "stream",
     "text": [
      "391it [1:30:16, 21.50s/it]"
     ]
    },
    {
     "name": "stdout",
     "output_type": "stream",
     "text": [
      "Добавили в БД: 2568727f-de58-4dc8-9c0a-5b89435e36af\n"
     ]
    },
    {
     "name": "stderr",
     "output_type": "stream",
     "text": [
      "392it [1:30:43, 23.32s/it]"
     ]
    },
    {
     "name": "stdout",
     "output_type": "stream",
     "text": [
      "Добавили в БД: 30302bae-ec18-4c32-8400-55a025f42a61\n"
     ]
    },
    {
     "name": "stderr",
     "output_type": "stream",
     "text": [
      "393it [1:31:05, 22.94s/it]"
     ]
    },
    {
     "name": "stdout",
     "output_type": "stream",
     "text": [
      "Добавили в БД: 4b86bd3b-a56c-49f5-8bd9-1ef75a96b641\n"
     ]
    },
    {
     "name": "stderr",
     "output_type": "stream",
     "text": [
      "394it [1:31:13, 18.42s/it]"
     ]
    },
    {
     "name": "stdout",
     "output_type": "stream",
     "text": [
      "Дубликат: dataset/test_data_yappy/test_dataset/d02dca26-1696-4c96-b63c-bf348d245cd8.mp4, оригинал: [('4aeaba33-dbfb-41b3-ade0-b06a87824f1c', 0.8934601210808208, 0.9953727406524672)]\n"
     ]
    },
    {
     "name": "stderr",
     "output_type": "stream",
     "text": [
      "395it [1:31:36, 19.88s/it]"
     ]
    },
    {
     "name": "stdout",
     "output_type": "stream",
     "text": [
      "Добавили в БД: 3bddd9b0-3a34-455f-976c-3c8de015a165\n"
     ]
    },
    {
     "name": "stderr",
     "output_type": "stream",
     "text": [
      "396it [1:32:03, 21.86s/it]"
     ]
    },
    {
     "name": "stdout",
     "output_type": "stream",
     "text": [
      "Добавили в БД: 375d9f3f-bfab-4b6f-bb0b-06dcbb366ef5\n"
     ]
    },
    {
     "name": "stderr",
     "output_type": "stream",
     "text": [
      "397it [1:32:31, 23.77s/it]"
     ]
    },
    {
     "name": "stdout",
     "output_type": "stream",
     "text": [
      "Добавили в БД: 15357ba9-a470-43bb-9cb9-871020d45fb0\n"
     ]
    },
    {
     "name": "stderr",
     "output_type": "stream",
     "text": [
      "398it [1:32:53, 23.33s/it]"
     ]
    },
    {
     "name": "stdout",
     "output_type": "stream",
     "text": [
      "Добавили в БД: 1c9cce5d-caa0-4ba6-81f2-2b668b73c100\n"
     ]
    },
    {
     "name": "stderr",
     "output_type": "stream",
     "text": [
      "399it [1:33:21, 24.48s/it]"
     ]
    },
    {
     "name": "stdout",
     "output_type": "stream",
     "text": [
      "Добавили в БД: 189023f8-3db5-466e-947d-856c3d1c5380\n"
     ]
    },
    {
     "name": "stderr",
     "output_type": "stream",
     "text": [
      "400it [1:33:41, 23.42s/it]"
     ]
    },
    {
     "name": "stdout",
     "output_type": "stream",
     "text": [
      "Добавили в БД: 0fe61af5-de49-497b-9194-78e6322e10e5\n"
     ]
    },
    {
     "name": "stderr",
     "output_type": "stream",
     "text": [
      "401it [1:34:13, 25.88s/it]"
     ]
    },
    {
     "name": "stdout",
     "output_type": "stream",
     "text": [
      "Добавили в БД: 38decff0-0ced-4f43-841c-2d48a9f8239b\n"
     ]
    },
    {
     "name": "stderr",
     "output_type": "stream",
     "text": [
      "402it [1:34:37, 25.21s/it]"
     ]
    },
    {
     "name": "stdout",
     "output_type": "stream",
     "text": [
      "Добавили в БД: 44ec442f-e005-4f9d-bead-44d42f2df05e\n"
     ]
    },
    {
     "name": "stderr",
     "output_type": "stream",
     "text": [
      "403it [1:34:46, 20.56s/it]"
     ]
    },
    {
     "name": "stdout",
     "output_type": "stream",
     "text": [
      "Дубликат: dataset/test_data_yappy/test_dataset/00357913-2cad-4389-9bc6-a10c26f15679.mp4, оригинал: [('0fe61af5-de49-497b-9194-78e6322e10e5', 0.8927270744921052, 0.9834444216963074)]\n"
     ]
    },
    {
     "name": "stderr",
     "output_type": "stream",
     "text": [
      "404it [1:34:52, 15.96s/it]"
     ]
    },
    {
     "name": "stdout",
     "output_type": "stream",
     "text": [
      "Дубликат: dataset/test_data_yappy/test_dataset/008e8b3a-8ee5-4ddf-b1ba-b8657541d5c2.mp4, оригинал: [('3d51898f-1321-4a03-95a2-2f8cfb6e03bd', 0.8540055964884441, 0.8313622309156823)]\n"
     ]
    },
    {
     "name": "stderr",
     "output_type": "stream",
     "text": [
      "405it [1:35:11, 16.85s/it]"
     ]
    },
    {
     "name": "stdout",
     "output_type": "stream",
     "text": [
      "Добавили в БД: 16ca39f7-3756-4b6a-8c3c-d09b4ed72745\n"
     ]
    },
    {
     "name": "stderr",
     "output_type": "stream",
     "text": [
      "406it [1:35:39, 20.25s/it]"
     ]
    },
    {
     "name": "stdout",
     "output_type": "stream",
     "text": [
      "Добавили в БД: 45780455-3e24-4f28-9af6-c1d0ca37a070\n"
     ]
    },
    {
     "name": "stderr",
     "output_type": "stream",
     "text": [
      "407it [1:36:03, 21.47s/it]"
     ]
    },
    {
     "name": "stdout",
     "output_type": "stream",
     "text": [
      "Добавили в БД: 01037207-0047-4925-a585-f6bb8c511c90\n"
     ]
    },
    {
     "name": "stderr",
     "output_type": "stream",
     "text": [
      "408it [1:36:28, 22.62s/it]"
     ]
    },
    {
     "name": "stdout",
     "output_type": "stream",
     "text": [
      "Добавили в БД: 017004ff-e8b9-4ce3-baad-4d29cfb487c4\n"
     ]
    },
    {
     "name": "stderr",
     "output_type": "stream",
     "text": [
      "409it [1:36:38, 18.85s/it]"
     ]
    },
    {
     "name": "stdout",
     "output_type": "stream",
     "text": [
      "Дубликат: dataset/test_data_yappy/test_dataset/7a09f87d-1f13-4c40-ab4b-0b109c0dfb42.mp4, оригинал: [('4831d29a-7c13-4d0e-843f-ed63f0a57589', 0.8691446000372958, 0.864266568866064)]\n"
     ]
    },
    {
     "name": "stderr",
     "output_type": "stream",
     "text": [
      "410it [1:36:57, 18.75s/it]"
     ]
    },
    {
     "name": "stdout",
     "output_type": "stream",
     "text": [
      "Добавили в БД: 2b00d0c4-a554-466e-917c-bbb8c7c2e509\n"
     ]
    },
    {
     "name": "stderr",
     "output_type": "stream",
     "text": [
      "411it [1:37:22, 20.49s/it]"
     ]
    },
    {
     "name": "stdout",
     "output_type": "stream",
     "text": [
      "Добавили в БД: 5649bcac-fb03-41a7-8211-c3af8a40dca1\n"
     ]
    },
    {
     "name": "stderr",
     "output_type": "stream",
     "text": [
      "412it [1:37:49, 22.59s/it]"
     ]
    },
    {
     "name": "stdout",
     "output_type": "stream",
     "text": [
      "Добавили в БД: 23f62cee-6cad-427a-bc97-9c9526dc0c8e\n"
     ]
    },
    {
     "name": "stderr",
     "output_type": "stream",
     "text": [
      "413it [1:38:18, 24.54s/it]"
     ]
    },
    {
     "name": "stdout",
     "output_type": "stream",
     "text": [
      "Добавили в БД: 11a1de0b-3bcc-47fb-a2c7-946c3eec72a5\n"
     ]
    },
    {
     "name": "stderr",
     "output_type": "stream",
     "text": [
      "414it [1:38:45, 25.12s/it]"
     ]
    },
    {
     "name": "stdout",
     "output_type": "stream",
     "text": [
      "Добавили в БД: 532df824-e66d-44b9-8ba6-56981d7371e9\n"
     ]
    },
    {
     "name": "stderr",
     "output_type": "stream",
     "text": [
      "415it [1:39:13, 26.14s/it]"
     ]
    },
    {
     "name": "stdout",
     "output_type": "stream",
     "text": [
      "Добавили в БД: 218393ab-5198-415b-9165-f3696d2139b3\n"
     ]
    },
    {
     "name": "stderr",
     "output_type": "stream",
     "text": [
      "416it [1:39:40, 26.33s/it]"
     ]
    },
    {
     "name": "stdout",
     "output_type": "stream",
     "text": [
      "Добавили в БД: 4e99863b-4c4c-44cd-8156-1448e0e0e64f\n"
     ]
    },
    {
     "name": "stderr",
     "output_type": "stream",
     "text": [
      "417it [1:40:04, 25.52s/it]"
     ]
    },
    {
     "name": "stdout",
     "output_type": "stream",
     "text": [
      "Дубликат: dataset/test_data_yappy/test_dataset/783c5b0f-1293-40d3-a11e-6df72c1cc685.mp4, оригинал: [('42672f48-f492-40ca-b44a-6afd6060fb99', 0.9419329368684252, 0.9679055223674492)]\n"
     ]
    },
    {
     "name": "stderr",
     "output_type": "stream",
     "text": [
      "418it [1:40:31, 26.08s/it]"
     ]
    },
    {
     "name": "stdout",
     "output_type": "stream",
     "text": [
      "Добавили в БД: 2cc6825e-22f1-4f91-8831-f5ce6e796799\n"
     ]
    },
    {
     "name": "stderr",
     "output_type": "stream",
     "text": [
      "419it [1:41:01, 27.19s/it]"
     ]
    },
    {
     "name": "stdout",
     "output_type": "stream",
     "text": [
      "Добавили в БД: 257029be-d6bf-4d6c-9033-297df8a3bdd7\n"
     ]
    },
    {
     "name": "stderr",
     "output_type": "stream",
     "text": [
      "420it [1:41:26, 26.59s/it]"
     ]
    },
    {
     "name": "stdout",
     "output_type": "stream",
     "text": [
      "Добавили в БД: 538b7757-9cb5-4334-923e-d008e3bd9954\n"
     ]
    },
    {
     "name": "stderr",
     "output_type": "stream",
     "text": [
      "421it [1:42:01, 29.06s/it]"
     ]
    },
    {
     "name": "stdout",
     "output_type": "stream",
     "text": [
      "Добавили в БД: 0bc89417-6e83-41dd-9617-d5cc7764fbf6\n"
     ]
    },
    {
     "name": "stderr",
     "output_type": "stream",
     "text": [
      "422it [1:42:36, 31.04s/it]"
     ]
    },
    {
     "name": "stdout",
     "output_type": "stream",
     "text": [
      "Добавили в БД: 04462677-2c3e-4097-9590-6e322c9c88d0\n"
     ]
    },
    {
     "name": "stderr",
     "output_type": "stream",
     "text": [
      "423it [1:43:12, 32.45s/it]"
     ]
    },
    {
     "name": "stdout",
     "output_type": "stream",
     "text": [
      "Добавили в БД: 1c65000c-a581-40eb-8899-ae5f3429d8f3\n"
     ]
    },
    {
     "name": "stderr",
     "output_type": "stream",
     "text": [
      "424it [1:43:41, 31.42s/it]"
     ]
    },
    {
     "name": "stdout",
     "output_type": "stream",
     "text": [
      "Добавили в БД: 3ff63baa-d031-446d-ad67-e0714258a98b\n"
     ]
    },
    {
     "name": "stderr",
     "output_type": "stream",
     "text": [
      "425it [1:43:52, 25.16s/it]"
     ]
    },
    {
     "name": "stdout",
     "output_type": "stream",
     "text": [
      "Дубликат: dataset/test_data_yappy/test_dataset/db1bee9c-449b-471c-a0e6-800c6e875b62.mp4, оригинал: [('435a628b-dd06-4b47-ba4a-ebd3e50301c3', 0.911129500191841, 0.8966612163460661)]\n"
     ]
    },
    {
     "name": "stderr",
     "output_type": "stream",
     "text": [
      "426it [1:44:00, 20.12s/it]"
     ]
    },
    {
     "name": "stdout",
     "output_type": "stream",
     "text": [
      "Дубликат: dataset/test_data_yappy/test_dataset/d8276034-b33a-4c32-8969-eb396fd990e6.mp4, оригинал: [('31fc90bf-2255-4e7f-856d-2589b8ebbe2b', 0.9700461100108893, 0.9671992807038257)]\n"
     ]
    },
    {
     "name": "stderr",
     "output_type": "stream",
     "text": [
      "427it [1:44:25, 21.44s/it]"
     ]
    },
    {
     "name": "stdout",
     "output_type": "stream",
     "text": [
      "Добавили в БД: 1349c9a1-02fa-4d4b-8069-1a413782027f\n"
     ]
    },
    {
     "name": "stderr",
     "output_type": "stream",
     "text": [
      "428it [1:44:33, 17.63s/it]"
     ]
    },
    {
     "name": "stdout",
     "output_type": "stream",
     "text": [
      "Дубликат: dataset/test_data_yappy/test_dataset/7aa8ec6d-185f-40e9-93f5-d038aacd6ec0.mp4, оригинал: [('3a2ea8fe-ffcc-4531-95f3-1a90acd73de6', 0.8876465250574946, 0.8593153930468977)]\n"
     ]
    },
    {
     "name": "stderr",
     "output_type": "stream",
     "text": [
      "429it [1:44:53, 18.25s/it]"
     ]
    },
    {
     "name": "stdout",
     "output_type": "stream",
     "text": [
      "Добавили в БД: 0c246a8d-6558-4115-9ccc-c374b9f18734\n"
     ]
    },
    {
     "name": "stderr",
     "output_type": "stream",
     "text": [
      "430it [1:45:06, 16.65s/it]"
     ]
    },
    {
     "name": "stdout",
     "output_type": "stream",
     "text": [
      "Дубликат: dataset/test_data_yappy/test_dataset/20aa749a-96f5-486a-bbe7-d7f00775fb0d.mp4, оригинал: [('257029be-d6bf-4d6c-9033-297df8a3bdd7', 0.8980143974786396, 0.9992601501148416)]\n"
     ]
    },
    {
     "name": "stderr",
     "output_type": "stream",
     "text": [
      "431it [1:45:31, 19.28s/it]"
     ]
    },
    {
     "name": "stdout",
     "output_type": "stream",
     "text": [
      "Добавили в БД: 02946cdf-31eb-48d1-8dec-960f47d75e9f\n"
     ]
    },
    {
     "name": "stderr",
     "output_type": "stream",
     "text": [
      "432it [1:45:48, 18.63s/it]"
     ]
    },
    {
     "name": "stdout",
     "output_type": "stream",
     "text": [
      "Дубликат: dataset/test_data_yappy/test_dataset/b9f26d66-1f66-4a98-a23c-931038bbba48.mp4, оригинал: [('17b3b6d8-020f-4388-b40e-fdcac7640381', 0.9430991564907849, 0.998612962496433)]\n"
     ]
    },
    {
     "name": "stderr",
     "output_type": "stream",
     "text": [
      "433it [1:46:12, 20.27s/it]"
     ]
    },
    {
     "name": "stdout",
     "output_type": "stream",
     "text": [
      "Добавили в БД: 2f737d30-9554-4b2d-bf80-5c778e392564\n"
     ]
    },
    {
     "name": "stderr",
     "output_type": "stream",
     "text": [
      "434it [1:46:26, 18.23s/it]"
     ]
    },
    {
     "name": "stdout",
     "output_type": "stream",
     "text": [
      "Дубликат: dataset/test_data_yappy/test_dataset/7f6ae19b-e348-4aa0-adfc-6b2de50f64bc.mp4, оригинал: [('c01492b4-b641-44be-b883-100510f335c6', 0.8977251876372008, 0.9977894491305455)]\n"
     ]
    },
    {
     "name": "stderr",
     "output_type": "stream",
     "text": [
      "435it [1:46:35, 15.41s/it]"
     ]
    },
    {
     "name": "stdout",
     "output_type": "stream",
     "text": [
      "Дубликат: dataset/test_data_yappy/test_dataset/d29f91fa-ce6d-4325-8546-7e6eefd4d1d8.mp4, оригинал: [('33dbd76d-6320-4a0e-a690-3b4e41f22af6', 0.8157434816286318, 0.9973342098654243)]\n"
     ]
    },
    {
     "name": "stderr",
     "output_type": "stream",
     "text": [
      "436it [1:47:04, 19.44s/it]"
     ]
    },
    {
     "name": "stdout",
     "output_type": "stream",
     "text": [
      "Добавили в БД: 22c6c578-8b2e-4f07-933e-048453858d53\n"
     ]
    },
    {
     "name": "stderr",
     "output_type": "stream",
     "text": [
      "437it [1:47:15, 16.97s/it]"
     ]
    },
    {
     "name": "stdout",
     "output_type": "stream",
     "text": [
      "Дубликат: dataset/test_data_yappy/test_dataset/4ddd8001-78de-47a1-86ae-213dd67d7d0e.mp4, оригинал: [('21becaf5-b4fc-4427-b952-edc43b8a385b', 0.9520301010048924, 0.967607092246537)]\n"
     ]
    },
    {
     "name": "stderr",
     "output_type": "stream",
     "text": [
      "438it [1:47:40, 19.33s/it]"
     ]
    },
    {
     "name": "stdout",
     "output_type": "stream",
     "text": [
      "Добавили в БД: 4dfe01c9-2b4a-4ae8-8d0a-f26864dbbbf2\n"
     ]
    },
    {
     "name": "stderr",
     "output_type": "stream",
     "text": [
      "439it [1:47:49, 16.28s/it]"
     ]
    },
    {
     "name": "stdout",
     "output_type": "stream",
     "text": [
      "Дубликат: dataset/test_data_yappy/test_dataset/36f2c6b5-cc2d-4e29-bfb2-abe406cc68dd.mp4, оригинал: [('0b01849a-cb73-47e1-ab3f-7d82cdfa34b5', 0.812399724678939, 0.9992985781077446)]\n"
     ]
    },
    {
     "name": "stderr",
     "output_type": "stream",
     "text": [
      "440it [1:48:12, 18.24s/it]"
     ]
    },
    {
     "name": "stdout",
     "output_type": "stream",
     "text": [
      "Добавили в БД: 2b6ac541-d766-48d4-be3b-2226c67a14fe\n"
     ]
    },
    {
     "name": "stderr",
     "output_type": "stream",
     "text": [
      "441it [1:48:40, 21.32s/it]"
     ]
    },
    {
     "name": "stdout",
     "output_type": "stream",
     "text": [
      "Добавили в БД: 2ba47631-f921-49af-a01c-c88055c99cdd\n"
     ]
    },
    {
     "name": "stderr",
     "output_type": "stream",
     "text": [
      "442it [1:49:06, 22.71s/it]"
     ]
    },
    {
     "name": "stdout",
     "output_type": "stream",
     "text": [
      "Добавили в БД: 764403f2-cd65-48f2-b65c-2d05dea18fe2\n"
     ]
    },
    {
     "name": "stderr",
     "output_type": "stream",
     "text": [
      "443it [1:49:34, 24.30s/it]"
     ]
    },
    {
     "name": "stdout",
     "output_type": "stream",
     "text": [
      "Добавили в БД: 4fbbfca7-70c1-44dd-9ff8-71d4fb98df69\n"
     ]
    },
    {
     "name": "stderr",
     "output_type": "stream",
     "text": [
      "444it [1:50:04, 25.87s/it]"
     ]
    },
    {
     "name": "stdout",
     "output_type": "stream",
     "text": [
      "Добавили в БД: 1583d477-9704-47dc-bd20-611fd03131fb\n"
     ]
    },
    {
     "name": "stderr",
     "output_type": "stream",
     "text": [
      "445it [1:50:35, 27.42s/it]"
     ]
    },
    {
     "name": "stdout",
     "output_type": "stream",
     "text": [
      "Добавили в БД: 1864da7f-dc25-4c7a-ad9f-b9c5f4fc8732\n"
     ]
    },
    {
     "name": "stderr",
     "output_type": "stream",
     "text": [
      "446it [1:51:02, 27.47s/it]"
     ]
    },
    {
     "name": "stdout",
     "output_type": "stream",
     "text": [
      "Добавили в БД: 5ccef995-4580-4d1c-9b2f-f5c9d1b9214f\n"
     ]
    },
    {
     "name": "stderr",
     "output_type": "stream",
     "text": [
      "447it [1:51:29, 27.26s/it]"
     ]
    },
    {
     "name": "stdout",
     "output_type": "stream",
     "text": [
      "Добавили в БД: 32709ddf-4690-4992-aaa7-773539be5e5e\n"
     ]
    },
    {
     "name": "stderr",
     "output_type": "stream",
     "text": [
      "448it [1:51:55, 26.91s/it]"
     ]
    },
    {
     "name": "stdout",
     "output_type": "stream",
     "text": [
      "Добавили в БД: 176f8503-9213-4b34-a048-1e752a8ca7a5\n"
     ]
    },
    {
     "name": "stderr",
     "output_type": "stream",
     "text": [
      "449it [1:52:09, 22.84s/it]"
     ]
    },
    {
     "name": "stdout",
     "output_type": "stream",
     "text": [
      "Дубликат: dataset/test_data_yappy/test_dataset/d6944f81-d843-41f2-85a9-65815e54fa15.mp4, оригинал: [('01037207-0047-4925-a585-f6bb8c511c90', 0.9312071007719656, 0.9783609253035903)]\n"
     ]
    },
    {
     "name": "stderr",
     "output_type": "stream",
     "text": [
      "450it [1:52:33, 23.27s/it]"
     ]
    },
    {
     "name": "stdout",
     "output_type": "stream",
     "text": [
      "Добавили в БД: 10280f56-133e-42c4-8e6c-41b0f144c8b8\n"
     ]
    },
    {
     "name": "stderr",
     "output_type": "stream",
     "text": [
      "451it [1:53:02, 24.93s/it]"
     ]
    },
    {
     "name": "stdout",
     "output_type": "stream",
     "text": [
      "Добавили в БД: 442ed9cb-cd31-40a5-95d0-f450d79915ee\n"
     ]
    },
    {
     "name": "stderr",
     "output_type": "stream",
     "text": [
      "452it [1:53:28, 25.39s/it]"
     ]
    },
    {
     "name": "stdout",
     "output_type": "stream",
     "text": [
      "Добавили в БД: 4150e48f-f9ad-47fe-84de-89e9e2018536\n"
     ]
    },
    {
     "name": "stderr",
     "output_type": "stream",
     "text": [
      "453it [1:54:03, 28.31s/it]"
     ]
    },
    {
     "name": "stdout",
     "output_type": "stream",
     "text": [
      "Добавили в БД: 44682ca5-e28a-43e6-952b-bef897b68e02\n"
     ]
    }
   ],
   "source": [
    "from video_2 import extract_video_embedding_2, create_video_model\n",
    "from VIT_2 import get_video_embedding, create_vit_model\n",
    "from audio_2 import extract_audio_embeddings_from_video2, create_audio_model\n",
    "from sklearn.metrics import f1_score\n",
    "import json\n",
    "import os\n",
    "import numpy as np\n",
    "import pandas as pd\n",
    "from sklearn.metrics.pairwise import cosine_similarity\n",
    "from tqdm import tqdm\n",
    "import torch\n",
    "\n",
    "def check_dupl_from_db(vid_emb, vit_emb, aud_emb, database, thresholds_vid=(0.8, 0.95), thresholds_aud=(0.8, 0.95)):\n",
    "    duplicates = []\n",
    "    for uuid in database.keys():\n",
    "        orig_vid_emb = np.array(database[uuid]['vid_emb'])\n",
    "        orig_vit_emb = np.array(database[uuid]['vit_emb'])\n",
    "        orig_aud_emb = np.array(database[uuid]['aud_emb'])\n",
    "        if vid_emb is not None and orig_vid_emb is not None:\n",
    "            try:\n",
    "                similarity_vid = cosine_similarity(vid_emb.reshape(1, -1), orig_vid_emb.reshape(1, -1)).max(axis=1).mean()\n",
    "            except:\n",
    "                similarity_vid = None\n",
    "        else:\n",
    "            similarity_vid = None\n",
    "        if vit_emb is not None and orig_vit_emb is not None:\n",
    "            try:\n",
    "                similarity_vit = cosine_similarity(vit_emb.reshape(1, -1), orig_vit_emb.reshape(1, -1)).max(axis=1).mean()\n",
    "            except:\n",
    "                similarity_vit = None\n",
    "        else:\n",
    "            similarity_vit = None            \n",
    "        if aud_emb is not None and orig_aud_emb is not None:\n",
    "            try:\n",
    "                similarity_aud = cosine_similarity(aud_emb.reshape(1, -1), orig_aud_emb.reshape(1, -1)).max(axis=1).mean() \n",
    "            except:\n",
    "                similarity_aud = None\n",
    "        else:\n",
    "            similarity_aud = None \n",
    "        similarity_vid = np.nanmean([similarity_vid, similarity_vit])\n",
    "        if similarity_vid is None and similarity_aud is None:\n",
    "            continue\n",
    "        if similarity_aud is None:\n",
    "            if similarity_vid > thresholds_vid[0]:\n",
    "                duplicates.append((uuid, similarity_vid, similarity_aud))\n",
    "                continue\n",
    "        if similarity_vid is None:\n",
    "            if similarity_aud > thresholds_aud[0]:\n",
    "                duplicates.append((uuid, similarity_vid, similarity_aud))\n",
    "                continue\n",
    "        if similarity_vid > thresholds_vid[0] and similarity_aud > thresholds_aud[0]:\n",
    "            duplicates.append((uuid, similarity_vid, similarity_aud))\n",
    "        if similarity_vid > thresholds_vid[1] and similarity_aud < thresholds_aud[0]:\n",
    "            duplicates.append((uuid, similarity_vid, similarity_aud))\n",
    "            \n",
    "    return duplicates\n",
    "\n",
    "def find_duplicate_videos(metadata_path, video_folder, database_path='database.json', model_name = 'resnet50', sample_frames=10, frame_size=(224, 224), threshold=0.9):\n",
    "    database = json.load(open(database_path)) #БД с эмбеддингами\n",
    "    #Модель для видеоряда\n",
    "    model_vid = create_video_model()\n",
    "    #model_vid = torch.nn.Sequential(*(list(model_vid.children())[:-1])) \n",
    "    #model_vid.eval()\n",
    "    #Считаем метрики\n",
    "    pred = []\n",
    "    pred_uuid = []\n",
    "\n",
    "    #Модель для аудиоряда\n",
    "    model_aud = create_audio_model()\n",
    "    model_vit = create_vit_model()\n",
    "\n",
    "\n",
    "    \n",
    "    video_files = [os.path.join(video_folder, f) for f in os.listdir(video_folder) if f.endswith(('.mp4', '.avi', '.mkv', '.mov'))]\n",
    "    updated = False\n",
    "    metadata = pd.read_csv(metadata_path).sort_values('created')\n",
    "    #metadata = new_train#train.loc[train['uuid'].isin(['5eb4127e-5694-492b-963c-6688522e9ad2', '3726bb2d-3323-41f8-8eb2-0d7cf095d62b'])].sort_values('created')\n",
    "    #Перебираем все файлы с видео\n",
    "    for i, row in tqdm(metadata.iterrows()):\n",
    "    #for video_file in tqdm(video_files, desc=\"Extracting video features\"):\n",
    "        if updated:\n",
    "            database = json.load(open(database_path)) #БД с эмбеддингами\n",
    "            updated = False\n",
    "        #audio_embeddings = {}\n",
    "        #duplicates = []\n",
    "        video_file = os.path.join(video_folder, row.link.split('/')[-1])\n",
    "        # Путь для временного хранения аудио\n",
    "        #temp_audio_path = os.path.join(f\"{video_file}.wav\")\n",
    "        #Получаем аудио эмбеддинг\n",
    "        \n",
    "\n",
    "        audio_embedding = extract_audio_embeddings_from_video2(video_file, model_aud)\n",
    "        #Получаем видео эмбеддинг\n",
    "        video_features = extract_video_embedding_2(video_file, model_vid)\n",
    "        vit_embedding = get_video_embedding(video_file, model_vit)\n",
    "        #Ищем оригинал в БД\n",
    "        duplicates = check_dupl_from_db(video_features, vit_embedding, audio_embedding, database=database)\n",
    "        #Если есть выводим, иначе записываем новый оригинал в БД\n",
    "        if duplicates:\n",
    "            duplicates.sort(key=lambda x: np.mean([x[1], x[2]]))\n",
    "            pred.append(1)\n",
    "            with open('Hakaton/models/temp/preds.txt', 'a') as f:\n",
    "                f.write('1\\n')\n",
    "            pred_uuid.append(duplicates[-1][0])\n",
    "            with open('Hakaton/models/temp/pred_uuid.txt', 'a') as f:\n",
    "                f.write(duplicates[-1][0] + '\\n')            \n",
    "            print(f'Дубликат: {video_file}, оригинал: {duplicates}') \n",
    "        else:\n",
    "            pred.append(0)\n",
    "            with open('Hakaton/models/temp/preds.txt', 'a') as f:\n",
    "                f.write('0\\n')            \n",
    "            pred_uuid.append(np.nan)\n",
    "            with open('Hakaton/models/temp/pred_uuid.txt', 'a') as f:\n",
    "                f.write('None\\n')             \n",
    "            if video_features is not None:\n",
    "                vid_emb = video_features.tolist()\n",
    "            else:\n",
    "                vid_emb = None\n",
    "            if vit_embedding is not None:\n",
    "                vit_emb = vit_embedding.tolist()\n",
    "            else:\n",
    "                vid_emb = None                \n",
    "            if audio_embedding is not None:\n",
    "                aud_emb = audio_embedding.tolist()\n",
    "            else:\n",
    "                aud_emb = None\n",
    "            new_origin = {row.uuid: {'vid_emb': vid_emb,\n",
    "                                     'vit_emb': vit_emb,\n",
    "                                     'aud_emb': aud_emb}}\n",
    "            database.update(new_origin)\n",
    "            json.dump(database, open(database_path, 'w'))\n",
    "            updated = True\n",
    "            print('Добавили в БД:', row.uuid)\n",
    "                \n",
    "\n",
    "            \n",
    "       # if os.path.exists(temp_audio_path):\n",
    "            #os.remove(temp_audio_path)\n",
    "    return pred, pred_uuid\n",
    "\n",
    "def main():\n",
    "    pred, pred_uuid = find_duplicate_videos('dataset/test_data_yappy/test.csv', 'dataset/test_data_yappy/test_dataset', database_path='Hakaton/models/database_test.json')\n",
    "    df = pd.read_csv('dataset/test_data_yappy/test.csv').sort_values('created')\n",
    "    df['is_duplicate'] = np.array(pred, dtype=bool)\n",
    "    df['duplicate_for'] = pred_uuid\n",
    "    df.to_csv('Hakaton/submission.csv', index=False)\n",
    "    \n",
    "\n",
    "if __name__ == '__main__':\n",
    "    os.chdir('/home/user1')\n",
    "    \n",
    "    main()\n",
    "    "
   ]
  }
 ],
 "metadata": {
  "kernelspec": {
   "display_name": "Python 3 (ipykernel)",
   "language": "python",
   "name": "python3"
  },
  "language_info": {
   "codemirror_mode": {
    "name": "ipython",
    "version": 3
   },
   "file_extension": ".py",
   "mimetype": "text/x-python",
   "name": "python",
   "nbconvert_exporter": "python",
   "pygments_lexer": "ipython3",
   "version": "3.10.12"
  }
 },
 "nbformat": 4,
 "nbformat_minor": 5
}
