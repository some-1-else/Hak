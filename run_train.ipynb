{
 "cells": [
  {
   "cell_type": "code",
   "execution_count": 7,
   "id": "4730849c-84dd-45bf-b6b1-121fe401eb31",
   "metadata": {},
   "outputs": [],
   "source": [
    "train = pd.read_csv('dataset/train_data_yappy/train.csv')\n",
    "train_short = train[:1000]\n",
    "origins_uuid = train_short.loc[train_short.is_duplicate, 'duplicate_for'].unique()\n",
    "duplicates = train_short.loc[train_short.duplicate_for.isin(origins_uuid)]\n",
    "origins = train_short.loc[train_short.uuid.isin(origins_uuid)]\n",
    "new_train = pd.concat((duplicates, origins)).sort_values('created')"
   ]
  },
  {
   "cell_type": "code",
   "execution_count": 8,
   "id": "cba49f0b-fb36-4046-b523-b6564e80be2e",
   "metadata": {},
   "outputs": [],
   "source": [
    "json.dump({}, open('Hakaton/models/database_train.json', 'w'))"
   ]
  },
  {
   "cell_type": "code",
   "execution_count": 9,
   "id": "d7085a59",
   "metadata": {},
   "outputs": [
    {
     "name": "stderr",
     "output_type": "stream",
     "text": [
      "/usr/local/lib/python3.10/dist-packages/torchvision/models/_utils.py:208: UserWarning: The parameter 'pretrained' is deprecated since 0.13 and may be removed in the future, please use 'weights' instead.\n",
      "  warnings.warn(\n",
      "/usr/local/lib/python3.10/dist-packages/torchvision/models/_utils.py:223: UserWarning: Arguments other than a weight enum or `None` for 'weights' are deprecated since 0.13 and may be removed in the future. The current behavior is equivalent to passing `weights=ResNet50_Weights.IMAGENET1K_V1`. You can also use `weights=ResNet50_Weights.DEFAULT` to get the most up-to-date weights.\n",
      "  warnings.warn(msg)\n",
      "1it [00:03,  3.80s/it]"
     ]
    },
    {
     "name": "stdout",
     "output_type": "stream",
     "text": [
      "Добавили в БД: 2da574f2-5ae7-4d85-9f5b-c2970a315c1c\n"
     ]
    },
    {
     "name": "stderr",
     "output_type": "stream",
     "text": [
      "2it [00:16,  8.91s/it]"
     ]
    },
    {
     "name": "stdout",
     "output_type": "stream",
     "text": [
      "Добавили в БД: 3a20cbaf-798a-4b25-b2c1-e41e1c6ecd09\n"
     ]
    },
    {
     "name": "stderr",
     "output_type": "stream",
     "text": [
      "3it [00:26,  9.32s/it]"
     ]
    },
    {
     "name": "stdout",
     "output_type": "stream",
     "text": [
      "Добавили в БД: 0fd09c1b-e19e-4b6e-84e6-35f9d4fc6f72\n"
     ]
    },
    {
     "name": "stderr",
     "output_type": "stream",
     "text": [
      "4it [00:38, 10.46s/it]"
     ]
    },
    {
     "name": "stdout",
     "output_type": "stream",
     "text": [
      "Добавили в БД: 3726bb2d-3323-41f8-8eb2-0d7cf095d62b\n"
     ]
    },
    {
     "name": "stderr",
     "output_type": "stream",
     "text": [
      "5it [00:51, 11.41s/it]"
     ]
    },
    {
     "name": "stdout",
     "output_type": "stream",
     "text": [
      "Дубликат: dataset/train_data_yappy/train_dataset/5eb4127e-5694-492b-963c-6688522e9ad2.mp4, оригинал: [('3726bb2d-3323-41f8-8eb2-0d7cf095d62b', 0.915900357821143, 0.9980437766671169)]\n"
     ]
    },
    {
     "name": "stderr",
     "output_type": "stream",
     "text": [
      "6it [00:57,  9.55s/it]"
     ]
    },
    {
     "name": "stdout",
     "output_type": "stream",
     "text": [
      "Добавили в БД: 82eeda14-f824-4244-b423-f0d4db672d9a\n"
     ]
    },
    {
     "name": "stderr",
     "output_type": "stream",
     "text": [
      "7it [01:02,  8.22s/it]"
     ]
    },
    {
     "name": "stdout",
     "output_type": "stream",
     "text": [
      "Добавили в БД: 314d2988-eb85-4581-8416-da998e036afe\n"
     ]
    },
    {
     "name": "stderr",
     "output_type": "stream",
     "text": [
      "8it [01:08,  7.28s/it]"
     ]
    },
    {
     "name": "stdout",
     "output_type": "stream",
     "text": [
      "Дубликат: dataset/train_data_yappy/train_dataset/b5f191e6-42e0-43f5-8773-560643de17fb.mp4, оригинал: [('314d2988-eb85-4581-8416-da998e036afe', 0.9304974211444319, 0.9985178443772429)]\n"
     ]
    },
    {
     "name": "stderr",
     "output_type": "stream",
     "text": [
      "9it [01:17,  7.98s/it]"
     ]
    },
    {
     "name": "stdout",
     "output_type": "stream",
     "text": [
      "Дубликат: dataset/train_data_yappy/train_dataset/025ee26a-7391-4f60-878a-7fc1928a967b.mp4, оригинал: [('0fd09c1b-e19e-4b6e-84e6-35f9d4fc6f72', 0.8822323599097184, 0.9964687929030779)]\n"
     ]
    },
    {
     "name": "stderr",
     "output_type": "stream",
     "text": [
      "10it [01:22,  7.11s/it]"
     ]
    },
    {
     "name": "stdout",
     "output_type": "stream",
     "text": [
      "Добавили в БД: a18324cf-b2ad-41e2-86b8-e6923c5fdc36\n"
     ]
    },
    {
     "name": "stderr",
     "output_type": "stream",
     "text": [
      "11it [01:27,  6.42s/it]"
     ]
    },
    {
     "name": "stdout",
     "output_type": "stream",
     "text": [
      "Добавили в БД: 1a713f01-e2e1-48e8-83f3-2c90938ba197\n"
     ]
    },
    {
     "name": "stderr",
     "output_type": "stream",
     "text": [
      "12it [01:39,  8.22s/it]"
     ]
    },
    {
     "name": "stdout",
     "output_type": "stream",
     "text": [
      "Дубликат: dataset/train_data_yappy/train_dataset/2253aaa4-b29c-4b7d-b9cc-9286d23c44e8.mp4, оригинал: [('3a20cbaf-798a-4b25-b2c1-e41e1c6ecd09', 0.935132270704756, 0.9727203579309549)]\n"
     ]
    },
    {
     "name": "stderr",
     "output_type": "stream",
     "text": [
      "13it [01:42,  6.57s/it]"
     ]
    },
    {
     "name": "stdout",
     "output_type": "stream",
     "text": [
      "Добавили в БД: 0af145dd-e5f1-4cc1-a755-4e9a52ea2435\n"
     ]
    },
    {
     "name": "stderr",
     "output_type": "stream",
     "text": [
      "14it [01:48,  6.31s/it]"
     ]
    },
    {
     "name": "stdout",
     "output_type": "stream",
     "text": [
      "Дубликат: dataset/train_data_yappy/train_dataset/99c8cd59-5995-4981-8346-460d40e4eed3.mp4, оригинал: [('1a713f01-e2e1-48e8-83f3-2c90938ba197', 0.80265410646261, 0.989860724493977)]\n"
     ]
    },
    {
     "name": "stderr",
     "output_type": "stream",
     "text": [
      "15it [01:52,  5.65s/it]"
     ]
    },
    {
     "name": "stdout",
     "output_type": "stream",
     "text": [
      "Добавили в БД: 52b2f9ff-aad2-4269-8466-f141cacb9796\n"
     ]
    },
    {
     "name": "stderr",
     "output_type": "stream",
     "text": [
      "16it [01:58,  5.75s/it]"
     ]
    },
    {
     "name": "stdout",
     "output_type": "stream",
     "text": [
      "Добавили в БД: 090cb968-02eb-4aba-8b94-f6124050df59\n"
     ]
    },
    {
     "name": "stderr",
     "output_type": "stream",
     "text": [
      "17it [02:04,  5.81s/it]"
     ]
    },
    {
     "name": "stdout",
     "output_type": "stream",
     "text": [
      "Дубликат: dataset/train_data_yappy/train_dataset/5acd8e68-99fe-43fd-b9f9-b2279bdc9372.mp4, оригинал: [('0af145dd-e5f1-4cc1-a755-4e9a52ea2435', 0.9523415254078542, 0.961161608776421)]\n"
     ]
    },
    {
     "name": "stderr",
     "output_type": "stream",
     "text": [
      "18it [02:08,  5.33s/it]"
     ]
    },
    {
     "name": "stdout",
     "output_type": "stream",
     "text": [
      "Дубликат: dataset/train_data_yappy/train_dataset/05d72fc9-89a3-47bf-bb1b-6db4fc6f2b56.mp4, оригинал: [('090cb968-02eb-4aba-8b94-f6124050df59', 0.9070738806354002, 0.964736681425716)]\n"
     ]
    },
    {
     "name": "stderr",
     "output_type": "stream",
     "text": [
      "19it [02:12,  4.88s/it]"
     ]
    },
    {
     "name": "stdout",
     "output_type": "stream",
     "text": [
      "Добавили в БД: 57ee08b6-9704-4eb0-adf8-6b91e3c7be70\n"
     ]
    },
    {
     "name": "stderr",
     "output_type": "stream",
     "text": [
      "20it [02:16,  4.61s/it]"
     ]
    },
    {
     "name": "stdout",
     "output_type": "stream",
     "text": [
      "Дубликат: dataset/train_data_yappy/train_dataset/36e972c3-7134-41ce-b37f-e227fece4575.mp4, оригинал: [('57ee08b6-9704-4eb0-adf8-6b91e3c7be70', 0.9255245898211394, 0.9955968737989165)]\n"
     ]
    },
    {
     "name": "stderr",
     "output_type": "stream",
     "text": [
      "21it [02:20,  4.53s/it]"
     ]
    },
    {
     "name": "stdout",
     "output_type": "stream",
     "text": [
      "Дубликат: dataset/train_data_yappy/train_dataset/21caaf15-da57-431d-80bf-add3554a5471.mp4, оригинал: [('82eeda14-f824-4244-b423-f0d4db672d9a', 0.9757176187087753, 0.9663209839928857)]\n"
     ]
    },
    {
     "name": "stderr",
     "output_type": "stream",
     "text": [
      "22it [02:26,  4.82s/it]"
     ]
    },
    {
     "name": "stdout",
     "output_type": "stream",
     "text": [
      "Добавили в БД: 08bc3244-08f3-4341-b2b1-24f9e722422b\n"
     ]
    },
    {
     "name": "stderr",
     "output_type": "stream",
     "text": [
      "23it [02:35,  6.02s/it]"
     ]
    },
    {
     "name": "stdout",
     "output_type": "stream",
     "text": [
      "Добавили в БД: 2cf8f595-acd3-489f-b4ca-86d02c4e1eb2\n"
     ]
    },
    {
     "name": "stderr",
     "output_type": "stream",
     "text": [
      "24it [02:38,  5.18s/it]"
     ]
    },
    {
     "name": "stdout",
     "output_type": "stream",
     "text": [
      "Дубликат: dataset/train_data_yappy/train_dataset/d5a555f7-9fe9-49e6-b0d5-de096ea7160a.mp4, оригинал: [('52b2f9ff-aad2-4269-8466-f141cacb9796', 0.9284902029026529, 0.9906184445397589)]\n"
     ]
    },
    {
     "name": "stderr",
     "output_type": "stream",
     "text": [
      "25it [02:42,  4.79s/it]"
     ]
    },
    {
     "name": "stdout",
     "output_type": "stream",
     "text": [
      "Дубликат: dataset/train_data_yappy/train_dataset/27b07648-d7e8-42e3-9131-5a43e3e4f31f.mp4, оригинал: [('08bc3244-08f3-4341-b2b1-24f9e722422b', 0.9551769886786089, 0.999698340536993)]\n"
     ]
    },
    {
     "name": "stderr",
     "output_type": "stream",
     "text": [
      "26it [02:47,  6.45s/it]"
     ]
    },
    {
     "name": "stdout",
     "output_type": "stream",
     "text": [
      "Дубликат: dataset/train_data_yappy/train_dataset/390f73b5-6e10-4db6-978d-03cf06d2cc39.mp4, оригинал: [('2cf8f595-acd3-489f-b4ca-86d02c4e1eb2', 0.8443883961001141, 0.9971386082814929)]\n",
      "f1-score: 0.96\n"
     ]
    },
    {
     "name": "stderr",
     "output_type": "stream",
     "text": [
      "\n"
     ]
    }
   ],
   "source": [
    "from video_2 import extract_video_embedding_2, create_video_model\n",
    "from VIT_2 import get_video_embedding, create_vit_model\n",
    "from audio_2 import extract_audio_embeddings_from_video2, create_audio_model\n",
    "from sklearn.metrics import f1_score\n",
    "import json\n",
    "import os\n",
    "import numpy as np\n",
    "import pandas as pd\n",
    "from sklearn.metrics.pairwise import cosine_similarity\n",
    "from tqdm import tqdm\n",
    "\n",
    "def check_dupl_from_db(vid_emb, vit_emb, aud_emb, database, thresholds_vid=(0.8, 0.95), thresholds_aud=(0.8, 0.95)):\n",
    "    duplicates = []\n",
    "    for uuid in database.keys():\n",
    "        orig_vid_emb = np.array(database[uuid]['vid_emb'])\n",
    "        orig_vit_emb = np.array(database[uuid]['vit_emb'])\n",
    "        orig_aud_emb = np.array(database[uuid]['aud_emb'])\n",
    "        if vid_emb is not None and orig_vid_emb is not None:\n",
    "            try:\n",
    "                similarity_vid = cosine_similarity(vid_emb.reshape(1, -1), orig_vid_emb.reshape(1, -1)).max(axis=1).mean()\n",
    "            except:\n",
    "                similarity_vid = None\n",
    "        else:\n",
    "            similarity_vid = None\n",
    "        if vit_emb is not None and orig_vit_emb is not None:\n",
    "            try:\n",
    "                similarity_vit = cosine_similarity(vit_emb.reshape(1, -1), orig_vit_emb.reshape(1, -1)).max(axis=1).mean()\n",
    "            except:\n",
    "                similarity_vit = None\n",
    "        else:\n",
    "            similarity_vit = None            \n",
    "        if aud_emb is not None and orig_aud_emb is not None:\n",
    "            try:\n",
    "                similarity_aud = cosine_similarity(aud_emb.reshape(1, -1), orig_aud_emb.reshape(1, -1)).max(axis=1).mean() \n",
    "            except:\n",
    "                similarity_aud = None\n",
    "        else:\n",
    "            similarity_aud = None \n",
    "        similarity_vid = np.mean([similarity_vid, similarity_vit])\n",
    "        if similarity_vid is None and similarity_aud is None:\n",
    "            continue\n",
    "        if similarity_aud is None:\n",
    "            if similarity_vid > thresholds_vid[0]:\n",
    "                duplicates.append((uuid, similarity_vid, similarity_aud))\n",
    "                continue\n",
    "        if similarity_vid is None:\n",
    "            if similarity_aud > thresholds_aud[0]:\n",
    "                duplicates.append((uuid, similarity_vid, similarity_aud))\n",
    "                continue\n",
    "        if similarity_vid > thresholds_vid[0] and similarity_aud > thresholds_aud[0]:\n",
    "            duplicates.append((uuid, similarity_vid, similarity_aud))\n",
    "    return duplicates\n",
    "\n",
    "def find_duplicate_videos(metadata_path, video_folder, database_path='database.json', model_name = 'resnet50', sample_frames=10, frame_size=(224, 224), threshold=0.9):\n",
    "    database = json.load(open(database_path)) #БД с эмбеддингами\n",
    "    #Модель для видеоряда\n",
    "    #model_vid = getattr(models, model_name)(pretrained=True)\n",
    "    #model_vid = torch.nn.Sequential(*(list(model_vid.children())[:-1])) \n",
    "    #model_vid.eval()\n",
    "    #Считаем метрики\n",
    "    true = []\n",
    "    pred = []\n",
    "    true_uuid = []\n",
    "    pred_uuid = []\n",
    "    model_aud = create_audio_model()\n",
    "    model_vit = create_vit_model()\n",
    "    model_vid = create_video_model()\n",
    "    #Модель для аудиоряда\n",
    "   # model_aud = hub.load('https://tfhub.dev/google/yamnet/1')\n",
    "\n",
    "\n",
    "    \n",
    "    video_files = [os.path.join(video_folder, f) for f in os.listdir(video_folder) if f.endswith(('.mp4', '.avi', '.mkv', '.mov'))]\n",
    "    updated = False\n",
    "    metadata = new_train#pd.read_csv(metadata_path)#[:50]\n",
    "    #metadata = new_train#train.loc[train['uuid'].isin(['5eb4127e-5694-492b-963c-6688522e9ad2', '3726bb2d-3323-41f8-8eb2-0d7cf095d62b'])].sort_values('created')\n",
    "    #Перебираем все файлы с видео\n",
    "    for i, row in tqdm(metadata.iterrows()):\n",
    "        true.append(int(row.is_duplicate))\n",
    "        if row.is_duplicate:\n",
    "            true_uuid.append([row.duplicate_for])\n",
    "        else:\n",
    "            true_uuid.append([])\n",
    "    #for video_file in tqdm(video_files, desc=\"Extracting video features\"):\n",
    "        if updated:\n",
    "            database = json.load(open(database_path)) #БД с эмбеддингами\n",
    "            updated = False\n",
    "        #audio_embeddings = {}\n",
    "        #duplicates = []\n",
    "        video_file = os.path.join(video_folder, row.link.split('/')[-1])\n",
    "        # Путь для временного хранения аудио\n",
    "        #temp_audio_path = os.path.join(f\"{video_file}.wav\")\n",
    "        #Получаем аудио эмбеддинг\n",
    "        \n",
    "\n",
    "        audio_embedding = extract_audio_embeddings_from_video2(video_file, model_aud)\n",
    "        #Получаем видео эмбеддинг\n",
    "        video_features = extract_video_embedding_2(video_file, model_vid)\n",
    "        vit_embedding = get_video_embedding(video_file, model_vit)\n",
    "        #Ищем оригинал в БД\n",
    "        duplicates = check_dupl_from_db(video_features, vit_embedding, audio_embedding, database=database)\n",
    "        #Если есть выводим, иначе записываем новый оригинал в БД\n",
    "        if duplicates:\n",
    "            pred.append(1)\n",
    "            pred_uuid.append([duplicate[0] for duplicate in duplicates])\n",
    "            \n",
    "\n",
    "            print(f'Дубликат: {video_file}, оригинал: {duplicates}') \n",
    "        else:\n",
    "            pred.append(0)\n",
    "            pred_uuid.append([])\n",
    "            if video_features is not None:\n",
    "                vid_emb = video_features.tolist()\n",
    "            else:\n",
    "                vid_emb = None\n",
    "            if vit_embedding is not None:\n",
    "                vit_emb = vit_embedding.tolist()\n",
    "            else:\n",
    "                vid_emb = None                \n",
    "            if audio_embedding is not None:\n",
    "                aud_emb = audio_embedding.tolist()\n",
    "            else:\n",
    "                aud_emb = None\n",
    "            new_origin = {row.uuid: {'vid_emb': vid_emb,\n",
    "                                     'vit_emb': vit_emb,\n",
    "                                     'aud_emb': aud_emb}}\n",
    "            database.update(new_origin)\n",
    "            json.dump(database, open(database_path, 'w'))\n",
    "            updated = True\n",
    "            print('Добавили в БД:', row.uuid)\n",
    "                \n",
    "\n",
    "            \n",
    "       # if os.path.exists(temp_audio_path):\n",
    "            #os.remove(temp_audio_path)\n",
    "    return true, pred, true_uuid, pred_uuid\n",
    "\n",
    "def main():\n",
    "    true, pred, true_uuid, pred_uuid = find_duplicate_videos('dataset/train_data_yappy/train.csv', 'dataset/train_data_yappy/train_dataset', database_path='Hakaton/models/database_train.json')\n",
    "    print('f1-score:', f1_score(true, pred))\n",
    "\n",
    "if __name__ == '__main__':\n",
    "    os.chdir('/home/user1')\n",
    "    main()    "
   ]
  }
 ],
 "metadata": {
  "kernelspec": {
   "display_name": "Python 3 (ipykernel)",
   "language": "python",
   "name": "python3"
  },
  "language_info": {
   "codemirror_mode": {
    "name": "ipython",
    "version": 3
   },
   "file_extension": ".py",
   "mimetype": "text/x-python",
   "name": "python",
   "nbconvert_exporter": "python",
   "pygments_lexer": "ipython3",
   "version": "3.10.12"
  }
 },
 "nbformat": 4,
 "nbformat_minor": 5
}
