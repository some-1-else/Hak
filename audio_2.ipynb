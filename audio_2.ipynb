{
 "cells": [
  {
   "cell_type": "code",
   "execution_count": null,
   "id": "b73be9e3",
   "metadata": {},
   "outputs": [],
   "source": [
    "from pydub import AudioSegment\n",
    "import librosa\n",
    "import numpy as np\n",
    "import tensorflow as tf\n",
    "import tensorflow_hub as hub\n",
    "\n",
    "\n",
    "\n",
    "def extract_audio_embeddings_from_video2(video_path):\n",
    "    model = hub.load('https://tfhub.dev/google/yamnet/1')\n",
    "    try:\n",
    "        # Загружаем аудио из видеофайла\n",
    "        audio = AudioSegment.from_file(video_path)\n",
    "        audio_array = np.array(audio.get_array_of_samples())\n",
    "        \n",
    "        # Частота дискретизации - 16 кГц\n",
    "        sr = 16000\n",
    "        y = audio_array.astype(np.float32)\n",
    "\n",
    "        # Аугментация аудио\n",
    "        noise = np.random.randn(len(y))\n",
    "        y_noise = y + 0.005 * noise\n",
    "        shift = np.roll(y, sr // 10)\n",
    "        y_stretch = librosa.effects.time_stretch(y, rate=0.8)\n",
    "        y_augmented = librosa.effects.preemphasis(y_stretch)\n",
    "\n",
    "        augmented_audios = [y_noise, shift, y_stretch, y_augmented]\n",
    "        \n",
    "        embeddings = []\n",
    "        for augmented_audio in [y] + augmented_audios:\n",
    "            waveform = tf.convert_to_tensor(augmented_audio, dtype=tf.float32)\n",
    "            waveform = tf.reshape(waveform, [-1])  \n",
    "            scores, embedding, _ = model(waveform) \n",
    "\n",
    "            embeddings.append(tf.reduce_mean(embedding, axis=0).numpy())\n",
    "        \n",
    "        embeddings = np.array(embeddings)\n",
    "        \n",
    "        return embeddings\n",
    "\n",
    "    except Exception as e:\n",
    "        print(f\"Ошибка при извлечении эмбеддингов из {video_path}: {e}\")\n",
    "        return None"
   ]
  }
 ],
 "metadata": {
  "kernelspec": {
   "display_name": "Python 3 (ipykernel)",
   "language": "python",
   "name": "python3"
  },
  "language_info": {
   "codemirror_mode": {
    "name": "ipython",
    "version": 3
   },
   "file_extension": ".py",
   "mimetype": "text/x-python",
   "name": "python",
   "nbconvert_exporter": "python",
   "pygments_lexer": "ipython3",
   "version": "3.10.12"
  }
 },
 "nbformat": 4,
 "nbformat_minor": 5
}
